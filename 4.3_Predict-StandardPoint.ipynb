{
 "cells": [
  {
   "attachments": {},
   "cell_type": "markdown",
   "metadata": {},
   "source": [
    "# **Dự đoán điểm chuẩn đại học - Predict Standard Point**"
   ]
  },
  {
   "cell_type": "code",
   "execution_count": 1,
   "metadata": {},
   "outputs": [],
   "source": [
    "import numpy as np\n",
    "import pandas as pd"
   ]
  },
  {
   "cell_type": "code",
   "execution_count": 2,
   "metadata": {},
   "outputs": [],
   "source": [
    "def val_count(data, subject):\n",
    "    result = {}\n",
    "    num = data.shape[0]\n",
    "    for index in range(num):\n",
    "        result[data['diem'][index]] = data[subject][index]\n",
    "    return result"
   ]
  },
  {
   "attachments": {},
   "cell_type": "markdown",
   "metadata": {},
   "source": [
    "### **1. Lấy dữ liệu năm 2021**"
   ]
  },
  {
   "cell_type": "code",
   "execution_count": 3,
   "metadata": {},
   "outputs": [
    {
     "data": {
      "text/html": [
       "<div>\n",
       "<style scoped>\n",
       "    .dataframe tbody tr th:only-of-type {\n",
       "        vertical-align: middle;\n",
       "    }\n",
       "\n",
       "    .dataframe tbody tr th {\n",
       "        vertical-align: top;\n",
       "    }\n",
       "\n",
       "    .dataframe thead th {\n",
       "        text-align: right;\n",
       "    }\n",
       "</style>\n",
       "<table border=\"1\" class=\"dataframe\">\n",
       "  <thead>\n",
       "    <tr style=\"text-align: right;\">\n",
       "      <th></th>\n",
       "      <th>diem</th>\n",
       "      <th>ngu_van</th>\n",
       "      <th>vat_li</th>\n",
       "      <th>hoa_hoc</th>\n",
       "      <th>sinh_hoc</th>\n",
       "      <th>lich_su</th>\n",
       "      <th>dia_ly</th>\n",
       "      <th>gdcd</th>\n",
       "    </tr>\n",
       "  </thead>\n",
       "  <tbody>\n",
       "    <tr>\n",
       "      <th>0</th>\n",
       "      <td>0.00</td>\n",
       "      <td>26</td>\n",
       "      <td>5</td>\n",
       "      <td>10</td>\n",
       "      <td>25</td>\n",
       "      <td>4</td>\n",
       "      <td>94</td>\n",
       "      <td>24</td>\n",
       "    </tr>\n",
       "    <tr>\n",
       "      <th>1</th>\n",
       "      <td>0.25</td>\n",
       "      <td>10</td>\n",
       "      <td>2</td>\n",
       "      <td>1</td>\n",
       "      <td>1</td>\n",
       "      <td>7</td>\n",
       "      <td>1</td>\n",
       "      <td>0</td>\n",
       "    </tr>\n",
       "    <tr>\n",
       "      <th>2</th>\n",
       "      <td>0.50</td>\n",
       "      <td>45</td>\n",
       "      <td>1</td>\n",
       "      <td>1</td>\n",
       "      <td>1</td>\n",
       "      <td>24</td>\n",
       "      <td>3</td>\n",
       "      <td>1</td>\n",
       "    </tr>\n",
       "    <tr>\n",
       "      <th>3</th>\n",
       "      <td>0.75</td>\n",
       "      <td>68</td>\n",
       "      <td>3</td>\n",
       "      <td>20</td>\n",
       "      <td>11</td>\n",
       "      <td>125</td>\n",
       "      <td>9</td>\n",
       "      <td>2</td>\n",
       "    </tr>\n",
       "    <tr>\n",
       "      <th>4</th>\n",
       "      <td>1.00</td>\n",
       "      <td>23</td>\n",
       "      <td>14</td>\n",
       "      <td>26</td>\n",
       "      <td>37</td>\n",
       "      <td>380</td>\n",
       "      <td>11</td>\n",
       "      <td>2</td>\n",
       "    </tr>\n",
       "  </tbody>\n",
       "</table>\n",
       "</div>"
      ],
      "text/plain": [
       "   diem  ngu_van  vat_li  hoa_hoc  sinh_hoc  lich_su  dia_ly  gdcd\n",
       "0  0.00       26       5       10        25        4      94    24\n",
       "1  0.25       10       2        1         1        7       1     0\n",
       "2  0.50       45       1        1         1       24       3     1\n",
       "3  0.75       68       3       20        11      125       9     2\n",
       "4  1.00       23      14       26        37      380      11     2"
      ]
     },
     "execution_count": 3,
     "metadata": {},
     "output_type": "execute_result"
    }
   ],
   "source": [
    "data2021_1 = pd.read_csv(\"./data/data_2021(01).csv\")\n",
    "data2021_1.head()"
   ]
  },
  {
   "cell_type": "code",
   "execution_count": 4,
   "metadata": {},
   "outputs": [],
   "source": [
    "point_count2021 = \\\n",
    "{\\\n",
    "'ngu_van'   : val_count(data2021_1, 'ngu_van'),\n",
    "'vat_li'    : val_count(data2021_1, 'vat_li'),\n",
    "'hoa_hoc'   : val_count(data2021_1, 'hoa_hoc'),\n",
    "'sinh_hoc'  : val_count(data2021_1, 'sinh_hoc'),\n",
    "'lich_su'   : val_count(data2021_1, 'lich_su'),\n",
    "'dia_ly'    : val_count(data2021_1, 'dia_ly'),\n",
    "'gdcd'      : val_count(data2021_1, 'gdcd'),\n",
    "}"
   ]
  },
  {
   "cell_type": "code",
   "execution_count": 5,
   "metadata": {},
   "outputs": [
    {
     "data": {
      "text/html": [
       "<div>\n",
       "<style scoped>\n",
       "    .dataframe tbody tr th:only-of-type {\n",
       "        vertical-align: middle;\n",
       "    }\n",
       "\n",
       "    .dataframe tbody tr th {\n",
       "        vertical-align: top;\n",
       "    }\n",
       "\n",
       "    .dataframe thead th {\n",
       "        text-align: right;\n",
       "    }\n",
       "</style>\n",
       "<table border=\"1\" class=\"dataframe\">\n",
       "  <thead>\n",
       "    <tr style=\"text-align: right;\">\n",
       "      <th></th>\n",
       "      <th>diem</th>\n",
       "      <th>toan</th>\n",
       "      <th>ngoai_ngu</th>\n",
       "    </tr>\n",
       "  </thead>\n",
       "  <tbody>\n",
       "    <tr>\n",
       "      <th>0</th>\n",
       "      <td>0.0</td>\n",
       "      <td>1</td>\n",
       "      <td>1</td>\n",
       "    </tr>\n",
       "    <tr>\n",
       "      <th>1</th>\n",
       "      <td>0.2</td>\n",
       "      <td>0</td>\n",
       "      <td>0</td>\n",
       "    </tr>\n",
       "    <tr>\n",
       "      <th>2</th>\n",
       "      <td>0.4</td>\n",
       "      <td>0</td>\n",
       "      <td>0</td>\n",
       "    </tr>\n",
       "    <tr>\n",
       "      <th>3</th>\n",
       "      <td>0.6</td>\n",
       "      <td>11</td>\n",
       "      <td>3</td>\n",
       "    </tr>\n",
       "    <tr>\n",
       "      <th>4</th>\n",
       "      <td>0.8</td>\n",
       "      <td>22</td>\n",
       "      <td>34</td>\n",
       "    </tr>\n",
       "  </tbody>\n",
       "</table>\n",
       "</div>"
      ],
      "text/plain": [
       "   diem  toan  ngoai_ngu\n",
       "0   0.0     1          1\n",
       "1   0.2     0          0\n",
       "2   0.4     0          0\n",
       "3   0.6    11          3\n",
       "4   0.8    22         34"
      ]
     },
     "execution_count": 5,
     "metadata": {},
     "output_type": "execute_result"
    }
   ],
   "source": [
    "data2021_2 = pd.read_csv(\"./data/data_2021(02).csv\")\n",
    "data2021_2.head()"
   ]
  },
  {
   "cell_type": "code",
   "execution_count": 6,
   "metadata": {},
   "outputs": [],
   "source": [
    "point_count2021['toan'] = val_count(data2021_2, 'toan')\n",
    "point_count2021['ngoai_ngu'] = val_count(data2021_2, 'ngoai_ngu')"
   ]
  },
  {
   "attachments": {},
   "cell_type": "markdown",
   "metadata": {},
   "source": [
    "### **2. Lấy dữ liệu năm 2022**"
   ]
  },
  {
   "cell_type": "code",
   "execution_count": 7,
   "metadata": {},
   "outputs": [
    {
     "data": {
      "text/html": [
       "<div>\n",
       "<style scoped>\n",
       "    .dataframe tbody tr th:only-of-type {\n",
       "        vertical-align: middle;\n",
       "    }\n",
       "\n",
       "    .dataframe tbody tr th {\n",
       "        vertical-align: top;\n",
       "    }\n",
       "\n",
       "    .dataframe thead th {\n",
       "        text-align: right;\n",
       "    }\n",
       "</style>\n",
       "<table border=\"1\" class=\"dataframe\">\n",
       "  <thead>\n",
       "    <tr style=\"text-align: right;\">\n",
       "      <th></th>\n",
       "      <th>cum</th>\n",
       "      <th>sbd</th>\n",
       "      <th>toan</th>\n",
       "      <th>ngu_van</th>\n",
       "      <th>ngoai_ngu</th>\n",
       "      <th>vat_li</th>\n",
       "      <th>hoa_hoc</th>\n",
       "      <th>sinh_hoc</th>\n",
       "      <th>lich_su</th>\n",
       "      <th>dia_ly</th>\n",
       "      <th>gdcd</th>\n",
       "      <th>phan_loai</th>\n",
       "      <th>tong_diem_3_mon</th>\n",
       "      <th>khoi_thi</th>\n",
       "    </tr>\n",
       "  </thead>\n",
       "  <tbody>\n",
       "    <tr>\n",
       "      <th>0</th>\n",
       "      <td>1</td>\n",
       "      <td>1000001</td>\n",
       "      <td>3.6</td>\n",
       "      <td>5.00</td>\n",
       "      <td>4.0</td>\n",
       "      <td>NaN</td>\n",
       "      <td>NaN</td>\n",
       "      <td>NaN</td>\n",
       "      <td>2.75</td>\n",
       "      <td>6.0</td>\n",
       "      <td>8.75</td>\n",
       "      <td>THPT_KHXH</td>\n",
       "      <td>13.75</td>\n",
       "      <td>C00</td>\n",
       "    </tr>\n",
       "    <tr>\n",
       "      <th>1</th>\n",
       "      <td>1</td>\n",
       "      <td>1000002</td>\n",
       "      <td>8.4</td>\n",
       "      <td>6.75</td>\n",
       "      <td>7.6</td>\n",
       "      <td>NaN</td>\n",
       "      <td>NaN</td>\n",
       "      <td>NaN</td>\n",
       "      <td>8.50</td>\n",
       "      <td>7.5</td>\n",
       "      <td>8.25</td>\n",
       "      <td>THPT_KHXH</td>\n",
       "      <td>24.40</td>\n",
       "      <td>A07</td>\n",
       "    </tr>\n",
       "    <tr>\n",
       "      <th>2</th>\n",
       "      <td>1</td>\n",
       "      <td>1000003</td>\n",
       "      <td>5.8</td>\n",
       "      <td>7.50</td>\n",
       "      <td>5.0</td>\n",
       "      <td>NaN</td>\n",
       "      <td>NaN</td>\n",
       "      <td>NaN</td>\n",
       "      <td>7.25</td>\n",
       "      <td>5.5</td>\n",
       "      <td>8.75</td>\n",
       "      <td>THPT_KHXH</td>\n",
       "      <td>20.25</td>\n",
       "      <td>C00</td>\n",
       "    </tr>\n",
       "    <tr>\n",
       "      <th>3</th>\n",
       "      <td>1</td>\n",
       "      <td>1000004</td>\n",
       "      <td>7.4</td>\n",
       "      <td>7.50</td>\n",
       "      <td>8.6</td>\n",
       "      <td>NaN</td>\n",
       "      <td>NaN</td>\n",
       "      <td>NaN</td>\n",
       "      <td>7.50</td>\n",
       "      <td>6.5</td>\n",
       "      <td>7.50</td>\n",
       "      <td>THPT_KHXH</td>\n",
       "      <td>23.50</td>\n",
       "      <td>D01</td>\n",
       "    </tr>\n",
       "    <tr>\n",
       "      <th>4</th>\n",
       "      <td>1</td>\n",
       "      <td>1000005</td>\n",
       "      <td>7.2</td>\n",
       "      <td>8.50</td>\n",
       "      <td>9.0</td>\n",
       "      <td>NaN</td>\n",
       "      <td>NaN</td>\n",
       "      <td>NaN</td>\n",
       "      <td>8.00</td>\n",
       "      <td>8.5</td>\n",
       "      <td>8.25</td>\n",
       "      <td>THPT_KHXH</td>\n",
       "      <td>25.00</td>\n",
       "      <td>C00</td>\n",
       "    </tr>\n",
       "  </tbody>\n",
       "</table>\n",
       "</div>"
      ],
      "text/plain": [
       "   cum      sbd  toan  ngu_van  ngoai_ngu  vat_li  hoa_hoc  sinh_hoc  lich_su  \\\n",
       "0    1  1000001   3.6     5.00        4.0     NaN      NaN       NaN     2.75   \n",
       "1    1  1000002   8.4     6.75        7.6     NaN      NaN       NaN     8.50   \n",
       "2    1  1000003   5.8     7.50        5.0     NaN      NaN       NaN     7.25   \n",
       "3    1  1000004   7.4     7.50        8.6     NaN      NaN       NaN     7.50   \n",
       "4    1  1000005   7.2     8.50        9.0     NaN      NaN       NaN     8.00   \n",
       "\n",
       "   dia_ly  gdcd  phan_loai  tong_diem_3_mon khoi_thi  \n",
       "0     6.0  8.75  THPT_KHXH            13.75      C00  \n",
       "1     7.5  8.25  THPT_KHXH            24.40      A07  \n",
       "2     5.5  8.75  THPT_KHXH            20.25      C00  \n",
       "3     6.5  7.50  THPT_KHXH            23.50      D01  \n",
       "4     8.5  8.25  THPT_KHXH            25.00      C00  "
      ]
     },
     "execution_count": 7,
     "metadata": {},
     "output_type": "execute_result"
    }
   ],
   "source": [
    "data_2022 = pd.read_csv('new_data1.csv')\n",
    "data_2022.head()"
   ]
  },
  {
   "cell_type": "code",
   "execution_count": 8,
   "metadata": {},
   "outputs": [],
   "source": [
    "point_count2022 = \\\n",
    "{\\\n",
    "'toan'      : dict(data_2022['toan'].value_counts()),\n",
    "'ngoai_ngu' : dict(data_2022['ngoai_ngu'].value_counts()),\n",
    "'ngu_van'   : dict(data_2022['ngu_van'].value_counts()),\n",
    "'vat_li'    : dict(data_2022['vat_li'].value_counts()),\n",
    "'hoa_hoc'   : dict(data_2022['hoa_hoc'].value_counts()),\n",
    "'sinh_hoc'  : dict(data_2022['sinh_hoc'].value_counts()),\n",
    "'lich_su'   : dict(data_2022['lich_su'].value_counts()),\n",
    "'dia_ly'    : dict(data_2022['dia_ly'].value_counts()),\n",
    "'gdcd'      : dict(data_2022['gdcd'].value_counts()),\n",
    "}"
   ]
  },
  {
   "attachments": {},
   "cell_type": "markdown",
   "metadata": {},
   "source": [
    "### **3. Tỷ lệ học sinh trên X năm 2022 so với 2021**"
   ]
  },
  {
   "cell_type": "code",
   "execution_count": 9,
   "metadata": {},
   "outputs": [],
   "source": [
    "def rate(subject_2021, subject_2022, min_point):\n",
    "    sum2021 = 0\n",
    "    sum2022 = 0\n",
    "    full2021 = 0\n",
    "    full2022 = 0\n",
    "    for point in subject_2021:\n",
    "        try:\n",
    "            full2021 += subject_2021[point]\n",
    "            full2022 += subject_2022[point]\n",
    "            if point >= min_point:\n",
    "                sum2021 += subject_2021[point]\n",
    "                sum2022 += subject_2022[point]\n",
    "        except:\n",
    "            continue\n",
    "\n",
    "    rate = (sum2022 / full2022) / (sum2021 / full2021)\n",
    "    return rate"
   ]
  },
  {
   "cell_type": "code",
   "execution_count": 10,
   "metadata": {},
   "outputs": [],
   "source": [
    "def dic_rate(data1, data2, min_point):\n",
    "    res = {}\n",
    "    for sub in data1:\n",
    "        res[sub] = rate(data1[sub], data2[sub], min_point)\n",
    "    return res"
   ]
  },
  {
   "cell_type": "code",
   "execution_count": 11,
   "metadata": {},
   "outputs": [
    {
     "name": "stdout",
     "output_type": "stream",
     "text": [
      "{'ngu_van': 1.1379575636191872, 'vat_li': 1.2412913283893174, 'hoa_hoc': 1.119856329497466, 'sinh_hoc': 0.7034398588379197, 'lich_su': 2.5791232451566017, 'dia_ly': 0.7583814733187179, 'gdcd': 0.865617250804654, 'toan': 0.8444845424820955, 'ngoai_ngu': 0.5021423418760592}\n",
      "{'ngu_van': 1.6098835005930603, 'vat_li': 3.13302756493306, 'hoa_hoc': 1.501100346494167, 'sinh_hoc': 0.330759908359931, 'lich_su': 2.609589843475174, 'dia_ly': 0.6765593325736329, 'gdcd': 0.5592383594039315, 'toan': 0.5659612792143117, 'ngoai_ngu': 0.33937490400587034}\n"
     ]
    }
   ],
   "source": [
    "rate_8_subject = dic_rate(point_count2021, point_count2022, 8)\n",
    "rate_9_subject = dic_rate(point_count2021, point_count2022, 9)\n",
    "print(rate_8_subject)\n",
    "print(rate_9_subject)"
   ]
  },
  {
   "attachments": {},
   "cell_type": "markdown",
   "metadata": {},
   "source": [
    "### **4. Tính điểm chuẩn (dự đoán) qua tỉ lệ học sinh trên 8 điểm**"
   ]
  },
  {
   "cell_type": "code",
   "execution_count": 12,
   "metadata": {},
   "outputs": [],
   "source": [
    "khoiA00 = ['toan','vat_li','hoa_hoc']\n",
    "khoiA01 = ['toan', 'vat_li', 'ngoai_ngu']\n",
    "khoiA02 = ['toan', 'vat_li', 'sinh_hoc']\n",
    "khoiA07 = ['toan', 'lich_su', 'dia_ly']\n",
    "khoiB00 = ['toan', 'sinh_hoc', 'hoa_hoc']\n",
    "khoiB03 = ['toan', 'sinh_hoc', 'ngu_van']\n",
    "khoiB08 = ['toan', 'sinh_hoc', 'ngoai_ngu']\n",
    "khoiC00 = ['ngu_van', 'lich_su', 'dia_ly']\n",
    "khoiC01 = ['ngu_van', 'toan', 'vat_li']\n",
    "khoiC02 = ['ngu_van', 'toan', 'hoa_hoc']\n",
    "khoiD01 = ['ngu_van', 'toan', 'ngoai_ngu']\n",
    "khoiD07 = ['toan', 'hoa_hoc', 'ngoai_ngu'] \n",
    "khoiD08 = ['toan', 'sinh_hoc', 'ngoai_ngu']\n",
    "\n",
    "\n",
    "khoi_thi = {'A00': khoiA00, 'A01': khoiA01, 'A02': khoiA02, 'A07': khoiA07, \n",
    "            'B00': khoiB00, 'B03': khoiB03, 'B08': khoiB08, \n",
    "            'C00': khoiC00, 'C01': khoiC01, 'C02': khoiC02, \n",
    "            'D01': khoiD01, 'D07': khoiD07}"
   ]
  },
  {
   "cell_type": "code",
   "execution_count": 13,
   "metadata": {},
   "outputs": [
    {
     "name": "stdout",
     "output_type": "stream",
     "text": [
      "C00    379394\n",
      "A07    190098\n",
      "D01    123663\n",
      "A00     96795\n",
      "C01     51762\n",
      "C02     51064\n",
      "A01     45924\n",
      "B00     20346\n",
      "D07     19563\n",
      "B03      8101\n",
      "A02      2863\n",
      "B08      2422\n",
      "Name: khoi_thi, dtype: int64\n"
     ]
    }
   ],
   "source": [
    "khoi_count = data_2022['khoi_thi'].value_counts()\n",
    "print(khoi_count)"
   ]
  },
  {
   "cell_type": "code",
   "execution_count": 34,
   "metadata": {},
   "outputs": [],
   "source": [
    "def predict_score(diem2021, khoi_count, khoi_xet_tuyen, rate8, rate9):\n",
    "    diem2022 = 0\n",
    "    rate_count = {}\n",
    "    sum_count = 0\n",
    "    for khoi in khoi_xet_tuyen:\n",
    "        sum_count += khoi_count[khoi]\n",
    "        subjects = khoi_thi[khoi]\n",
    "        rate_khoi = 0\n",
    "        for sub in subjects:\n",
    "            rate_khoi += rate8[sub] * 0.97 + rate9[sub] * 0.03\n",
    "        rate_count[khoi] = rate_khoi / len(subjects)\n",
    "    for khoi in khoi_xet_tuyen:\n",
    "        diem2022 += rate_count[khoi] * khoi_count[khoi] / sum_count\n",
    "    \n",
    "    diem2022 = diem2022 * diem2021\n",
    "    return diem2022"
   ]
  },
  {
   "cell_type": "code",
   "execution_count": 35,
   "metadata": {},
   "outputs": [
    {
     "name": "stdout",
     "output_type": "stream",
     "text": [
      "27.174712448444073\n"
     ]
    }
   ],
   "source": [
    "# Ngành: Nhóm ngành CNTT - trường ĐH Khoa học tự nhiên - DHQG TP.HCM --> 27.2\n",
    "diem2021 = 27.4\n",
    "khoi_xet_tuyen = ['A00', 'A01', 'B08', 'D07']\n",
    "diem2022 = predict_score(diem2021, khoi_count, khoi_xet_tuyen, rate_8_subject, rate_9_subject)\n",
    "print(diem2022)"
   ]
  },
  {
   "cell_type": "code",
   "execution_count": 36,
   "metadata": {},
   "outputs": [
    {
     "name": "stdout",
     "output_type": "stream",
     "text": [
      "22.782139949872334\n"
     ]
    }
   ],
   "source": [
    "# Ngành: Công nghệ sinh học - trường ĐH Khoa học tự nhiên - DHQG TP.HCM -->23.75\n",
    "diem2021 = 25.5\n",
    "khoi_xet_tuyen = ['A02', 'B00']\n",
    "diem2022 = predict_score(diem2021, khoi_count, khoi_xet_tuyen, rate_8_subject, rate_9_subject)\n",
    "print(diem2022)"
   ]
  },
  {
   "cell_type": "code",
   "execution_count": 37,
   "metadata": {},
   "outputs": [
    {
     "name": "stdout",
     "output_type": "stream",
     "text": [
      "25.808695545268623\n"
     ]
    }
   ],
   "source": [
    "# Ngành: Hóa học - trường ĐH Khoa học tự nhiên - DHQG TP.HCM -->23.75\n",
    "diem2021 = 24.5\n",
    "khoi_xet_tuyen = ['A00', 'B00']\n",
    "diem2022 = predict_score(diem2021, khoi_count, khoi_xet_tuyen, rate_8_subject, rate_9_subject)\n",
    "print(diem2022)"
   ]
  },
  {
   "cell_type": "code",
   "execution_count": 40,
   "metadata": {},
   "outputs": [
    {
     "name": "stdout",
     "output_type": "stream",
     "text": [
      "28.001717409695782\n"
     ]
    }
   ],
   "source": [
    "# Ngành: Kiểm toán - Đại học Kinh tế quốc dân --> 28.15\n",
    "diem2021 = 28.1\n",
    "khoi_xet_tuyen = ['A00', 'A01', 'D07']\n",
    "diem2022 = predict_score(diem2021, khoi_count, khoi_xet_tuyen, rate_8_subject, rate_9_subject)\n",
    "print(diem2022)"
   ]
  },
  {
   "cell_type": "code",
   "execution_count": 41,
   "metadata": {},
   "outputs": [
    {
     "name": "stdout",
     "output_type": "stream",
     "text": [
      "24.91235431103725\n"
     ]
    }
   ],
   "source": [
    "# Ngành: Răng-Hàm-Mặt - Đại học Y Hà Nội --> 27.7\n",
    "diem2021 = 28.1\n",
    "khoi_xet_tuyen = ['B00']\n",
    "diem2022 = predict_score(diem2021, khoi_count, khoi_xet_tuyen, rate_8_subject, rate_9_subject)\n",
    "print(diem2022)"
   ]
  },
  {
   "cell_type": "code",
   "execution_count": null,
   "metadata": {},
   "outputs": [],
   "source": []
  }
 ],
 "metadata": {
  "kernelspec": {
   "display_name": "Python 3",
   "language": "python",
   "name": "python3"
  },
  "language_info": {
   "codemirror_mode": {
    "name": "ipython",
    "version": 3
   },
   "file_extension": ".py",
   "mimetype": "text/x-python",
   "name": "python",
   "nbconvert_exporter": "python",
   "pygments_lexer": "ipython3",
   "version": "3.11.1"
  },
  "orig_nbformat": 4,
  "vscode": {
   "interpreter": {
    "hash": "4d43f3af415dea463eba6e6e7c029e07456a23ee008687b618be8203949b8486"
   }
  }
 },
 "nbformat": 4,
 "nbformat_minor": 2
}
