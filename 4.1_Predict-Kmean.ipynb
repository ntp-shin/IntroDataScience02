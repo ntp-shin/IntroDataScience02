{
 "cells": [
  {
   "attachments": {},
   "cell_type": "markdown",
   "metadata": {},
   "source": [
    "# **Phân cụm dữ liệu - Kmeans**"
   ]
  },
  {
   "attachments": {},
   "cell_type": "markdown",
   "metadata": {},
   "source": [
    "## **1. Phân cụm khối thi**"
   ]
  },
  {
   "attachments": {},
   "cell_type": "markdown",
   "metadata": {},
   "source": [
    "- Tạo list lưu 15 khối phổ biến nhất\n",
    "- Từ điểm 3 môn cao nhất + độ phổ biến dự đoán khối thi của thí sinh => Đưa vào 1 cột mới 'khoi_thi'\n",
    "- Nếu điểm 3 môn cao nhất không thuộc 15 khối phổ biến thì phải chọn 3 môn có tổng cao thứ 2\n"
   ]
  },
  {
   "attachments": {},
   "cell_type": "markdown",
   "metadata": {},
   "source": [
    "## **2. Khối thi**"
   ]
  },
  {
   "attachments": {},
   "cell_type": "markdown",
   "metadata": {},
   "source": [
    "- Tìm chỉ số k phù hợp cho Kmeans\n",
    "https://www.geeksforgeeks.org/elbow-method-for-optimal-value-of-k-in-kmeans/\n",
    "- Chia ra các cụm (cluster)\n",
    "- df.head() => Nhận xét điểm riêng từng cụm\n",
    "- Đặt tên cho từng cụm"
   ]
  }
 ],
 "metadata": {
  "kernelspec": {
   "display_name": "Python 3",
   "language": "python",
   "name": "python3"
  },
  "language_info": {
   "name": "python",
   "version": "3.10.2 (tags/v3.10.2:a58ebcc, Jan 17 2022, 14:12:15) [MSC v.1929 64 bit (AMD64)]"
  },
  "orig_nbformat": 4,
  "vscode": {
   "interpreter": {
    "hash": "0c3f1a7d561c5e7000fe22e0f69c159d058d18792b6544b4cdea00d1b72ad225"
   }
  }
 },
 "nbformat": 4,
 "nbformat_minor": 2
}
