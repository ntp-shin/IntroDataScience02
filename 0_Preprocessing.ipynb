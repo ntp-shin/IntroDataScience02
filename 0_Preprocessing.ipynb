{
 "cells": [
  {
   "attachments": {},
   "cell_type": "markdown",
   "metadata": {},
   "source": [
    "# Tiền xử lí dữ liệu - Preprocessing data"
   ]
  },
  {
   "cell_type": "code",
   "execution_count": 52,
   "metadata": {},
   "outputs": [],
   "source": [
    "import pandas as pd\n",
    "import numpy as np"
   ]
  },
  {
   "cell_type": "code",
   "execution_count": 53,
   "metadata": {},
   "outputs": [
    {
     "data": {
      "text/html": [
       "<div>\n",
       "<style scoped>\n",
       "    .dataframe tbody tr th:only-of-type {\n",
       "        vertical-align: middle;\n",
       "    }\n",
       "\n",
       "    .dataframe tbody tr th {\n",
       "        vertical-align: top;\n",
       "    }\n",
       "\n",
       "    .dataframe thead th {\n",
       "        text-align: right;\n",
       "    }\n",
       "</style>\n",
       "<table border=\"1\" class=\"dataframe\">\n",
       "  <thead>\n",
       "    <tr style=\"text-align: right;\">\n",
       "      <th></th>\n",
       "      <th>cum</th>\n",
       "      <th>sbd</th>\n",
       "      <th>toan</th>\n",
       "      <th>ngu_van</th>\n",
       "      <th>ngoai_ngu</th>\n",
       "      <th>vat_li</th>\n",
       "      <th>hoa_hoc</th>\n",
       "      <th>sinh_hoc</th>\n",
       "      <th>lich_su</th>\n",
       "      <th>dia_ly</th>\n",
       "      <th>gdcd</th>\n",
       "    </tr>\n",
       "  </thead>\n",
       "  <tbody>\n",
       "    <tr>\n",
       "      <th>0</th>\n",
       "      <td>1</td>\n",
       "      <td>1000001</td>\n",
       "      <td>3.6</td>\n",
       "      <td>5.00</td>\n",
       "      <td>4.0</td>\n",
       "      <td>NaN</td>\n",
       "      <td>NaN</td>\n",
       "      <td>NaN</td>\n",
       "      <td>2.75</td>\n",
       "      <td>6.0</td>\n",
       "      <td>8.75</td>\n",
       "    </tr>\n",
       "    <tr>\n",
       "      <th>1</th>\n",
       "      <td>1</td>\n",
       "      <td>1000002</td>\n",
       "      <td>8.4</td>\n",
       "      <td>6.75</td>\n",
       "      <td>7.6</td>\n",
       "      <td>NaN</td>\n",
       "      <td>NaN</td>\n",
       "      <td>NaN</td>\n",
       "      <td>8.50</td>\n",
       "      <td>7.5</td>\n",
       "      <td>8.25</td>\n",
       "    </tr>\n",
       "    <tr>\n",
       "      <th>2</th>\n",
       "      <td>1</td>\n",
       "      <td>1000003</td>\n",
       "      <td>5.8</td>\n",
       "      <td>7.50</td>\n",
       "      <td>5.0</td>\n",
       "      <td>NaN</td>\n",
       "      <td>NaN</td>\n",
       "      <td>NaN</td>\n",
       "      <td>7.25</td>\n",
       "      <td>5.5</td>\n",
       "      <td>8.75</td>\n",
       "    </tr>\n",
       "    <tr>\n",
       "      <th>3</th>\n",
       "      <td>1</td>\n",
       "      <td>1000004</td>\n",
       "      <td>7.4</td>\n",
       "      <td>7.50</td>\n",
       "      <td>8.6</td>\n",
       "      <td>NaN</td>\n",
       "      <td>NaN</td>\n",
       "      <td>NaN</td>\n",
       "      <td>7.50</td>\n",
       "      <td>6.5</td>\n",
       "      <td>7.50</td>\n",
       "    </tr>\n",
       "    <tr>\n",
       "      <th>4</th>\n",
       "      <td>1</td>\n",
       "      <td>1000005</td>\n",
       "      <td>7.2</td>\n",
       "      <td>8.50</td>\n",
       "      <td>9.0</td>\n",
       "      <td>NaN</td>\n",
       "      <td>NaN</td>\n",
       "      <td>NaN</td>\n",
       "      <td>8.00</td>\n",
       "      <td>8.5</td>\n",
       "      <td>8.25</td>\n",
       "    </tr>\n",
       "  </tbody>\n",
       "</table>\n",
       "</div>"
      ],
      "text/plain": [
       "   cum      sbd  toan  ngu_van  ngoai_ngu  vat_li  hoa_hoc  sinh_hoc  lich_su  \\\n",
       "0    1  1000001   3.6     5.00        4.0     NaN      NaN       NaN     2.75   \n",
       "1    1  1000002   8.4     6.75        7.6     NaN      NaN       NaN     8.50   \n",
       "2    1  1000003   5.8     7.50        5.0     NaN      NaN       NaN     7.25   \n",
       "3    1  1000004   7.4     7.50        8.6     NaN      NaN       NaN     7.50   \n",
       "4    1  1000005   7.2     8.50        9.0     NaN      NaN       NaN     8.00   \n",
       "\n",
       "   dia_ly  gdcd  \n",
       "0     6.0  8.75  \n",
       "1     7.5  8.25  \n",
       "2     5.5  8.75  \n",
       "3     6.5  7.50  \n",
       "4     8.5  8.25  "
      ]
     },
     "execution_count": 53,
     "metadata": {},
     "output_type": "execute_result"
    }
   ],
   "source": [
    "df = pd.read_csv('data.csv')\n",
    "df.head()"
   ]
  },
  {
   "attachments": {},
   "cell_type": "markdown",
   "metadata": {},
   "source": [
    "### **Nhận xét:**\n",
    "Cơ bản sẽ có 4 đối tượng thi:\n",
    "- **1. Khóa 2022 thi THPTQG:**\n",
    "\n",
    "    - Khối khoa học tự nhiến: Toán Văn Anh Lý Hóa Sinh --- 6 môn\n",
    "    - Khôi khoc học xã hội : Toán Văn Anh Sử Địa GDCD --- 6 môn  \n",
    "    \n",
    "- **2. Giáo dục thường xuyên xét tốt nghiệp + đại học:**\n",
    "\n",
    "    - Thi 3 môn tổ hợp khtn hoặc khxh\n",
    "    - Không thi tiếng anh\n",
    "    - Tổng thi: 5 môn\n",
    "    - VD: KHTN: Toán Văn  Lý Hóa Sinh\n",
    "    - VD: KHXH: Toán Văn  Sử Địa GDCD\n",
    "\n",
    "- **3. Khóa 2021 về trước thi lại đại học (Đã tốt nghiệp THPT)**\n",
    "\n",
    "    - Thi một khối duy nhất (Vd: khối A - Toán Lý Hóa)         --- 3  môn\n",
    "    - Thi nhiều hơn một khối (Vd: khối A B - Toán Lý Hóa Sinh) --- 3 < số môn < 6\n",
    "\n",
    "- **4. Khóa 2021 về trước thi lại tốt nghiệp (Chưa tốt nghiệp):**\n",
    "\n",
    "    - Một số môn năm trước đủ cao và đã bảo lưu\n",
    "    - Chỉ thi những môn còn thiếu để xét tốt nghiệp\n",
    "    - Nếu thi >= 3 môn thì có thể lấy điểm 3 môn đó xét điểm ĐH nên đưa vào trường hợp phía trên (TH3)\n",
    "    - Chỉ thi 1 - 2 môn\n",
    "    "
   ]
  },
  {
   "cell_type": "markdown",
   "metadata": {},
   "source": [
    "### **1. Kiểm tra kiểu dữ liệu**"
   ]
  },
  {
   "cell_type": "code",
   "execution_count": 54,
   "metadata": {},
   "outputs": [
    {
     "name": "stdout",
     "output_type": "stream",
     "text": [
      "cum            int64\n",
      "sbd            int64\n",
      "toan         float64\n",
      "ngu_van      float64\n",
      "ngoai_ngu    float64\n",
      "vat_li       float64\n",
      "hoa_hoc      float64\n",
      "sinh_hoc     float64\n",
      "lich_su      float64\n",
      "dia_ly       float64\n",
      "gdcd         float64\n",
      "dtype: object\n"
     ]
    }
   ],
   "source": [
    "print(df.dtypes)"
   ]
  },
  {
   "cell_type": "markdown",
   "metadata": {},
   "source": [
    "### **2. Xác định các trường hợp xảy ra**"
   ]
  },
  {
   "cell_type": "code",
   "execution_count": 55,
   "metadata": {},
   "outputs": [
    {
     "data": {
      "text/plain": [
       "cum          995441\n",
       "sbd          995441\n",
       "toan         982726\n",
       "ngu_van      981407\n",
       "ngoai_ngu    870609\n",
       "vat_li       325523\n",
       "hoa_hoc      327367\n",
       "sinh_hoc     322198\n",
       "lich_su      659662\n",
       "dia_ly       657421\n",
       "gdcd         554343\n",
       "dtype: int64"
      ]
     },
     "execution_count": 55,
     "metadata": {},
     "output_type": "execute_result"
    }
   ],
   "source": [
    "df.count()"
   ]
  },
  {
   "attachments": {},
   "cell_type": "markdown",
   "metadata": {},
   "source": [
    "*Có thể thấy số lượng thí sinh của từng môn đề khác nhau. Điều này xảy ra là do những thí sinh thi tự do và chỉ thi những môn mà mình mong muốn.*"
   ]
  },
  {
   "cell_type": "code",
   "execution_count": 56,
   "metadata": {},
   "outputs": [
    {
     "name": "stdout",
     "output_type": "stream",
     "text": [
      "[False False False False False False  True  True  True]  -->  309162\n",
      "[False False False False False  True  True  True  True]  -->  105\n",
      "[False False False False  True False  True  True  True]  -->  4\n",
      "[False False False False  True  True  True  True  True]  -->  176\n",
      "[False False False  True False False  True  True  True]  -->  47\n",
      "[False False False  True False  True  True  True  True]  -->  54\n",
      "[False False False  True  True False  True  True  True]  -->  8\n",
      "[False False False  True  True  True False False False]  -->  549574\n",
      "[False False False  True  True  True False False  True]  -->  1804\n",
      "[False False False  True  True  True False  True False]  -->  40\n",
      "[False False False  True  True  True False  True  True]  -->  257\n",
      "[False False False  True  True  True  True False False]  -->  30\n",
      "[False False False  True  True  True  True False  True]  -->  104\n",
      "[False False False  True  True  True  True  True False]  -->  34\n",
      "[False False False  True  True  True  True  True  True]  -->  5331\n",
      "[False False  True False False False  True  True  True]  -->  6100\n",
      "[False False  True False False  True  True  True  True]  -->  17\n",
      "[False False  True False  True False  True  True  True]  -->  1\n",
      "[False False  True False  True  True  True  True  True]  -->  20\n",
      "[False False  True  True False False  True  True  True]  -->  5\n",
      "[False False  True  True False  True  True  True  True]  -->  4\n",
      "[False False  True  True  True False  True  True  True]  -->  2\n",
      "[False False  True  True  True  True False False False]  -->  3721\n",
      "[False False  True  True  True  True False False  True]  -->  89903\n",
      "[False False  True  True  True  True False  True False]  -->  3\n",
      "[False False  True  True  True  True False  True  True]  -->  2016\n",
      "[False False  True  True  True  True  True False False]  -->  9\n",
      "[False False  True  True  True  True  True False  True]  -->  22\n",
      "[False False  True  True  True  True  True  True False]  -->  15\n",
      "[False False  True  True  True  True  True  True  True]  -->  297\n",
      "[False  True False False False False  True  True  True]  -->  658\n",
      "[False  True False False False  True  True  True  True]  -->  485\n",
      "[False  True False False  True False  True  True  True]  -->  8\n",
      "[False  True False False  True  True  True  True  True]  -->  1566\n",
      "[False  True False  True False False  True  True  True]  -->  251\n",
      "[False  True False  True False  True  True  True  True]  -->  158\n",
      "[False  True False  True  True False  True  True  True]  -->  15\n",
      "[False  True False  True  True  True False False False]  -->  45\n",
      "[False  True False  True  True  True False False  True]  -->  16\n",
      "[False  True False  True  True  True False  True False]  -->  4\n",
      "[False  True False  True  True  True False  True  True]  -->  44\n",
      "[False  True False  True  True  True  True False False]  -->  2\n",
      "[False  True False  True  True  True  True False  True]  -->  23\n",
      "[False  True False  True  True  True  True  True False]  -->  2\n",
      "[False  True False  True  True  True  True  True  True]  -->  66\n",
      "[False  True  True False False False  True  True  True]  -->  2751\n",
      "[False  True  True False False  True  True  True  True]  -->  4395\n",
      "[False  True  True False  True False  True  True  True]  -->  4\n",
      "[False  True  True False  True  True  True  True  True]  -->  53\n",
      "[False  True  True  True False False  True  True  True]  -->  3150\n",
      "[False  True  True  True  True False  True  True  True]  -->  6\n",
      "[False  True  True  True  True  True False False False]  -->  2\n",
      "[False  True  True  True  True  True False False  True]  -->  48\n",
      "[False  True  True  True  True  True False  True False]  -->  1\n",
      "[False  True  True  True  True  True False  True  True]  -->  36\n",
      "[False  True  True  True  True  True  True False False]  -->  2\n",
      "[False  True  True  True  True  True  True False  True]  -->  3\n",
      "[False  True  True  True  True  True  True  True False]  -->  6\n",
      "[False  True  True  True  True  True  True  True  True]  -->  61\n",
      "[ True False False  True False False  True  True  True]  -->  1\n",
      "[ True False False  True  True  True False False False]  -->  202\n",
      "[ True False False  True  True  True False False  True]  -->  54\n",
      "[ True False False  True  True  True False  True False]  -->  5\n",
      "[ True False False  True  True  True False  True  True]  -->  61\n",
      "[ True False False  True  True  True  True False False]  -->  9\n",
      "[ True False False  True  True  True  True False  True]  -->  49\n",
      "[ True False False  True  True  True  True  True False]  -->  17\n",
      "[ True False False  True  True  True  True  True  True]  -->  47\n",
      "[ True False  True False False False  True  True  True]  -->  1\n",
      "[ True False  True False False  True  True  True  True]  -->  1\n",
      "[ True False  True  True  True False  True  True  True]  -->  1\n",
      "[ True False  True  True  True  True False False False]  -->  518\n",
      "[ True False  True  True  True  True False False  True]  -->  11166\n",
      "[ True False  True  True  True  True False  True False]  -->  12\n",
      "[ True False  True  True  True  True False  True  True]  -->  16\n",
      "[ True False  True  True  True  True  True False False]  -->  40\n",
      "[ True False  True  True  True  True  True False  True]  -->  22\n",
      "[ True False  True  True  True  True  True  True False]  -->  17\n",
      "[ True False  True  True  True  True  True  True  True]  -->  303\n",
      "[ True  True False False False False  True  True  True]  -->  6\n",
      "[ True  True False False False  True  True  True  True]  -->  1\n",
      "[ True  True False False  True False  True  True  True]  -->  1\n",
      "[ True  True False  True False False  True  True  True]  -->  1\n",
      "[ True  True False  True False  True  True  True  True]  -->  1\n",
      "[ True  True False  True  True False  True  True  True]  -->  1\n",
      "[ True  True False  True  True  True False False False]  -->  11\n",
      "[ True  True False  True  True  True False False  True]  -->  5\n",
      "[ True  True False  True  True  True False  True False]  -->  1\n",
      "[ True  True False  True  True  True False  True  True]  -->  45\n",
      "[ True  True False  True  True  True  True False False]  -->  1\n",
      "[ True  True False  True  True  True  True  True  True]  -->  17\n",
      "[ True  True  True False False False  True  True  True]  -->  7\n",
      "[ True  True  True False False  True  True  True  True]  -->  1\n",
      "[ True  True  True  True False False  True  True  True]  -->  5\n",
      "[ True  True  True  True  True False  True  True  True]  -->  2\n",
      "[ True  True  True  True  True  True False False False]  -->  17\n",
      "[ True  True  True  True  True  True False False  True]  -->  13\n",
      "[ True  True  True  True  True  True False  True  True]  -->  22\n",
      "[ True  True  True  True  True  True  True False  True]  -->  6\n",
      "[ True  True  True  True  True  True  True  True False]  -->  3\n",
      "[ True  True  True  True  True  True  True  True  True]  -->  6\n"
     ]
    }
   ],
   "source": [
    "isNan_score,  isNan_counts = np.unique(np.isnan(df.loc[:, 'toan':]), return_counts=True, axis=0)\n",
    "num_type_score = len(isNan_counts)\n",
    "for i in range (num_type_score):\n",
    "    print(isNan_score[i], ' --> ', isNan_counts[i])\n"
   ]
  },
  {
   "attachments": {},
   "cell_type": "markdown",
   "metadata": {},
   "source": [
    "*Số trường hợp xảy ra lên đến 101 TH, bây giờ em sẽ đi sắp xếp các trường hợp đó theo 4 đối tượng đã nêu ở phía trên*"
   ]
  },
  {
   "cell_type": "markdown",
   "metadata": {},
   "source": [
    "##### ***2.1 Số lượng thí sinh thi 7/8/9 môn (không thi 2/1/0 môn)***"
   ]
  },
  {
   "cell_type": "code",
   "execution_count": 57,
   "metadata": {},
   "outputs": [
    {
     "name": "stdout",
     "output_type": "stream",
     "text": [
      "[]\n",
      "[]\n",
      "[]\n"
     ]
    }
   ],
   "source": [
    "print(isNan_score[np.sum(isNan_score, axis=1) == 0])\n",
    "print(isNan_score[np.sum(isNan_score, axis=1) == 1])\n",
    "print(isNan_score[np.sum(isNan_score, axis=1) == 2])"
   ]
  },
  {
   "cell_type": "markdown",
   "metadata": {},
   "source": [
    "- Tất cả đều trả về 0 thí sinh.\n",
    "- Điều này cũng dễ hiểu vì tổ hợp tự nhiên (lí, hóa, sinh) và xã hội (sử, địa, gdcd) được tổ chức cùng ngày, cùng giờ. Nên không thể có thí sinh nào thi trên 6 môn."
   ]
  },
  {
   "cell_type": "markdown",
   "metadata": {},
   "source": [
    "##### ***2.2 Số lượng thí sinh thi 6 môn (không thi 3 môn)***"
   ]
  },
  {
   "cell_type": "code",
   "execution_count": 58,
   "metadata": {},
   "outputs": [
    {
     "name": "stdout",
     "output_type": "stream",
     "text": [
      "[[False False False False False False  True  True  True]\n",
      " [False False False  True  True  True False False False]]\n",
      "858736\n"
     ]
    }
   ],
   "source": [
    "print(isNan_score[np.sum(isNan_score, axis=1) == 3])\n",
    "print(np.sum(isNan_counts[np.sum(isNan_score, axis=1) == 3]))"
   ]
  },
  {
   "cell_type": "markdown",
   "metadata": {},
   "source": [
    "- Có 858,736 thí sinh.\n",
    "- Đây chính là tổng số tất cả thí sinh thi THPTQG2022\n",
    "- Bắt buộc thi 2 khối: KHTN và KHXH\n",
    "    - Toán Văn Anh Lý Hóa Sinh\n",
    "    - Toán Văn Anh Sử Địa GDCD"
   ]
  },
  {
   "cell_type": "markdown",
   "metadata": {},
   "source": [
    "##### ***2.3 Số lượng thí sinh thi 5 môn (không thi 4 môn) (thuộc trường hợp giáo dục thường xuyên)***"
   ]
  },
  {
   "cell_type": "code",
   "execution_count": 59,
   "metadata": {},
   "outputs": [],
   "source": [
    "def asvoid(arr):\n",
    "    arr = np.ascontiguousarray(arr)\n",
    "    if np.issubdtype(arr.dtype, np.floating):\n",
    "        arr += 0.\n",
    "        \n",
    "    return arr.view(np.dtype((np.void, arr.dtype.itemsize * arr.shape[-1])))\n",
    "\n",
    "def inNd(a, b, assume_unique=False):\n",
    "    return np.in1d(asvoid(a), asvoid(b), assume_unique)"
   ]
  },
  {
   "cell_type": "code",
   "execution_count": 60,
   "metadata": {
    "scrolled": true
   },
   "outputs": [
    {
     "name": "stdout",
     "output_type": "stream",
     "text": [
      "[[False False False False False  True  True  True  True]\n",
      " [False False False False  True False  True  True  True]\n",
      " [False False False  True False False  True  True  True]\n",
      " [False False False  True  True  True False False  True]\n",
      " [False False False  True  True  True False  True False]\n",
      " [False False False  True  True  True  True False False]\n",
      " [False False  True False False False  True  True  True]\n",
      " [False False  True  True  True  True False False False]\n",
      " [False  True False False False False  True  True  True]\n",
      " [False  True False  True  True  True False False False]\n",
      " [ True False False  True  True  True False False False]]\n",
      "12756\n",
      "[[False False  True False False False  True  True  True]\n",
      " [False False  True  True  True  True False False False]]\n",
      "9821\n"
     ]
    }
   ],
   "source": [
    "Giao_duc_thuong_xuyen = np.array([[False, False, True, False, False, False, True, True, True],\\\n",
    "                                  [False, False, True, True, True, True, False, False, False]])\n",
    "\n",
    "isNan_socre_4 = isNan_score[np.sum(isNan_score, axis=1) == 4]\n",
    "isNan_counts_4 = isNan_counts[np.sum(isNan_score, axis=1) == 4]\n",
    "gdtx_in_isNanScore4 = inNd(isNan_score[np.sum(isNan_score, axis=1) == 4], Giao_duc_thuong_xuyen)\n",
    "\n",
    "print(isNan_score[np.sum(isNan_score, axis=1) == 4])\n",
    "print(np.sum(isNan_counts[np.sum(isNan_score, axis=1) == 4]))\n",
    "\n",
    "print(isNan_socre_4[gdtx_in_isNanScore4])\n",
    "print(np.sum(isNan_counts_4[gdtx_in_isNanScore4]))"
   ]
  },
  {
   "cell_type": "markdown",
   "metadata": {},
   "source": [
    "- Có tổng số 12756 thí sinh thi 5 môn và trong đó phần lớn thuộc hệ giáo dục thường xuyên (9821 thí sinh)\n",
    "- Còn lại ta có thể xem như những năm trước đã tốt nghiệp và thi lại lấy điểm cho xét tuyển đại học"
   ]
  },
  {
   "cell_type": "markdown",
   "metadata": {},
   "source": [
    "##### ***2.4 Số lượng thí sinh thi 3/4/5 môn (không thi 6/5/4 môn) (không tính trường hợp giáo dục thường xuyên)***"
   ]
  },
  {
   "cell_type": "code",
   "execution_count": 61,
   "metadata": {
    "scrolled": true
   },
   "outputs": [
    {
     "name": "stdout",
     "output_type": "stream",
     "text": [
      "[[False False False  True  True  True  True  True  True]\n",
      " [False False  True False  True  True  True  True  True]\n",
      " [False False  True  True False  True  True  True  True]\n",
      " [False False  True  True  True False  True  True  True]\n",
      " [False False  True  True  True  True False  True  True]\n",
      " [False False  True  True  True  True  True False  True]\n",
      " [False False  True  True  True  True  True  True False]\n",
      " [False  True False False  True  True  True  True  True]\n",
      " [False  True False  True False  True  True  True  True]\n",
      " [False  True False  True  True False  True  True  True]\n",
      " [False  True False  True  True  True False  True  True]\n",
      " [False  True False  True  True  True  True False  True]\n",
      " [False  True False  True  True  True  True  True False]\n",
      " [False  True  True False False  True  True  True  True]\n",
      " [False  True  True False  True False  True  True  True]\n",
      " [False  True  True  True False False  True  True  True]\n",
      " [False  True  True  True  True  True False False  True]\n",
      " [False  True  True  True  True  True False  True False]\n",
      " [False  True  True  True  True  True  True False False]\n",
      " [ True False False  True  True  True False  True  True]\n",
      " [ True False False  True  True  True  True False  True]\n",
      " [ True False False  True  True  True  True  True False]\n",
      " [ True False  True False False  True  True  True  True]\n",
      " [ True False  True  True  True  True False False  True]\n",
      " [ True False  True  True  True  True False  True False]\n",
      " [ True False  True  True  True  True  True False False]\n",
      " [ True  True False False False  True  True  True  True]\n",
      " [ True  True False False  True False  True  True  True]\n",
      " [ True  True False  True False False  True  True  True]\n",
      " [ True  True False  True  True  True False False  True]\n",
      " [ True  True False  True  True  True False  True False]\n",
      " [ True  True False  True  True  True  True False False]\n",
      " [ True  True  True False False False  True  True  True]\n",
      " [ True  True  True  True  True  True False False False]]\n",
      "28198\n",
      "[[False False False False  True  True  True  True  True]\n",
      " [False False False  True False  True  True  True  True]\n",
      " [False False False  True  True False  True  True  True]\n",
      " [False False False  True  True  True False  True  True]\n",
      " [False False False  True  True  True  True False  True]\n",
      " [False False False  True  True  True  True  True False]\n",
      " [False False  True False False  True  True  True  True]\n",
      " [False False  True False  True False  True  True  True]\n",
      " [False False  True  True False False  True  True  True]\n",
      " [False False  True  True  True  True False False  True]\n",
      " [False False  True  True  True  True False  True False]\n",
      " [False False  True  True  True  True  True False False]\n",
      " [False  True False False False  True  True  True  True]\n",
      " [False  True False False  True False  True  True  True]\n",
      " [False  True False  True False False  True  True  True]\n",
      " [False  True False  True  True  True False False  True]\n",
      " [False  True False  True  True  True False  True False]\n",
      " [False  True False  True  True  True  True False False]\n",
      " [False  True  True False False False  True  True  True]\n",
      " [False  True  True  True  True  True False False False]\n",
      " [ True False False  True False False  True  True  True]\n",
      " [ True False False  True  True  True False False  True]\n",
      " [ True False False  True  True  True False  True False]\n",
      " [ True False False  True  True  True  True False False]\n",
      " [ True False  True False False False  True  True  True]\n",
      " [ True False  True  True  True  True False False False]\n",
      " [ True  True False False False False  True  True  True]\n",
      " [ True  True False  True  True  True False False False]]\n",
      "94695\n",
      "[[False False False False False  True  True  True  True]\n",
      " [False False False False  True False  True  True  True]\n",
      " [False False False  True False False  True  True  True]\n",
      " [False False False  True  True  True False False  True]\n",
      " [False False False  True  True  True False  True False]\n",
      " [False False False  True  True  True  True False False]\n",
      " [False  True False False False False  True  True  True]\n",
      " [False  True False  True  True  True False False False]\n",
      " [ True False False  True  True  True False False False]]\n",
      "2935\n"
     ]
    }
   ],
   "source": [
    "print(isNan_score[np.sum(isNan_score, axis=1) == 6])\n",
    "print(np.sum(isNan_counts[np.sum(isNan_score, axis=1) == 6]))\n",
    "\n",
    "print(isNan_score[np.sum(isNan_score, axis=1) == 5])\n",
    "print(np.sum(isNan_counts[np.sum(isNan_score, axis=1) == 5]))\n",
    "\n",
    "print(isNan_socre_4[~gdtx_in_isNanScore4])\n",
    "print(np.sum(isNan_counts[np.sum(isNan_score, axis=1) == 4]) - np.sum(isNan_counts_4[gdtx_in_isNanScore4]))"
   ]
  },
  {
   "cell_type": "markdown",
   "metadata": {},
   "source": [
    "- Có 28198 thí sinh thi 3 môn\n",
    "- Có 94695 thí sinh thi 4 môn\n",
    "- Có 2935 thí sinh thi 5 môn (không tính trường hợp giáo dục thường xuyên)\n",
    "- Tổng số các thí sinh trên là những trường hợp thi lại cho xét tuyển đại học"
   ]
  },
  {
   "cell_type": "markdown",
   "metadata": {},
   "source": [
    "##### ***2.5 Số lượng thí sinh thi 1/2 môn (không thi 8/7 môn)***"
   ]
  },
  {
   "cell_type": "code",
   "execution_count": 62,
   "metadata": {
    "scrolled": true
   },
   "outputs": [
    {
     "name": "stdout",
     "output_type": "stream",
     "text": [
      "[[False  True  True  True  True  True  True  True  True]\n",
      " [ True False  True  True  True  True  True  True  True]\n",
      " [ True  True False  True  True  True  True  True  True]\n",
      " [ True  True  True  True  True False  True  True  True]\n",
      " [ True  True  True  True  True  True False  True  True]\n",
      " [ True  True  True  True  True  True  True False  True]\n",
      " [ True  True  True  True  True  True  True  True False]]\n",
      "414\n",
      "[[False False  True  True  True  True  True  True  True]\n",
      " [False  True False  True  True  True  True  True  True]\n",
      " [False  True  True False  True  True  True  True  True]\n",
      " [False  True  True  True  True False  True  True  True]\n",
      " [False  True  True  True  True  True False  True  True]\n",
      " [False  True  True  True  True  True  True False  True]\n",
      " [False  True  True  True  True  True  True  True False]\n",
      " [ True False False  True  True  True  True  True  True]\n",
      " [ True False  True  True  True False  True  True  True]\n",
      " [ True False  True  True  True  True False  True  True]\n",
      " [ True False  True  True  True  True  True False  True]\n",
      " [ True False  True  True  True  True  True  True False]\n",
      " [ True  True False  True False  True  True  True  True]\n",
      " [ True  True False  True  True False  True  True  True]\n",
      " [ True  True False  True  True  True False  True  True]\n",
      " [ True  True  True False False  True  True  True  True]\n",
      " [ True  True  True  True False False  True  True  True]\n",
      " [ True  True  True  True  True  True False False  True]]\n",
      "636\n"
     ]
    }
   ],
   "source": [
    "print(isNan_score[np.sum(isNan_score, axis=1) == 8])\n",
    "print(np.sum(isNan_counts[np.sum(isNan_score, axis=1) == 8]))\n",
    "\n",
    "print(isNan_score[np.sum(isNan_score, axis=1) == 7])\n",
    "print(np.sum(isNan_counts[np.sum(isNan_score, axis=1) == 7]))"
   ]
  },
  {
   "cell_type": "markdown",
   "metadata": {},
   "source": [
    "- Tổng 2 trường hợp có 1050 thí sinh, đây chính là số thí sinh những năm trước chưa tốt nghiệp và bây giờ thi lại để xét tốt nghiệp (không tính thi lại với >= 3 môn vì có thể lấy điểm 3 môn đó xét điểm ĐH)"
   ]
  },
  {
   "cell_type": "markdown",
   "metadata": {},
   "source": [
    "##### ***2.6 Số lượng thí sinh không thi môn nào***"
   ]
  },
  {
   "cell_type": "code",
   "execution_count": 63,
   "metadata": {},
   "outputs": [
    {
     "name": "stdout",
     "output_type": "stream",
     "text": [
      "[[ True  True  True  True  True  True  True  True  True]]\n",
      "6\n"
     ]
    }
   ],
   "source": [
    "print(isNan_score[np.sum(isNan_score, axis=1) == 9])\n",
    "print(np.sum(isNan_counts[np.sum(isNan_score, axis=1) == 9]))"
   ]
  },
  {
   "cell_type": "markdown",
   "metadata": {},
   "source": [
    "- Có tổng cộng 6 thí sinh ko có dữ liệu điểm của bất kì môn nào, những trường hợp này sẽ loại bỏ"
   ]
  },
  {
   "cell_type": "markdown",
   "metadata": {},
   "source": [
    "### **3. Tạo cột phân loại thí sinh**"
   ]
  },
  {
   "cell_type": "markdown",
   "metadata": {},
   "source": [
    "- Đầu tiên chúng ta sẽ tạo mảng phân loại classify_col có độ dài tương ứng với tổng số thi sinh (sau khi đã drop những thí sinh không thi bất kì môn nào), mảng này gồm những loại sau:\n",
    "    - Khóa 2022 thi THPTQG và môn tổ hợp là KHTN ('THPT_KHTN')\n",
    "    - Khóa 2022 thi THPTQG và môn tổ hợp là KHXH ('THPT_KHXH')\n",
    "    - Khóa 2022 thuộc hệ giáo dục thường xuyên và môn tổ hợp là KHTN ('GDTX_KHTN')\n",
    "    - Khóa 2022 thuộc hệ giáo dục thường xuyên và môn tổ hợp là KHXH ('GDTX_KHXH')\n",
    "    - Các khóa trước thi lại cho xét tuyển đại học ('DH_RETEST')\n",
    "    - Các khóa trước thi lại cho xét tốt nghiệp ('TH_RETEST')\n",
    "- Sau khi đã phân 6 loại trên vào classify_col ta sẽ tạo cột mới trên df là phan_loai và gán bằng classify_col"
   ]
  },
  {
   "cell_type": "code",
   "execution_count": 64,
   "metadata": {},
   "outputs": [],
   "source": [
    "# Loại bỏ các dòng có tất cả các môn đều bị thiếu\n",
    "df = df.drop(np.where(np.sum(np.isnan(df.loc[:, 'toan':]), axis=1) == 9)[0])\n",
    "\n",
    "# Chuyển dữ liệu về dạng boolean (True: thiếu, False: không thiếu)\n",
    "isnan_df = np.isnan(df.loc[:, 'toan':])\n",
    "\n",
    "# x_subject: x là số môn thiếu, x_subject trả về True nếu số môn thiếu bằng x, False nếu không\n",
    "x_subject = lambda x : np.sum(np.isnan(df.loc[:, 'toan':]), axis=1) == x\n",
    "classify_col = np.full(df.shape[0], '', dtype='<U9')\n",
    "\n",
    "# Gán nhãn cho các dòng dữ liệu\n",
    "classify_col[x_subject(3) * np.isnan(df['lich_su'])] = 'THPT_KHTN'\n",
    "classify_col[x_subject(3) * np.isnan(df['vat_li'])] = 'THPT_KHXH'\n",
    "classify_col[inNd(isnan_df, Giao_duc_thuong_xuyen) * np.isnan(df['lich_su'])] = 'GDTX_KHTN'\n",
    "classify_col[inNd(isnan_df, Giao_duc_thuong_xuyen) * np.isnan(df['vat_li'])] = 'GDTX_KHXH'\n",
    "classify_col[x_subject(6) + x_subject(5) + (x_subject(4) * (~inNd(isnan_df, Giao_duc_thuong_xuyen)))] = 'DH_RETEST'\n",
    "classify_col[x_subject(8) + x_subject(7)] = 'TH_RETEST'\n",
    "\n",
    "df['phan_loai'] = classify_col"
   ]
  },
  {
   "cell_type": "markdown",
   "metadata": {},
   "source": [
    "- Có thể thấy số lượng thí sinh từng loại hoàn toàn khớp với phần xác định các trường hợp"
   ]
  },
  {
   "cell_type": "code",
   "execution_count": 65,
   "metadata": {},
   "outputs": [
    {
     "name": "stdout",
     "output_type": "stream",
     "text": [
      "309162\n",
      "549574\n",
      "6100\n",
      "3721\n",
      "125828\n",
      "1050\n"
     ]
    },
    {
     "data": {
      "text/html": [
       "<div>\n",
       "<style scoped>\n",
       "    .dataframe tbody tr th:only-of-type {\n",
       "        vertical-align: middle;\n",
       "    }\n",
       "\n",
       "    .dataframe tbody tr th {\n",
       "        vertical-align: top;\n",
       "    }\n",
       "\n",
       "    .dataframe thead th {\n",
       "        text-align: right;\n",
       "    }\n",
       "</style>\n",
       "<table border=\"1\" class=\"dataframe\">\n",
       "  <thead>\n",
       "    <tr style=\"text-align: right;\">\n",
       "      <th></th>\n",
       "      <th>cum</th>\n",
       "      <th>sbd</th>\n",
       "      <th>toan</th>\n",
       "      <th>ngu_van</th>\n",
       "      <th>ngoai_ngu</th>\n",
       "      <th>vat_li</th>\n",
       "      <th>hoa_hoc</th>\n",
       "      <th>sinh_hoc</th>\n",
       "      <th>lich_su</th>\n",
       "      <th>dia_ly</th>\n",
       "      <th>gdcd</th>\n",
       "      <th>phan_loai</th>\n",
       "    </tr>\n",
       "  </thead>\n",
       "  <tbody>\n",
       "    <tr>\n",
       "      <th>0</th>\n",
       "      <td>1</td>\n",
       "      <td>1000001</td>\n",
       "      <td>3.6</td>\n",
       "      <td>5.00</td>\n",
       "      <td>4.0</td>\n",
       "      <td>NaN</td>\n",
       "      <td>NaN</td>\n",
       "      <td>NaN</td>\n",
       "      <td>2.75</td>\n",
       "      <td>6.00</td>\n",
       "      <td>8.75</td>\n",
       "      <td>THPT_KHXH</td>\n",
       "    </tr>\n",
       "    <tr>\n",
       "      <th>1</th>\n",
       "      <td>1</td>\n",
       "      <td>1000002</td>\n",
       "      <td>8.4</td>\n",
       "      <td>6.75</td>\n",
       "      <td>7.6</td>\n",
       "      <td>NaN</td>\n",
       "      <td>NaN</td>\n",
       "      <td>NaN</td>\n",
       "      <td>8.50</td>\n",
       "      <td>7.50</td>\n",
       "      <td>8.25</td>\n",
       "      <td>THPT_KHXH</td>\n",
       "    </tr>\n",
       "    <tr>\n",
       "      <th>2</th>\n",
       "      <td>1</td>\n",
       "      <td>1000003</td>\n",
       "      <td>5.8</td>\n",
       "      <td>7.50</td>\n",
       "      <td>5.0</td>\n",
       "      <td>NaN</td>\n",
       "      <td>NaN</td>\n",
       "      <td>NaN</td>\n",
       "      <td>7.25</td>\n",
       "      <td>5.50</td>\n",
       "      <td>8.75</td>\n",
       "      <td>THPT_KHXH</td>\n",
       "    </tr>\n",
       "    <tr>\n",
       "      <th>3</th>\n",
       "      <td>1</td>\n",
       "      <td>1000004</td>\n",
       "      <td>7.4</td>\n",
       "      <td>7.50</td>\n",
       "      <td>8.6</td>\n",
       "      <td>NaN</td>\n",
       "      <td>NaN</td>\n",
       "      <td>NaN</td>\n",
       "      <td>7.50</td>\n",
       "      <td>6.50</td>\n",
       "      <td>7.50</td>\n",
       "      <td>THPT_KHXH</td>\n",
       "    </tr>\n",
       "    <tr>\n",
       "      <th>4</th>\n",
       "      <td>1</td>\n",
       "      <td>1000005</td>\n",
       "      <td>7.2</td>\n",
       "      <td>8.50</td>\n",
       "      <td>9.0</td>\n",
       "      <td>NaN</td>\n",
       "      <td>NaN</td>\n",
       "      <td>NaN</td>\n",
       "      <td>8.00</td>\n",
       "      <td>8.50</td>\n",
       "      <td>8.25</td>\n",
       "      <td>THPT_KHXH</td>\n",
       "    </tr>\n",
       "    <tr>\n",
       "      <th>...</th>\n",
       "      <td>...</td>\n",
       "      <td>...</td>\n",
       "      <td>...</td>\n",
       "      <td>...</td>\n",
       "      <td>...</td>\n",
       "      <td>...</td>\n",
       "      <td>...</td>\n",
       "      <td>...</td>\n",
       "      <td>...</td>\n",
       "      <td>...</td>\n",
       "      <td>...</td>\n",
       "      <td>...</td>\n",
       "    </tr>\n",
       "    <tr>\n",
       "      <th>995436</th>\n",
       "      <td>64</td>\n",
       "      <td>64006584</td>\n",
       "      <td>8.4</td>\n",
       "      <td>6.75</td>\n",
       "      <td>4.6</td>\n",
       "      <td>NaN</td>\n",
       "      <td>NaN</td>\n",
       "      <td>NaN</td>\n",
       "      <td>6.50</td>\n",
       "      <td>6.75</td>\n",
       "      <td>9.00</td>\n",
       "      <td>THPT_KHXH</td>\n",
       "    </tr>\n",
       "    <tr>\n",
       "      <th>995437</th>\n",
       "      <td>64</td>\n",
       "      <td>64006585</td>\n",
       "      <td>5.6</td>\n",
       "      <td>6.50</td>\n",
       "      <td>2.8</td>\n",
       "      <td>NaN</td>\n",
       "      <td>NaN</td>\n",
       "      <td>NaN</td>\n",
       "      <td>6.25</td>\n",
       "      <td>6.75</td>\n",
       "      <td>8.50</td>\n",
       "      <td>THPT_KHXH</td>\n",
       "    </tr>\n",
       "    <tr>\n",
       "      <th>995438</th>\n",
       "      <td>64</td>\n",
       "      <td>64006586</td>\n",
       "      <td>5.8</td>\n",
       "      <td>6.00</td>\n",
       "      <td>6.6</td>\n",
       "      <td>NaN</td>\n",
       "      <td>NaN</td>\n",
       "      <td>NaN</td>\n",
       "      <td>7.25</td>\n",
       "      <td>8.00</td>\n",
       "      <td>8.00</td>\n",
       "      <td>THPT_KHXH</td>\n",
       "    </tr>\n",
       "    <tr>\n",
       "      <th>995439</th>\n",
       "      <td>64</td>\n",
       "      <td>64006587</td>\n",
       "      <td>7.6</td>\n",
       "      <td>6.75</td>\n",
       "      <td>7.0</td>\n",
       "      <td>NaN</td>\n",
       "      <td>NaN</td>\n",
       "      <td>NaN</td>\n",
       "      <td>8.75</td>\n",
       "      <td>7.25</td>\n",
       "      <td>9.75</td>\n",
       "      <td>THPT_KHXH</td>\n",
       "    </tr>\n",
       "    <tr>\n",
       "      <th>995440</th>\n",
       "      <td>64</td>\n",
       "      <td>64006588</td>\n",
       "      <td>6.6</td>\n",
       "      <td>4.50</td>\n",
       "      <td>3.2</td>\n",
       "      <td>NaN</td>\n",
       "      <td>NaN</td>\n",
       "      <td>NaN</td>\n",
       "      <td>3.00</td>\n",
       "      <td>6.00</td>\n",
       "      <td>7.50</td>\n",
       "      <td>THPT_KHXH</td>\n",
       "    </tr>\n",
       "  </tbody>\n",
       "</table>\n",
       "<p>995435 rows × 12 columns</p>\n",
       "</div>"
      ],
      "text/plain": [
       "        cum       sbd  toan  ngu_van  ngoai_ngu  vat_li  hoa_hoc  sinh_hoc  \\\n",
       "0         1   1000001   3.6     5.00        4.0     NaN      NaN       NaN   \n",
       "1         1   1000002   8.4     6.75        7.6     NaN      NaN       NaN   \n",
       "2         1   1000003   5.8     7.50        5.0     NaN      NaN       NaN   \n",
       "3         1   1000004   7.4     7.50        8.6     NaN      NaN       NaN   \n",
       "4         1   1000005   7.2     8.50        9.0     NaN      NaN       NaN   \n",
       "...     ...       ...   ...      ...        ...     ...      ...       ...   \n",
       "995436   64  64006584   8.4     6.75        4.6     NaN      NaN       NaN   \n",
       "995437   64  64006585   5.6     6.50        2.8     NaN      NaN       NaN   \n",
       "995438   64  64006586   5.8     6.00        6.6     NaN      NaN       NaN   \n",
       "995439   64  64006587   7.6     6.75        7.0     NaN      NaN       NaN   \n",
       "995440   64  64006588   6.6     4.50        3.2     NaN      NaN       NaN   \n",
       "\n",
       "        lich_su  dia_ly  gdcd  phan_loai  \n",
       "0          2.75    6.00  8.75  THPT_KHXH  \n",
       "1          8.50    7.50  8.25  THPT_KHXH  \n",
       "2          7.25    5.50  8.75  THPT_KHXH  \n",
       "3          7.50    6.50  7.50  THPT_KHXH  \n",
       "4          8.00    8.50  8.25  THPT_KHXH  \n",
       "...         ...     ...   ...        ...  \n",
       "995436     6.50    6.75  9.00  THPT_KHXH  \n",
       "995437     6.25    6.75  8.50  THPT_KHXH  \n",
       "995438     7.25    8.00  8.00  THPT_KHXH  \n",
       "995439     8.75    7.25  9.75  THPT_KHXH  \n",
       "995440     3.00    6.00  7.50  THPT_KHXH  \n",
       "\n",
       "[995435 rows x 12 columns]"
      ]
     },
     "execution_count": 65,
     "metadata": {},
     "output_type": "execute_result"
    }
   ],
   "source": [
    "print(np.sum(df['phan_loai'] == 'THPT_KHTN'))\n",
    "print(np.sum(df['phan_loai'] == 'THPT_KHXH'))\n",
    "print(np.sum(df['phan_loai'] == 'GDTX_KHTN'))\n",
    "print(np.sum(df['phan_loai'] == 'GDTX_KHXH'))\n",
    "print(np.sum(df['phan_loai'] == 'DH_RETEST'))\n",
    "print(np.sum(df['phan_loai'] == 'TH_RETEST'))\n",
    "df"
   ]
  },
  {
   "cell_type": "markdown",
   "metadata": {},
   "source": [
    "### **4. Ghi kết quả phân loại và file mới**"
   ]
  },
  {
   "cell_type": "markdown",
   "metadata": {},
   "source": [
    "- Bây giờ ta sẽ lưu kết quả vừa phân loại được vào file mới và khi phân tích ta sẽ đọc file này"
   ]
  },
  {
   "cell_type": "code",
   "execution_count": 68,
   "metadata": {},
   "outputs": [],
   "source": [
    "df.to_csv('new_data.csv',index=False)"
   ]
  }
 ],
 "metadata": {
  "kernelspec": {
   "display_name": "Python 3.10.2 64-bit",
   "language": "python",
   "name": "python3"
  },
  "language_info": {
   "codemirror_mode": {
    "name": "ipython",
    "version": 3
   },
   "file_extension": ".py",
   "mimetype": "text/x-python",
   "name": "python",
   "nbconvert_exporter": "python",
   "pygments_lexer": "ipython3",
   "version": "3.10.2"
  },
  "vscode": {
   "interpreter": {
    "hash": "0c3f1a7d561c5e7000fe22e0f69c159d058d18792b6544b4cdea00d1b72ad225"
   }
  }
 },
 "nbformat": 4,
 "nbformat_minor": 2
}
