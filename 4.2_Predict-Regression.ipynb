{
 "cells": [
  {
   "cell_type": "markdown",
   "metadata": {},
   "source": [
    "# **Hồi quy tuyến tính - Linear Regression**\n",
    "- Dựa vào độ tương quan ở file 2_Correlation.ipynb có thể thấy:\n",
    "    + Điểm toán tương quan mạnh với lý hóa\n",
    "    + Điểm văn tương quan mạnh với sử địa gdcd\n",
    "- Do đó ta sẽ dự đoán:\n",
    "    + Điểm toán: dựa trên điểm môn hóa học _ vật lí\n",
    "    + Điểm văn : dựa trên điểm môn lịch sử _ địa lý _ GDCD"
   ]
  },
  {
   "cell_type": "markdown",
   "metadata": {},
   "source": [
    "## Các thư viện cần thiết"
   ]
  },
  {
   "cell_type": "code",
   "execution_count": 2,
   "metadata": {},
   "outputs": [],
   "source": [
    "import numpy as np\n",
    "import pandas as pd\n",
    "import optuna\n",
    "\n",
    "from sklearn.pipeline import make_pipeline\n",
    "from sklearn.preprocessing import StandardScaler, PolynomialFeatures\n",
    "from sklearn.model_selection import train_test_split, GridSearchCV, RandomizedSearchCV, RepeatedStratifiedKFold, cross_val_score\n",
    "from sklearn.linear_model import LinearRegression, LogisticRegression\n",
    "from sklearn.metrics import mean_squared_error, mean_absolute_error, classification_report\n",
    "from sklearn.utils.validation import column_or_1d\n",
    "from imblearn.over_sampling import RandomOverSampler"
   ]
  },
  {
   "cell_type": "code",
   "execution_count": 3,
   "metadata": {},
   "outputs": [
    {
     "data": {
      "text/html": [
       "<div>\n",
       "<style scoped>\n",
       "    .dataframe tbody tr th:only-of-type {\n",
       "        vertical-align: middle;\n",
       "    }\n",
       "\n",
       "    .dataframe tbody tr th {\n",
       "        vertical-align: top;\n",
       "    }\n",
       "\n",
       "    .dataframe thead th {\n",
       "        text-align: right;\n",
       "    }\n",
       "</style>\n",
       "<table border=\"1\" class=\"dataframe\">\n",
       "  <thead>\n",
       "    <tr style=\"text-align: right;\">\n",
       "      <th></th>\n",
       "      <th>cum</th>\n",
       "      <th>sbd</th>\n",
       "      <th>toan</th>\n",
       "      <th>ngu_van</th>\n",
       "      <th>ngoai_ngu</th>\n",
       "      <th>vat_li</th>\n",
       "      <th>hoa_hoc</th>\n",
       "      <th>sinh_hoc</th>\n",
       "      <th>lich_su</th>\n",
       "      <th>dia_ly</th>\n",
       "      <th>gdcd</th>\n",
       "      <th>phan_loai</th>\n",
       "    </tr>\n",
       "  </thead>\n",
       "  <tbody>\n",
       "    <tr>\n",
       "      <th>0</th>\n",
       "      <td>1</td>\n",
       "      <td>1000001</td>\n",
       "      <td>3.6</td>\n",
       "      <td>5.00</td>\n",
       "      <td>4.0</td>\n",
       "      <td>NaN</td>\n",
       "      <td>NaN</td>\n",
       "      <td>NaN</td>\n",
       "      <td>2.75</td>\n",
       "      <td>6.00</td>\n",
       "      <td>8.75</td>\n",
       "      <td>THPT_KHXH</td>\n",
       "    </tr>\n",
       "    <tr>\n",
       "      <th>1</th>\n",
       "      <td>1</td>\n",
       "      <td>1000002</td>\n",
       "      <td>8.4</td>\n",
       "      <td>6.75</td>\n",
       "      <td>7.6</td>\n",
       "      <td>NaN</td>\n",
       "      <td>NaN</td>\n",
       "      <td>NaN</td>\n",
       "      <td>8.50</td>\n",
       "      <td>7.50</td>\n",
       "      <td>8.25</td>\n",
       "      <td>THPT_KHXH</td>\n",
       "    </tr>\n",
       "    <tr>\n",
       "      <th>2</th>\n",
       "      <td>1</td>\n",
       "      <td>1000003</td>\n",
       "      <td>5.8</td>\n",
       "      <td>7.50</td>\n",
       "      <td>5.0</td>\n",
       "      <td>NaN</td>\n",
       "      <td>NaN</td>\n",
       "      <td>NaN</td>\n",
       "      <td>7.25</td>\n",
       "      <td>5.50</td>\n",
       "      <td>8.75</td>\n",
       "      <td>THPT_KHXH</td>\n",
       "    </tr>\n",
       "    <tr>\n",
       "      <th>3</th>\n",
       "      <td>1</td>\n",
       "      <td>1000004</td>\n",
       "      <td>7.4</td>\n",
       "      <td>7.50</td>\n",
       "      <td>8.6</td>\n",
       "      <td>NaN</td>\n",
       "      <td>NaN</td>\n",
       "      <td>NaN</td>\n",
       "      <td>7.50</td>\n",
       "      <td>6.50</td>\n",
       "      <td>7.50</td>\n",
       "      <td>THPT_KHXH</td>\n",
       "    </tr>\n",
       "    <tr>\n",
       "      <th>4</th>\n",
       "      <td>1</td>\n",
       "      <td>1000005</td>\n",
       "      <td>7.2</td>\n",
       "      <td>8.50</td>\n",
       "      <td>9.0</td>\n",
       "      <td>NaN</td>\n",
       "      <td>NaN</td>\n",
       "      <td>NaN</td>\n",
       "      <td>8.00</td>\n",
       "      <td>8.50</td>\n",
       "      <td>8.25</td>\n",
       "      <td>THPT_KHXH</td>\n",
       "    </tr>\n",
       "    <tr>\n",
       "      <th>...</th>\n",
       "      <td>...</td>\n",
       "      <td>...</td>\n",
       "      <td>...</td>\n",
       "      <td>...</td>\n",
       "      <td>...</td>\n",
       "      <td>...</td>\n",
       "      <td>...</td>\n",
       "      <td>...</td>\n",
       "      <td>...</td>\n",
       "      <td>...</td>\n",
       "      <td>...</td>\n",
       "      <td>...</td>\n",
       "    </tr>\n",
       "    <tr>\n",
       "      <th>995430</th>\n",
       "      <td>64</td>\n",
       "      <td>64006584</td>\n",
       "      <td>8.4</td>\n",
       "      <td>6.75</td>\n",
       "      <td>4.6</td>\n",
       "      <td>NaN</td>\n",
       "      <td>NaN</td>\n",
       "      <td>NaN</td>\n",
       "      <td>6.50</td>\n",
       "      <td>6.75</td>\n",
       "      <td>9.00</td>\n",
       "      <td>THPT_KHXH</td>\n",
       "    </tr>\n",
       "    <tr>\n",
       "      <th>995431</th>\n",
       "      <td>64</td>\n",
       "      <td>64006585</td>\n",
       "      <td>5.6</td>\n",
       "      <td>6.50</td>\n",
       "      <td>2.8</td>\n",
       "      <td>NaN</td>\n",
       "      <td>NaN</td>\n",
       "      <td>NaN</td>\n",
       "      <td>6.25</td>\n",
       "      <td>6.75</td>\n",
       "      <td>8.50</td>\n",
       "      <td>THPT_KHXH</td>\n",
       "    </tr>\n",
       "    <tr>\n",
       "      <th>995432</th>\n",
       "      <td>64</td>\n",
       "      <td>64006586</td>\n",
       "      <td>5.8</td>\n",
       "      <td>6.00</td>\n",
       "      <td>6.6</td>\n",
       "      <td>NaN</td>\n",
       "      <td>NaN</td>\n",
       "      <td>NaN</td>\n",
       "      <td>7.25</td>\n",
       "      <td>8.00</td>\n",
       "      <td>8.00</td>\n",
       "      <td>THPT_KHXH</td>\n",
       "    </tr>\n",
       "    <tr>\n",
       "      <th>995433</th>\n",
       "      <td>64</td>\n",
       "      <td>64006587</td>\n",
       "      <td>7.6</td>\n",
       "      <td>6.75</td>\n",
       "      <td>7.0</td>\n",
       "      <td>NaN</td>\n",
       "      <td>NaN</td>\n",
       "      <td>NaN</td>\n",
       "      <td>8.75</td>\n",
       "      <td>7.25</td>\n",
       "      <td>9.75</td>\n",
       "      <td>THPT_KHXH</td>\n",
       "    </tr>\n",
       "    <tr>\n",
       "      <th>995434</th>\n",
       "      <td>64</td>\n",
       "      <td>64006588</td>\n",
       "      <td>6.6</td>\n",
       "      <td>4.50</td>\n",
       "      <td>3.2</td>\n",
       "      <td>NaN</td>\n",
       "      <td>NaN</td>\n",
       "      <td>NaN</td>\n",
       "      <td>3.00</td>\n",
       "      <td>6.00</td>\n",
       "      <td>7.50</td>\n",
       "      <td>THPT_KHXH</td>\n",
       "    </tr>\n",
       "  </tbody>\n",
       "</table>\n",
       "<p>995435 rows × 12 columns</p>\n",
       "</div>"
      ],
      "text/plain": [
       "        cum       sbd  toan  ngu_van  ngoai_ngu  vat_li  hoa_hoc  sinh_hoc  \\\n",
       "0         1   1000001   3.6     5.00        4.0     NaN      NaN       NaN   \n",
       "1         1   1000002   8.4     6.75        7.6     NaN      NaN       NaN   \n",
       "2         1   1000003   5.8     7.50        5.0     NaN      NaN       NaN   \n",
       "3         1   1000004   7.4     7.50        8.6     NaN      NaN       NaN   \n",
       "4         1   1000005   7.2     8.50        9.0     NaN      NaN       NaN   \n",
       "...     ...       ...   ...      ...        ...     ...      ...       ...   \n",
       "995430   64  64006584   8.4     6.75        4.6     NaN      NaN       NaN   \n",
       "995431   64  64006585   5.6     6.50        2.8     NaN      NaN       NaN   \n",
       "995432   64  64006586   5.8     6.00        6.6     NaN      NaN       NaN   \n",
       "995433   64  64006587   7.6     6.75        7.0     NaN      NaN       NaN   \n",
       "995434   64  64006588   6.6     4.50        3.2     NaN      NaN       NaN   \n",
       "\n",
       "        lich_su  dia_ly  gdcd  phan_loai  \n",
       "0          2.75    6.00  8.75  THPT_KHXH  \n",
       "1          8.50    7.50  8.25  THPT_KHXH  \n",
       "2          7.25    5.50  8.75  THPT_KHXH  \n",
       "3          7.50    6.50  7.50  THPT_KHXH  \n",
       "4          8.00    8.50  8.25  THPT_KHXH  \n",
       "...         ...     ...   ...        ...  \n",
       "995430     6.50    6.75  9.00  THPT_KHXH  \n",
       "995431     6.25    6.75  8.50  THPT_KHXH  \n",
       "995432     7.25    8.00  8.00  THPT_KHXH  \n",
       "995433     8.75    7.25  9.75  THPT_KHXH  \n",
       "995434     3.00    6.00  7.50  THPT_KHXH  \n",
       "\n",
       "[995435 rows x 12 columns]"
      ]
     },
     "execution_count": 3,
     "metadata": {},
     "output_type": "execute_result"
    }
   ],
   "source": [
    "score_df = pd.read_csv('new_data.csv')\n",
    "score_df"
   ]
  },
  {
   "cell_type": "markdown",
   "metadata": {},
   "source": [
    "Phần này sẽ được dùng cho thuât toán linear regression để dự đoán điểm toán và ngữ văn:\n",
    "- Đầu tiên, ta tạo pipeline gồm các bước chuẩn hóa, thêm polynomial features và cuối cùng là áp dụng linear regression\n",
    "- Để có thể chọn được mô hình với tham số tốt nhất, ở đây ta dùng GridSearchCV của 12 candidates và có 10 folds"
   ]
  },
  {
   "cell_type": "code",
   "execution_count": 10,
   "metadata": {},
   "outputs": [],
   "source": [
    "def PolynomialRegression(degree=2, **kwargs):\n",
    "    return make_pipeline(StandardScaler(), PolynomialFeatures(degree), LinearRegression(**kwargs))\n",
    "\n",
    "param_grid = {'polynomialfeatures__degree': [3,4,5],\n",
    "              'linearregression__fit_intercept': [True, False],\n",
    "              'linearregression__positive': [True, False]}\n",
    "poly_grid = GridSearchCV(PolynomialRegression(), param_grid=param_grid, cv=10, scoring='neg_mean_squared_error')"
   ]
  },
  {
   "cell_type": "markdown",
   "metadata": {},
   "source": [
    "## **1. Dự đoán điểm toán: dựa vào hóa học _ vật lí (KHTN)**"
   ]
  },
  {
   "cell_type": "markdown",
   "metadata": {},
   "source": [
    "#### Pre-process (splitiing data)\n",
    "Trước tiên ta sẽ tiền xử lí bỏ các giá trị nan và split df ra thành 2 sets: train-test (với tỉ lệ 90-10)"
   ]
  },
  {
   "cell_type": "code",
   "execution_count": 11,
   "metadata": {},
   "outputs": [],
   "source": [
    "X_toan = score_df[['toan', 'vat_li', 'hoa_hoc']].dropna()[['vat_li', 'hoa_hoc']]\n",
    "y_toan = score_df[['toan', 'vat_li', 'hoa_hoc']].dropna()[['toan']]\n",
    "\n",
    "X_train_toan, X_test_toan, y_train_toan, y_test_toan = train_test_split(X_toan, y_toan, test_size=0.1, random_state=0)"
   ]
  },
  {
   "cell_type": "markdown",
   "metadata": {},
   "source": [
    "#### Trainning model\n",
    "Sau đó, ta sẽ fit trên grid để tìm bộ tham số tốt nhất"
   ]
  },
  {
   "cell_type": "code",
   "execution_count": 12,
   "metadata": {},
   "outputs": [
    {
     "name": "stdout",
     "output_type": "stream",
     "text": [
      "CPU times: user 1min 2s, sys: 1.88 s, total: 1min 4s\n",
      "Wall time: 29.9 s\n"
     ]
    },
    {
     "data": {
      "text/html": [
       "<style>#sk-container-id-2 {color: black;background-color: white;}#sk-container-id-2 pre{padding: 0;}#sk-container-id-2 div.sk-toggleable {background-color: white;}#sk-container-id-2 label.sk-toggleable__label {cursor: pointer;display: block;width: 100%;margin-bottom: 0;padding: 0.3em;box-sizing: border-box;text-align: center;}#sk-container-id-2 label.sk-toggleable__label-arrow:before {content: \"▸\";float: left;margin-right: 0.25em;color: #696969;}#sk-container-id-2 label.sk-toggleable__label-arrow:hover:before {color: black;}#sk-container-id-2 div.sk-estimator:hover label.sk-toggleable__label-arrow:before {color: black;}#sk-container-id-2 div.sk-toggleable__content {max-height: 0;max-width: 0;overflow: hidden;text-align: left;background-color: #f0f8ff;}#sk-container-id-2 div.sk-toggleable__content pre {margin: 0.2em;color: black;border-radius: 0.25em;background-color: #f0f8ff;}#sk-container-id-2 input.sk-toggleable__control:checked~div.sk-toggleable__content {max-height: 200px;max-width: 100%;overflow: auto;}#sk-container-id-2 input.sk-toggleable__control:checked~label.sk-toggleable__label-arrow:before {content: \"▾\";}#sk-container-id-2 div.sk-estimator input.sk-toggleable__control:checked~label.sk-toggleable__label {background-color: #d4ebff;}#sk-container-id-2 div.sk-label input.sk-toggleable__control:checked~label.sk-toggleable__label {background-color: #d4ebff;}#sk-container-id-2 input.sk-hidden--visually {border: 0;clip: rect(1px 1px 1px 1px);clip: rect(1px, 1px, 1px, 1px);height: 1px;margin: -1px;overflow: hidden;padding: 0;position: absolute;width: 1px;}#sk-container-id-2 div.sk-estimator {font-family: monospace;background-color: #f0f8ff;border: 1px dotted black;border-radius: 0.25em;box-sizing: border-box;margin-bottom: 0.5em;}#sk-container-id-2 div.sk-estimator:hover {background-color: #d4ebff;}#sk-container-id-2 div.sk-parallel-item::after {content: \"\";width: 100%;border-bottom: 1px solid gray;flex-grow: 1;}#sk-container-id-2 div.sk-label:hover label.sk-toggleable__label {background-color: #d4ebff;}#sk-container-id-2 div.sk-serial::before {content: \"\";position: absolute;border-left: 1px solid gray;box-sizing: border-box;top: 0;bottom: 0;left: 50%;z-index: 0;}#sk-container-id-2 div.sk-serial {display: flex;flex-direction: column;align-items: center;background-color: white;padding-right: 0.2em;padding-left: 0.2em;position: relative;}#sk-container-id-2 div.sk-item {position: relative;z-index: 1;}#sk-container-id-2 div.sk-parallel {display: flex;align-items: stretch;justify-content: center;background-color: white;position: relative;}#sk-container-id-2 div.sk-item::before, #sk-container-id-2 div.sk-parallel-item::before {content: \"\";position: absolute;border-left: 1px solid gray;box-sizing: border-box;top: 0;bottom: 0;left: 50%;z-index: -1;}#sk-container-id-2 div.sk-parallel-item {display: flex;flex-direction: column;z-index: 1;position: relative;background-color: white;}#sk-container-id-2 div.sk-parallel-item:first-child::after {align-self: flex-end;width: 50%;}#sk-container-id-2 div.sk-parallel-item:last-child::after {align-self: flex-start;width: 50%;}#sk-container-id-2 div.sk-parallel-item:only-child::after {width: 0;}#sk-container-id-2 div.sk-dashed-wrapped {border: 1px dashed gray;margin: 0 0.4em 0.5em 0.4em;box-sizing: border-box;padding-bottom: 0.4em;background-color: white;}#sk-container-id-2 div.sk-label label {font-family: monospace;font-weight: bold;display: inline-block;line-height: 1.2em;}#sk-container-id-2 div.sk-label-container {text-align: center;}#sk-container-id-2 div.sk-container {/* jupyter's `normalize.less` sets `[hidden] { display: none; }` but bootstrap.min.css set `[hidden] { display: none !important; }` so we also need the `!important` here to be able to override the default hidden behavior on the sphinx rendered scikit-learn.org. See: https://github.com/scikit-learn/scikit-learn/issues/21755 */display: inline-block !important;position: relative;}#sk-container-id-2 div.sk-text-repr-fallback {display: none;}</style><div id=\"sk-container-id-2\" class=\"sk-top-container\"><div class=\"sk-text-repr-fallback\"><pre>GridSearchCV(cv=10,\n",
       "             estimator=Pipeline(steps=[(&#x27;standardscaler&#x27;, StandardScaler()),\n",
       "                                       (&#x27;polynomialfeatures&#x27;,\n",
       "                                        PolynomialFeatures()),\n",
       "                                       (&#x27;linearregression&#x27;,\n",
       "                                        LinearRegression())]),\n",
       "             param_grid={&#x27;linearregression__fit_intercept&#x27;: [True, False],\n",
       "                         &#x27;linearregression__positive&#x27;: [True, False],\n",
       "                         &#x27;polynomialfeatures__degree&#x27;: [3, 4, 5]},\n",
       "             scoring=&#x27;neg_mean_squared_error&#x27;)</pre><b>In a Jupyter environment, please rerun this cell to show the HTML representation or trust the notebook. <br />On GitHub, the HTML representation is unable to render, please try loading this page with nbviewer.org.</b></div><div class=\"sk-container\" hidden><div class=\"sk-item sk-dashed-wrapped\"><div class=\"sk-label-container\"><div class=\"sk-label sk-toggleable\"><input class=\"sk-toggleable__control sk-hidden--visually\" id=\"sk-estimator-id-4\" type=\"checkbox\" ><label for=\"sk-estimator-id-4\" class=\"sk-toggleable__label sk-toggleable__label-arrow\">GridSearchCV</label><div class=\"sk-toggleable__content\"><pre>GridSearchCV(cv=10,\n",
       "             estimator=Pipeline(steps=[(&#x27;standardscaler&#x27;, StandardScaler()),\n",
       "                                       (&#x27;polynomialfeatures&#x27;,\n",
       "                                        PolynomialFeatures()),\n",
       "                                       (&#x27;linearregression&#x27;,\n",
       "                                        LinearRegression())]),\n",
       "             param_grid={&#x27;linearregression__fit_intercept&#x27;: [True, False],\n",
       "                         &#x27;linearregression__positive&#x27;: [True, False],\n",
       "                         &#x27;polynomialfeatures__degree&#x27;: [3, 4, 5]},\n",
       "             scoring=&#x27;neg_mean_squared_error&#x27;)</pre></div></div></div><div class=\"sk-parallel\"><div class=\"sk-parallel-item\"><div class=\"sk-item\"><div class=\"sk-label-container\"><div class=\"sk-label sk-toggleable\"><input class=\"sk-toggleable__control sk-hidden--visually\" id=\"sk-estimator-id-5\" type=\"checkbox\" ><label for=\"sk-estimator-id-5\" class=\"sk-toggleable__label sk-toggleable__label-arrow\">estimator: Pipeline</label><div class=\"sk-toggleable__content\"><pre>Pipeline(steps=[(&#x27;standardscaler&#x27;, StandardScaler()),\n",
       "                (&#x27;polynomialfeatures&#x27;, PolynomialFeatures()),\n",
       "                (&#x27;linearregression&#x27;, LinearRegression())])</pre></div></div></div><div class=\"sk-serial\"><div class=\"sk-item\"><div class=\"sk-serial\"><div class=\"sk-item\"><div class=\"sk-estimator sk-toggleable\"><input class=\"sk-toggleable__control sk-hidden--visually\" id=\"sk-estimator-id-6\" type=\"checkbox\" ><label for=\"sk-estimator-id-6\" class=\"sk-toggleable__label sk-toggleable__label-arrow\">StandardScaler</label><div class=\"sk-toggleable__content\"><pre>StandardScaler()</pre></div></div></div><div class=\"sk-item\"><div class=\"sk-estimator sk-toggleable\"><input class=\"sk-toggleable__control sk-hidden--visually\" id=\"sk-estimator-id-7\" type=\"checkbox\" ><label for=\"sk-estimator-id-7\" class=\"sk-toggleable__label sk-toggleable__label-arrow\">PolynomialFeatures</label><div class=\"sk-toggleable__content\"><pre>PolynomialFeatures()</pre></div></div></div><div class=\"sk-item\"><div class=\"sk-estimator sk-toggleable\"><input class=\"sk-toggleable__control sk-hidden--visually\" id=\"sk-estimator-id-8\" type=\"checkbox\" ><label for=\"sk-estimator-id-8\" class=\"sk-toggleable__label sk-toggleable__label-arrow\">LinearRegression</label><div class=\"sk-toggleable__content\"><pre>LinearRegression()</pre></div></div></div></div></div></div></div></div></div></div></div></div>"
      ],
      "text/plain": [
       "GridSearchCV(cv=10,\n",
       "             estimator=Pipeline(steps=[('standardscaler', StandardScaler()),\n",
       "                                       ('polynomialfeatures',\n",
       "                                        PolynomialFeatures()),\n",
       "                                       ('linearregression',\n",
       "                                        LinearRegression())]),\n",
       "             param_grid={'linearregression__fit_intercept': [True, False],\n",
       "                         'linearregression__positive': [True, False],\n",
       "                         'polynomialfeatures__degree': [3, 4, 5]},\n",
       "             scoring='neg_mean_squared_error')"
      ]
     },
     "execution_count": 12,
     "metadata": {},
     "output_type": "execute_result"
    }
   ],
   "source": [
    "%time poly_grid.fit(X_train_toan, y_train_toan)"
   ]
  },
  {
   "cell_type": "code",
   "execution_count": 13,
   "metadata": {},
   "outputs": [
    {
     "name": "stdout",
     "output_type": "stream",
     "text": [
      "Best Score: -0.5174110217757335\n",
      "Best Hyperparameters: {'linearregression__fit_intercept': True, 'linearregression__positive': False, 'polynomialfeatures__degree': 5}\n"
     ]
    }
   ],
   "source": [
    "print('Best Score: %s' % poly_grid.best_score_)\n",
    "print('Best Hyperparameters: %s' % poly_grid.best_params_)"
   ]
  },
  {
   "cell_type": "markdown",
   "metadata": {},
   "source": [
    "- Dựa trên bộ tham số này ta sẽ tạo pipeline tương ứng\n",
    "- Fit bộ dữ liệu train trên pipeline này và thực hiện dự đoán dựa trên test"
   ]
  },
  {
   "cell_type": "code",
   "execution_count": 14,
   "metadata": {},
   "outputs": [
    {
     "data": {
      "text/html": [
       "<style>#sk-container-id-3 {color: black;background-color: white;}#sk-container-id-3 pre{padding: 0;}#sk-container-id-3 div.sk-toggleable {background-color: white;}#sk-container-id-3 label.sk-toggleable__label {cursor: pointer;display: block;width: 100%;margin-bottom: 0;padding: 0.3em;box-sizing: border-box;text-align: center;}#sk-container-id-3 label.sk-toggleable__label-arrow:before {content: \"▸\";float: left;margin-right: 0.25em;color: #696969;}#sk-container-id-3 label.sk-toggleable__label-arrow:hover:before {color: black;}#sk-container-id-3 div.sk-estimator:hover label.sk-toggleable__label-arrow:before {color: black;}#sk-container-id-3 div.sk-toggleable__content {max-height: 0;max-width: 0;overflow: hidden;text-align: left;background-color: #f0f8ff;}#sk-container-id-3 div.sk-toggleable__content pre {margin: 0.2em;color: black;border-radius: 0.25em;background-color: #f0f8ff;}#sk-container-id-3 input.sk-toggleable__control:checked~div.sk-toggleable__content {max-height: 200px;max-width: 100%;overflow: auto;}#sk-container-id-3 input.sk-toggleable__control:checked~label.sk-toggleable__label-arrow:before {content: \"▾\";}#sk-container-id-3 div.sk-estimator input.sk-toggleable__control:checked~label.sk-toggleable__label {background-color: #d4ebff;}#sk-container-id-3 div.sk-label input.sk-toggleable__control:checked~label.sk-toggleable__label {background-color: #d4ebff;}#sk-container-id-3 input.sk-hidden--visually {border: 0;clip: rect(1px 1px 1px 1px);clip: rect(1px, 1px, 1px, 1px);height: 1px;margin: -1px;overflow: hidden;padding: 0;position: absolute;width: 1px;}#sk-container-id-3 div.sk-estimator {font-family: monospace;background-color: #f0f8ff;border: 1px dotted black;border-radius: 0.25em;box-sizing: border-box;margin-bottom: 0.5em;}#sk-container-id-3 div.sk-estimator:hover {background-color: #d4ebff;}#sk-container-id-3 div.sk-parallel-item::after {content: \"\";width: 100%;border-bottom: 1px solid gray;flex-grow: 1;}#sk-container-id-3 div.sk-label:hover label.sk-toggleable__label {background-color: #d4ebff;}#sk-container-id-3 div.sk-serial::before {content: \"\";position: absolute;border-left: 1px solid gray;box-sizing: border-box;top: 0;bottom: 0;left: 50%;z-index: 0;}#sk-container-id-3 div.sk-serial {display: flex;flex-direction: column;align-items: center;background-color: white;padding-right: 0.2em;padding-left: 0.2em;position: relative;}#sk-container-id-3 div.sk-item {position: relative;z-index: 1;}#sk-container-id-3 div.sk-parallel {display: flex;align-items: stretch;justify-content: center;background-color: white;position: relative;}#sk-container-id-3 div.sk-item::before, #sk-container-id-3 div.sk-parallel-item::before {content: \"\";position: absolute;border-left: 1px solid gray;box-sizing: border-box;top: 0;bottom: 0;left: 50%;z-index: -1;}#sk-container-id-3 div.sk-parallel-item {display: flex;flex-direction: column;z-index: 1;position: relative;background-color: white;}#sk-container-id-3 div.sk-parallel-item:first-child::after {align-self: flex-end;width: 50%;}#sk-container-id-3 div.sk-parallel-item:last-child::after {align-self: flex-start;width: 50%;}#sk-container-id-3 div.sk-parallel-item:only-child::after {width: 0;}#sk-container-id-3 div.sk-dashed-wrapped {border: 1px dashed gray;margin: 0 0.4em 0.5em 0.4em;box-sizing: border-box;padding-bottom: 0.4em;background-color: white;}#sk-container-id-3 div.sk-label label {font-family: monospace;font-weight: bold;display: inline-block;line-height: 1.2em;}#sk-container-id-3 div.sk-label-container {text-align: center;}#sk-container-id-3 div.sk-container {/* jupyter's `normalize.less` sets `[hidden] { display: none; }` but bootstrap.min.css set `[hidden] { display: none !important; }` so we also need the `!important` here to be able to override the default hidden behavior on the sphinx rendered scikit-learn.org. See: https://github.com/scikit-learn/scikit-learn/issues/21755 */display: inline-block !important;position: relative;}#sk-container-id-3 div.sk-text-repr-fallback {display: none;}</style><div id=\"sk-container-id-3\" class=\"sk-top-container\"><div class=\"sk-text-repr-fallback\"><pre>Pipeline(steps=[(&#x27;standardscaler&#x27;, StandardScaler()),\n",
       "                (&#x27;polynomialfeatures&#x27;, PolynomialFeatures(degree=5)),\n",
       "                (&#x27;linearregression&#x27;, LinearRegression())])</pre><b>In a Jupyter environment, please rerun this cell to show the HTML representation or trust the notebook. <br />On GitHub, the HTML representation is unable to render, please try loading this page with nbviewer.org.</b></div><div class=\"sk-container\" hidden><div class=\"sk-item sk-dashed-wrapped\"><div class=\"sk-label-container\"><div class=\"sk-label sk-toggleable\"><input class=\"sk-toggleable__control sk-hidden--visually\" id=\"sk-estimator-id-9\" type=\"checkbox\" ><label for=\"sk-estimator-id-9\" class=\"sk-toggleable__label sk-toggleable__label-arrow\">Pipeline</label><div class=\"sk-toggleable__content\"><pre>Pipeline(steps=[(&#x27;standardscaler&#x27;, StandardScaler()),\n",
       "                (&#x27;polynomialfeatures&#x27;, PolynomialFeatures(degree=5)),\n",
       "                (&#x27;linearregression&#x27;, LinearRegression())])</pre></div></div></div><div class=\"sk-serial\"><div class=\"sk-item\"><div class=\"sk-estimator sk-toggleable\"><input class=\"sk-toggleable__control sk-hidden--visually\" id=\"sk-estimator-id-10\" type=\"checkbox\" ><label for=\"sk-estimator-id-10\" class=\"sk-toggleable__label sk-toggleable__label-arrow\">StandardScaler</label><div class=\"sk-toggleable__content\"><pre>StandardScaler()</pre></div></div></div><div class=\"sk-item\"><div class=\"sk-estimator sk-toggleable\"><input class=\"sk-toggleable__control sk-hidden--visually\" id=\"sk-estimator-id-11\" type=\"checkbox\" ><label for=\"sk-estimator-id-11\" class=\"sk-toggleable__label sk-toggleable__label-arrow\">PolynomialFeatures</label><div class=\"sk-toggleable__content\"><pre>PolynomialFeatures(degree=5)</pre></div></div></div><div class=\"sk-item\"><div class=\"sk-estimator sk-toggleable\"><input class=\"sk-toggleable__control sk-hidden--visually\" id=\"sk-estimator-id-12\" type=\"checkbox\" ><label for=\"sk-estimator-id-12\" class=\"sk-toggleable__label sk-toggleable__label-arrow\">LinearRegression</label><div class=\"sk-toggleable__content\"><pre>LinearRegression()</pre></div></div></div></div></div></div></div>"
      ],
      "text/plain": [
       "Pipeline(steps=[('standardscaler', StandardScaler()),\n",
       "                ('polynomialfeatures', PolynomialFeatures(degree=5)),\n",
       "                ('linearregression', LinearRegression())])"
      ]
     },
     "execution_count": 14,
     "metadata": {},
     "output_type": "execute_result"
    }
   ],
   "source": [
    "pipe_polreg = PolynomialRegression(degree=poly_grid.best_params_['polynomialfeatures__degree'],\n",
    "                                   fit_intercept=poly_grid.best_params_['linearregression__fit_intercept'],\n",
    "                                   positive=poly_grid.best_params_['linearregression__positive'])\n",
    "\n",
    "pipe_polreg.fit(X_train_toan, y_train_toan)"
   ]
  },
  {
   "cell_type": "markdown",
   "metadata": {},
   "source": [
    "#### Validate model\n",
    "Kế tiếp ta validation mô hình trên 10-folds dựa trên MSE"
   ]
  },
  {
   "cell_type": "code",
   "execution_count": 15,
   "metadata": {},
   "outputs": [
    {
     "data": {
      "text/plain": [
       "array([-0.52328432, -0.51727214, -0.51482147, -0.50991578, -0.51905274,\n",
       "       -0.52174178, -0.51696104, -0.51369144, -0.51670007, -0.52066943])"
      ]
     },
     "execution_count": 15,
     "metadata": {},
     "output_type": "execute_result"
    }
   ],
   "source": [
    "cross_val_score(pipe_polreg, X_train_toan, y_train_toan, cv=10, scoring='neg_mean_squared_error')"
   ]
  },
  {
   "cell_type": "markdown",
   "metadata": {},
   "source": [
    "#### Testing model\n",
    "- Cuối cùng, ta sẽ kiểm thử trên bộ dữ liệu test\n",
    "- Có thể thấy cách chỉ số tính ra đều ổn, cũng như một vài giá trị dự đoán và giá trị thực là tương đối gần bằng nhau"
   ]
  },
  {
   "cell_type": "code",
   "execution_count": 16,
   "metadata": {},
   "outputs": [
    {
     "name": "stdout",
     "output_type": "stream",
     "text": [
      "RMSE: 0.7145047770164877\n",
      "MSE: 0.5105170763793808\n",
      "MAE: 0.5416058503581866\n",
      "Model score: 1.0\n"
     ]
    }
   ],
   "source": [
    "y_test_pred_toan = pipe_polreg.predict(X_test_toan)\n",
    "print('RMSE: %s' % mean_squared_error(y_test_toan, y_test_pred_toan, squared=False))\n",
    "print('MSE: %s' % mean_squared_error(y_test_toan, y_test_pred_toan))\n",
    "print('MAE: %s' % mean_absolute_error(y_test_toan, y_test_pred_toan))\n",
    "print('Model score:', pipe_polreg.score(X_test_toan, y_test_pred_toan))"
   ]
  },
  {
   "cell_type": "code",
   "execution_count": 23,
   "metadata": {},
   "outputs": [
    {
     "data": {
      "text/html": [
       "<div>\n",
       "<style scoped>\n",
       "    .dataframe tbody tr th:only-of-type {\n",
       "        vertical-align: middle;\n",
       "    }\n",
       "\n",
       "    .dataframe tbody tr th {\n",
       "        vertical-align: top;\n",
       "    }\n",
       "\n",
       "    .dataframe thead th {\n",
       "        text-align: right;\n",
       "    }\n",
       "</style>\n",
       "<table border=\"1\" class=\"dataframe\">\n",
       "  <thead>\n",
       "    <tr style=\"text-align: right;\">\n",
       "      <th></th>\n",
       "      <th>vat_li</th>\n",
       "      <th>hoa_hoc</th>\n",
       "      <th>Output</th>\n",
       "      <th>Predict</th>\n",
       "    </tr>\n",
       "  </thead>\n",
       "  <tbody>\n",
       "    <tr>\n",
       "      <th>446204</th>\n",
       "      <td>7.75</td>\n",
       "      <td>8.00</td>\n",
       "      <td>7.4</td>\n",
       "      <td>8.098424</td>\n",
       "    </tr>\n",
       "    <tr>\n",
       "      <th>967293</th>\n",
       "      <td>8.50</td>\n",
       "      <td>5.25</td>\n",
       "      <td>8.4</td>\n",
       "      <td>8.340112</td>\n",
       "    </tr>\n",
       "    <tr>\n",
       "      <th>778919</th>\n",
       "      <td>7.00</td>\n",
       "      <td>6.75</td>\n",
       "      <td>7.6</td>\n",
       "      <td>7.639045</td>\n",
       "    </tr>\n",
       "    <tr>\n",
       "      <th>659572</th>\n",
       "      <td>6.25</td>\n",
       "      <td>6.50</td>\n",
       "      <td>7.0</td>\n",
       "      <td>7.364588</td>\n",
       "    </tr>\n",
       "    <tr>\n",
       "      <th>717937</th>\n",
       "      <td>8.75</td>\n",
       "      <td>7.50</td>\n",
       "      <td>8.6</td>\n",
       "      <td>8.420190</td>\n",
       "    </tr>\n",
       "    <tr>\n",
       "      <th>...</th>\n",
       "      <td>...</td>\n",
       "      <td>...</td>\n",
       "      <td>...</td>\n",
       "      <td>...</td>\n",
       "    </tr>\n",
       "    <tr>\n",
       "      <th>116898</th>\n",
       "      <td>5.75</td>\n",
       "      <td>4.00</td>\n",
       "      <td>4.2</td>\n",
       "      <td>6.885830</td>\n",
       "    </tr>\n",
       "    <tr>\n",
       "      <th>916656</th>\n",
       "      <td>4.00</td>\n",
       "      <td>2.75</td>\n",
       "      <td>6.0</td>\n",
       "      <td>5.736614</td>\n",
       "    </tr>\n",
       "    <tr>\n",
       "      <th>132790</th>\n",
       "      <td>7.50</td>\n",
       "      <td>7.25</td>\n",
       "      <td>7.2</td>\n",
       "      <td>7.880957</td>\n",
       "    </tr>\n",
       "    <tr>\n",
       "      <th>487097</th>\n",
       "      <td>7.00</td>\n",
       "      <td>8.25</td>\n",
       "      <td>8.6</td>\n",
       "      <td>8.011858</td>\n",
       "    </tr>\n",
       "    <tr>\n",
       "      <th>171712</th>\n",
       "      <td>5.75</td>\n",
       "      <td>5.25</td>\n",
       "      <td>6.8</td>\n",
       "      <td>6.999843</td>\n",
       "    </tr>\n",
       "  </tbody>\n",
       "</table>\n",
       "<p>32368 rows × 4 columns</p>\n",
       "</div>"
      ],
      "text/plain": [
       "        vat_li  hoa_hoc  Output   Predict\n",
       "446204    7.75     8.00     7.4  8.098424\n",
       "967293    8.50     5.25     8.4  8.340112\n",
       "778919    7.00     6.75     7.6  7.639045\n",
       "659572    6.25     6.50     7.0  7.364588\n",
       "717937    8.75     7.50     8.6  8.420190\n",
       "...        ...      ...     ...       ...\n",
       "116898    5.75     4.00     4.2  6.885830\n",
       "916656    4.00     2.75     6.0  5.736614\n",
       "132790    7.50     7.25     7.2  7.880957\n",
       "487097    7.00     8.25     8.6  8.011858\n",
       "171712    5.75     5.25     6.8  6.999843\n",
       "\n",
       "[32368 rows x 4 columns]"
      ]
     },
     "execution_count": 23,
     "metadata": {},
     "output_type": "execute_result"
    }
   ],
   "source": [
    "predict_toan_df = X_test_toan.copy()\n",
    "predict_toan_df['Output'] = y_test_toan\n",
    "predict_toan_df['Predict'] = y_test_pred_toan\n",
    "predict_toan_df"
   ]
  },
  {
   "cell_type": "markdown",
   "metadata": {},
   "source": [
    "## **2. Dự đoán điểm văn: dựa vào lịch sử _ địa lý _ GDCD (KHXH)**"
   ]
  },
  {
   "cell_type": "markdown",
   "metadata": {},
   "source": [
    "#### Pre-process (splitiing data)\n",
    "Trước tiên ta sẽ tiền xử lí bỏ các giá trị nan và split df ra thành 2 sets: train-test (với tỉ lệ 90-10)"
   ]
  },
  {
   "cell_type": "code",
   "execution_count": 25,
   "metadata": {},
   "outputs": [],
   "source": [
    "X_nv = score_df[['ngu_van', 'lich_su', 'dia_ly', 'gdcd']].dropna()[['lich_su', 'dia_ly', 'gdcd']]\n",
    "y_nv = score_df[['ngu_van', 'lich_su', 'dia_ly', 'gdcd']].dropna()[['ngu_van']]\n",
    "\n",
    "X_train_nv, X_test_nv, y_train_nv, y_test_nv = train_test_split(X_nv, y_nv, test_size=0.1, random_state=0)"
   ]
  },
  {
   "cell_type": "markdown",
   "metadata": {},
   "source": [
    "#### Trainning model\n",
    "Sau đó, ta sẽ fit trên grid để tìm bộ tham số tốt nhất"
   ]
  },
  {
   "cell_type": "code",
   "execution_count": 26,
   "metadata": {},
   "outputs": [
    {
     "name": "stdout",
     "output_type": "stream",
     "text": [
      "CPU times: user 4min 12s, sys: 35.9 s, total: 4min 48s\n",
      "Wall time: 3min 13s\n"
     ]
    },
    {
     "data": {
      "text/html": [
       "<style>#sk-container-id-4 {color: black;background-color: white;}#sk-container-id-4 pre{padding: 0;}#sk-container-id-4 div.sk-toggleable {background-color: white;}#sk-container-id-4 label.sk-toggleable__label {cursor: pointer;display: block;width: 100%;margin-bottom: 0;padding: 0.3em;box-sizing: border-box;text-align: center;}#sk-container-id-4 label.sk-toggleable__label-arrow:before {content: \"▸\";float: left;margin-right: 0.25em;color: #696969;}#sk-container-id-4 label.sk-toggleable__label-arrow:hover:before {color: black;}#sk-container-id-4 div.sk-estimator:hover label.sk-toggleable__label-arrow:before {color: black;}#sk-container-id-4 div.sk-toggleable__content {max-height: 0;max-width: 0;overflow: hidden;text-align: left;background-color: #f0f8ff;}#sk-container-id-4 div.sk-toggleable__content pre {margin: 0.2em;color: black;border-radius: 0.25em;background-color: #f0f8ff;}#sk-container-id-4 input.sk-toggleable__control:checked~div.sk-toggleable__content {max-height: 200px;max-width: 100%;overflow: auto;}#sk-container-id-4 input.sk-toggleable__control:checked~label.sk-toggleable__label-arrow:before {content: \"▾\";}#sk-container-id-4 div.sk-estimator input.sk-toggleable__control:checked~label.sk-toggleable__label {background-color: #d4ebff;}#sk-container-id-4 div.sk-label input.sk-toggleable__control:checked~label.sk-toggleable__label {background-color: #d4ebff;}#sk-container-id-4 input.sk-hidden--visually {border: 0;clip: rect(1px 1px 1px 1px);clip: rect(1px, 1px, 1px, 1px);height: 1px;margin: -1px;overflow: hidden;padding: 0;position: absolute;width: 1px;}#sk-container-id-4 div.sk-estimator {font-family: monospace;background-color: #f0f8ff;border: 1px dotted black;border-radius: 0.25em;box-sizing: border-box;margin-bottom: 0.5em;}#sk-container-id-4 div.sk-estimator:hover {background-color: #d4ebff;}#sk-container-id-4 div.sk-parallel-item::after {content: \"\";width: 100%;border-bottom: 1px solid gray;flex-grow: 1;}#sk-container-id-4 div.sk-label:hover label.sk-toggleable__label {background-color: #d4ebff;}#sk-container-id-4 div.sk-serial::before {content: \"\";position: absolute;border-left: 1px solid gray;box-sizing: border-box;top: 0;bottom: 0;left: 50%;z-index: 0;}#sk-container-id-4 div.sk-serial {display: flex;flex-direction: column;align-items: center;background-color: white;padding-right: 0.2em;padding-left: 0.2em;position: relative;}#sk-container-id-4 div.sk-item {position: relative;z-index: 1;}#sk-container-id-4 div.sk-parallel {display: flex;align-items: stretch;justify-content: center;background-color: white;position: relative;}#sk-container-id-4 div.sk-item::before, #sk-container-id-4 div.sk-parallel-item::before {content: \"\";position: absolute;border-left: 1px solid gray;box-sizing: border-box;top: 0;bottom: 0;left: 50%;z-index: -1;}#sk-container-id-4 div.sk-parallel-item {display: flex;flex-direction: column;z-index: 1;position: relative;background-color: white;}#sk-container-id-4 div.sk-parallel-item:first-child::after {align-self: flex-end;width: 50%;}#sk-container-id-4 div.sk-parallel-item:last-child::after {align-self: flex-start;width: 50%;}#sk-container-id-4 div.sk-parallel-item:only-child::after {width: 0;}#sk-container-id-4 div.sk-dashed-wrapped {border: 1px dashed gray;margin: 0 0.4em 0.5em 0.4em;box-sizing: border-box;padding-bottom: 0.4em;background-color: white;}#sk-container-id-4 div.sk-label label {font-family: monospace;font-weight: bold;display: inline-block;line-height: 1.2em;}#sk-container-id-4 div.sk-label-container {text-align: center;}#sk-container-id-4 div.sk-container {/* jupyter's `normalize.less` sets `[hidden] { display: none; }` but bootstrap.min.css set `[hidden] { display: none !important; }` so we also need the `!important` here to be able to override the default hidden behavior on the sphinx rendered scikit-learn.org. See: https://github.com/scikit-learn/scikit-learn/issues/21755 */display: inline-block !important;position: relative;}#sk-container-id-4 div.sk-text-repr-fallback {display: none;}</style><div id=\"sk-container-id-4\" class=\"sk-top-container\"><div class=\"sk-text-repr-fallback\"><pre>GridSearchCV(cv=10,\n",
       "             estimator=Pipeline(steps=[(&#x27;standardscaler&#x27;, StandardScaler()),\n",
       "                                       (&#x27;polynomialfeatures&#x27;,\n",
       "                                        PolynomialFeatures()),\n",
       "                                       (&#x27;linearregression&#x27;,\n",
       "                                        LinearRegression())]),\n",
       "             param_grid={&#x27;linearregression__fit_intercept&#x27;: [True, False],\n",
       "                         &#x27;linearregression__positive&#x27;: [True, False],\n",
       "                         &#x27;polynomialfeatures__degree&#x27;: [3, 4, 5]},\n",
       "             scoring=&#x27;neg_mean_squared_error&#x27;)</pre><b>In a Jupyter environment, please rerun this cell to show the HTML representation or trust the notebook. <br />On GitHub, the HTML representation is unable to render, please try loading this page with nbviewer.org.</b></div><div class=\"sk-container\" hidden><div class=\"sk-item sk-dashed-wrapped\"><div class=\"sk-label-container\"><div class=\"sk-label sk-toggleable\"><input class=\"sk-toggleable__control sk-hidden--visually\" id=\"sk-estimator-id-13\" type=\"checkbox\" ><label for=\"sk-estimator-id-13\" class=\"sk-toggleable__label sk-toggleable__label-arrow\">GridSearchCV</label><div class=\"sk-toggleable__content\"><pre>GridSearchCV(cv=10,\n",
       "             estimator=Pipeline(steps=[(&#x27;standardscaler&#x27;, StandardScaler()),\n",
       "                                       (&#x27;polynomialfeatures&#x27;,\n",
       "                                        PolynomialFeatures()),\n",
       "                                       (&#x27;linearregression&#x27;,\n",
       "                                        LinearRegression())]),\n",
       "             param_grid={&#x27;linearregression__fit_intercept&#x27;: [True, False],\n",
       "                         &#x27;linearregression__positive&#x27;: [True, False],\n",
       "                         &#x27;polynomialfeatures__degree&#x27;: [3, 4, 5]},\n",
       "             scoring=&#x27;neg_mean_squared_error&#x27;)</pre></div></div></div><div class=\"sk-parallel\"><div class=\"sk-parallel-item\"><div class=\"sk-item\"><div class=\"sk-label-container\"><div class=\"sk-label sk-toggleable\"><input class=\"sk-toggleable__control sk-hidden--visually\" id=\"sk-estimator-id-14\" type=\"checkbox\" ><label for=\"sk-estimator-id-14\" class=\"sk-toggleable__label sk-toggleable__label-arrow\">estimator: Pipeline</label><div class=\"sk-toggleable__content\"><pre>Pipeline(steps=[(&#x27;standardscaler&#x27;, StandardScaler()),\n",
       "                (&#x27;polynomialfeatures&#x27;, PolynomialFeatures()),\n",
       "                (&#x27;linearregression&#x27;, LinearRegression())])</pre></div></div></div><div class=\"sk-serial\"><div class=\"sk-item\"><div class=\"sk-serial\"><div class=\"sk-item\"><div class=\"sk-estimator sk-toggleable\"><input class=\"sk-toggleable__control sk-hidden--visually\" id=\"sk-estimator-id-15\" type=\"checkbox\" ><label for=\"sk-estimator-id-15\" class=\"sk-toggleable__label sk-toggleable__label-arrow\">StandardScaler</label><div class=\"sk-toggleable__content\"><pre>StandardScaler()</pre></div></div></div><div class=\"sk-item\"><div class=\"sk-estimator sk-toggleable\"><input class=\"sk-toggleable__control sk-hidden--visually\" id=\"sk-estimator-id-16\" type=\"checkbox\" ><label for=\"sk-estimator-id-16\" class=\"sk-toggleable__label sk-toggleable__label-arrow\">PolynomialFeatures</label><div class=\"sk-toggleable__content\"><pre>PolynomialFeatures()</pre></div></div></div><div class=\"sk-item\"><div class=\"sk-estimator sk-toggleable\"><input class=\"sk-toggleable__control sk-hidden--visually\" id=\"sk-estimator-id-17\" type=\"checkbox\" ><label for=\"sk-estimator-id-17\" class=\"sk-toggleable__label sk-toggleable__label-arrow\">LinearRegression</label><div class=\"sk-toggleable__content\"><pre>LinearRegression()</pre></div></div></div></div></div></div></div></div></div></div></div></div>"
      ],
      "text/plain": [
       "GridSearchCV(cv=10,\n",
       "             estimator=Pipeline(steps=[('standardscaler', StandardScaler()),\n",
       "                                       ('polynomialfeatures',\n",
       "                                        PolynomialFeatures()),\n",
       "                                       ('linearregression',\n",
       "                                        LinearRegression())]),\n",
       "             param_grid={'linearregression__fit_intercept': [True, False],\n",
       "                         'linearregression__positive': [True, False],\n",
       "                         'polynomialfeatures__degree': [3, 4, 5]},\n",
       "             scoring='neg_mean_squared_error')"
      ]
     },
     "execution_count": 26,
     "metadata": {},
     "output_type": "execute_result"
    }
   ],
   "source": [
    "%time poly_grid.fit(X_train_nv, y_train_nv)"
   ]
  },
  {
   "cell_type": "code",
   "execution_count": 27,
   "metadata": {},
   "outputs": [
    {
     "name": "stdout",
     "output_type": "stream",
     "text": [
      "Best Score: -1.3812864302087862\n",
      "Best Hyperparameters: {'linearregression__fit_intercept': False, 'linearregression__positive': False, 'polynomialfeatures__degree': 5}\n"
     ]
    }
   ],
   "source": [
    "print('Best Score: %s' % poly_grid.best_score_)\n",
    "print('Best Hyperparameters: %s' % poly_grid.best_params_)"
   ]
  },
  {
   "cell_type": "markdown",
   "metadata": {},
   "source": [
    "- Dựa trên bộ tham số này ta sẽ tạo pipeline tương ứng\n",
    "- Fit bộ dữ liệu train trên pipeline này và thực hiện dự đoán dựa trên test"
   ]
  },
  {
   "cell_type": "code",
   "execution_count": 28,
   "metadata": {},
   "outputs": [
    {
     "data": {
      "text/html": [
       "<style>#sk-container-id-5 {color: black;background-color: white;}#sk-container-id-5 pre{padding: 0;}#sk-container-id-5 div.sk-toggleable {background-color: white;}#sk-container-id-5 label.sk-toggleable__label {cursor: pointer;display: block;width: 100%;margin-bottom: 0;padding: 0.3em;box-sizing: border-box;text-align: center;}#sk-container-id-5 label.sk-toggleable__label-arrow:before {content: \"▸\";float: left;margin-right: 0.25em;color: #696969;}#sk-container-id-5 label.sk-toggleable__label-arrow:hover:before {color: black;}#sk-container-id-5 div.sk-estimator:hover label.sk-toggleable__label-arrow:before {color: black;}#sk-container-id-5 div.sk-toggleable__content {max-height: 0;max-width: 0;overflow: hidden;text-align: left;background-color: #f0f8ff;}#sk-container-id-5 div.sk-toggleable__content pre {margin: 0.2em;color: black;border-radius: 0.25em;background-color: #f0f8ff;}#sk-container-id-5 input.sk-toggleable__control:checked~div.sk-toggleable__content {max-height: 200px;max-width: 100%;overflow: auto;}#sk-container-id-5 input.sk-toggleable__control:checked~label.sk-toggleable__label-arrow:before {content: \"▾\";}#sk-container-id-5 div.sk-estimator input.sk-toggleable__control:checked~label.sk-toggleable__label {background-color: #d4ebff;}#sk-container-id-5 div.sk-label input.sk-toggleable__control:checked~label.sk-toggleable__label {background-color: #d4ebff;}#sk-container-id-5 input.sk-hidden--visually {border: 0;clip: rect(1px 1px 1px 1px);clip: rect(1px, 1px, 1px, 1px);height: 1px;margin: -1px;overflow: hidden;padding: 0;position: absolute;width: 1px;}#sk-container-id-5 div.sk-estimator {font-family: monospace;background-color: #f0f8ff;border: 1px dotted black;border-radius: 0.25em;box-sizing: border-box;margin-bottom: 0.5em;}#sk-container-id-5 div.sk-estimator:hover {background-color: #d4ebff;}#sk-container-id-5 div.sk-parallel-item::after {content: \"\";width: 100%;border-bottom: 1px solid gray;flex-grow: 1;}#sk-container-id-5 div.sk-label:hover label.sk-toggleable__label {background-color: #d4ebff;}#sk-container-id-5 div.sk-serial::before {content: \"\";position: absolute;border-left: 1px solid gray;box-sizing: border-box;top: 0;bottom: 0;left: 50%;z-index: 0;}#sk-container-id-5 div.sk-serial {display: flex;flex-direction: column;align-items: center;background-color: white;padding-right: 0.2em;padding-left: 0.2em;position: relative;}#sk-container-id-5 div.sk-item {position: relative;z-index: 1;}#sk-container-id-5 div.sk-parallel {display: flex;align-items: stretch;justify-content: center;background-color: white;position: relative;}#sk-container-id-5 div.sk-item::before, #sk-container-id-5 div.sk-parallel-item::before {content: \"\";position: absolute;border-left: 1px solid gray;box-sizing: border-box;top: 0;bottom: 0;left: 50%;z-index: -1;}#sk-container-id-5 div.sk-parallel-item {display: flex;flex-direction: column;z-index: 1;position: relative;background-color: white;}#sk-container-id-5 div.sk-parallel-item:first-child::after {align-self: flex-end;width: 50%;}#sk-container-id-5 div.sk-parallel-item:last-child::after {align-self: flex-start;width: 50%;}#sk-container-id-5 div.sk-parallel-item:only-child::after {width: 0;}#sk-container-id-5 div.sk-dashed-wrapped {border: 1px dashed gray;margin: 0 0.4em 0.5em 0.4em;box-sizing: border-box;padding-bottom: 0.4em;background-color: white;}#sk-container-id-5 div.sk-label label {font-family: monospace;font-weight: bold;display: inline-block;line-height: 1.2em;}#sk-container-id-5 div.sk-label-container {text-align: center;}#sk-container-id-5 div.sk-container {/* jupyter's `normalize.less` sets `[hidden] { display: none; }` but bootstrap.min.css set `[hidden] { display: none !important; }` so we also need the `!important` here to be able to override the default hidden behavior on the sphinx rendered scikit-learn.org. See: https://github.com/scikit-learn/scikit-learn/issues/21755 */display: inline-block !important;position: relative;}#sk-container-id-5 div.sk-text-repr-fallback {display: none;}</style><div id=\"sk-container-id-5\" class=\"sk-top-container\"><div class=\"sk-text-repr-fallback\"><pre>Pipeline(steps=[(&#x27;standardscaler&#x27;, StandardScaler()),\n",
       "                (&#x27;polynomialfeatures&#x27;, PolynomialFeatures(degree=5)),\n",
       "                (&#x27;linearregression&#x27;, LinearRegression(fit_intercept=False))])</pre><b>In a Jupyter environment, please rerun this cell to show the HTML representation or trust the notebook. <br />On GitHub, the HTML representation is unable to render, please try loading this page with nbviewer.org.</b></div><div class=\"sk-container\" hidden><div class=\"sk-item sk-dashed-wrapped\"><div class=\"sk-label-container\"><div class=\"sk-label sk-toggleable\"><input class=\"sk-toggleable__control sk-hidden--visually\" id=\"sk-estimator-id-18\" type=\"checkbox\" ><label for=\"sk-estimator-id-18\" class=\"sk-toggleable__label sk-toggleable__label-arrow\">Pipeline</label><div class=\"sk-toggleable__content\"><pre>Pipeline(steps=[(&#x27;standardscaler&#x27;, StandardScaler()),\n",
       "                (&#x27;polynomialfeatures&#x27;, PolynomialFeatures(degree=5)),\n",
       "                (&#x27;linearregression&#x27;, LinearRegression(fit_intercept=False))])</pre></div></div></div><div class=\"sk-serial\"><div class=\"sk-item\"><div class=\"sk-estimator sk-toggleable\"><input class=\"sk-toggleable__control sk-hidden--visually\" id=\"sk-estimator-id-19\" type=\"checkbox\" ><label for=\"sk-estimator-id-19\" class=\"sk-toggleable__label sk-toggleable__label-arrow\">StandardScaler</label><div class=\"sk-toggleable__content\"><pre>StandardScaler()</pre></div></div></div><div class=\"sk-item\"><div class=\"sk-estimator sk-toggleable\"><input class=\"sk-toggleable__control sk-hidden--visually\" id=\"sk-estimator-id-20\" type=\"checkbox\" ><label for=\"sk-estimator-id-20\" class=\"sk-toggleable__label sk-toggleable__label-arrow\">PolynomialFeatures</label><div class=\"sk-toggleable__content\"><pre>PolynomialFeatures(degree=5)</pre></div></div></div><div class=\"sk-item\"><div class=\"sk-estimator sk-toggleable\"><input class=\"sk-toggleable__control sk-hidden--visually\" id=\"sk-estimator-id-21\" type=\"checkbox\" ><label for=\"sk-estimator-id-21\" class=\"sk-toggleable__label sk-toggleable__label-arrow\">LinearRegression</label><div class=\"sk-toggleable__content\"><pre>LinearRegression(fit_intercept=False)</pre></div></div></div></div></div></div></div>"
      ],
      "text/plain": [
       "Pipeline(steps=[('standardscaler', StandardScaler()),\n",
       "                ('polynomialfeatures', PolynomialFeatures(degree=5)),\n",
       "                ('linearregression', LinearRegression(fit_intercept=False))])"
      ]
     },
     "execution_count": 28,
     "metadata": {},
     "output_type": "execute_result"
    }
   ],
   "source": [
    "pipe_polreg = PolynomialRegression(degree=poly_grid.best_params_['polynomialfeatures__degree'],\n",
    "                                   fit_intercept=poly_grid.best_params_['linearregression__fit_intercept'],\n",
    "                                   positive=poly_grid.best_params_['linearregression__positive'])\n",
    "\n",
    "pipe_polreg.fit(X_train_nv, y_train_nv)"
   ]
  },
  {
   "cell_type": "markdown",
   "metadata": {},
   "source": [
    "#### Validate model\n",
    "Kế tiếp ta validation mô hình trên 10-folds dựa trên MSE"
   ]
  },
  {
   "cell_type": "code",
   "execution_count": 29,
   "metadata": {},
   "outputs": [
    {
     "data": {
      "text/plain": [
       "array([-1.39841236, -1.37317648, -1.37067256, -1.3728315 , -1.39088717,\n",
       "       -1.38041596, -1.37085945, -1.38329436, -1.38541101, -1.38690344])"
      ]
     },
     "execution_count": 29,
     "metadata": {},
     "output_type": "execute_result"
    }
   ],
   "source": [
    "cross_val_score(pipe_polreg, X_train_nv, y_train_nv, cv=10, scoring='neg_mean_squared_error')"
   ]
  },
  {
   "cell_type": "markdown",
   "metadata": {},
   "source": [
    "#### Testing model\n",
    "- Cuối cùng, ta sẽ kiểm thử trên bộ dữ liệu test\n",
    "- Có thể thấy cách chỉ số tính ra đều khá ổn, cũng như một vài giá trị dự đoán và giá trị thực là tương đối gần bằng nhau\n",
    "- Tuy vậy lỗi bình phương trung bình vẫn lớn hơn mô hình ở phần 1"
   ]
  },
  {
   "cell_type": "code",
   "execution_count": 30,
   "metadata": {},
   "outputs": [
    {
     "name": "stdout",
     "output_type": "stream",
     "text": [
      "RMSE: 1.1818903177371458\n",
      "MSE: 1.3968647231608113\n",
      "MAE: 0.948635548933555\n",
      "Model score: 1.0\n"
     ]
    }
   ],
   "source": [
    "y_test_pred_nv = pipe_polreg.predict(X_test_nv)\n",
    "print('RMSE: %s' % mean_squared_error(y_test_nv, y_test_pred_nv, squared=False))\n",
    "print('MSE: %s' % mean_squared_error(y_test_nv, y_test_pred_nv))\n",
    "print('MAE: %s' % mean_absolute_error(y_test_nv, y_test_pred_nv))\n",
    "print('Model score:', pipe_polreg.score(X_test_nv, y_test_pred_nv))"
   ]
  },
  {
   "cell_type": "code",
   "execution_count": 34,
   "metadata": {},
   "outputs": [
    {
     "data": {
      "text/html": [
       "<div>\n",
       "<style scoped>\n",
       "    .dataframe tbody tr th:only-of-type {\n",
       "        vertical-align: middle;\n",
       "    }\n",
       "\n",
       "    .dataframe tbody tr th {\n",
       "        vertical-align: top;\n",
       "    }\n",
       "\n",
       "    .dataframe thead th {\n",
       "        text-align: right;\n",
       "    }\n",
       "</style>\n",
       "<table border=\"1\" class=\"dataframe\">\n",
       "  <thead>\n",
       "    <tr style=\"text-align: right;\">\n",
       "      <th></th>\n",
       "      <th>lich_su</th>\n",
       "      <th>dia_ly</th>\n",
       "      <th>gdcd</th>\n",
       "      <th>Output</th>\n",
       "      <th>Predict</th>\n",
       "    </tr>\n",
       "  </thead>\n",
       "  <tbody>\n",
       "    <tr>\n",
       "      <th>186176</th>\n",
       "      <td>4.50</td>\n",
       "      <td>4.25</td>\n",
       "      <td>5.25</td>\n",
       "      <td>3.25</td>\n",
       "      <td>4.810653</td>\n",
       "    </tr>\n",
       "    <tr>\n",
       "      <th>222803</th>\n",
       "      <td>6.50</td>\n",
       "      <td>5.25</td>\n",
       "      <td>8.75</td>\n",
       "      <td>4.50</td>\n",
       "      <td>6.708959</td>\n",
       "    </tr>\n",
       "    <tr>\n",
       "      <th>616110</th>\n",
       "      <td>7.25</td>\n",
       "      <td>8.00</td>\n",
       "      <td>8.00</td>\n",
       "      <td>6.75</td>\n",
       "      <td>6.940266</td>\n",
       "    </tr>\n",
       "    <tr>\n",
       "      <th>46556</th>\n",
       "      <td>6.75</td>\n",
       "      <td>7.75</td>\n",
       "      <td>8.00</td>\n",
       "      <td>7.50</td>\n",
       "      <td>6.792566</td>\n",
       "    </tr>\n",
       "    <tr>\n",
       "      <th>487931</th>\n",
       "      <td>5.00</td>\n",
       "      <td>5.00</td>\n",
       "      <td>8.25</td>\n",
       "      <td>4.50</td>\n",
       "      <td>6.235406</td>\n",
       "    </tr>\n",
       "    <tr>\n",
       "      <th>...</th>\n",
       "      <td>...</td>\n",
       "      <td>...</td>\n",
       "      <td>...</td>\n",
       "      <td>...</td>\n",
       "      <td>...</td>\n",
       "    </tr>\n",
       "    <tr>\n",
       "      <th>617138</th>\n",
       "      <td>4.00</td>\n",
       "      <td>5.00</td>\n",
       "      <td>6.25</td>\n",
       "      <td>5.50</td>\n",
       "      <td>5.321021</td>\n",
       "    </tr>\n",
       "    <tr>\n",
       "      <th>864566</th>\n",
       "      <td>7.25</td>\n",
       "      <td>8.50</td>\n",
       "      <td>8.50</td>\n",
       "      <td>8.00</td>\n",
       "      <td>7.214333</td>\n",
       "    </tr>\n",
       "    <tr>\n",
       "      <th>747887</th>\n",
       "      <td>5.50</td>\n",
       "      <td>6.50</td>\n",
       "      <td>8.50</td>\n",
       "      <td>6.25</td>\n",
       "      <td>6.586211</td>\n",
       "    </tr>\n",
       "    <tr>\n",
       "      <th>954464</th>\n",
       "      <td>6.00</td>\n",
       "      <td>6.50</td>\n",
       "      <td>8.00</td>\n",
       "      <td>5.00</td>\n",
       "      <td>6.524992</td>\n",
       "    </tr>\n",
       "    <tr>\n",
       "      <th>322258</th>\n",
       "      <td>7.50</td>\n",
       "      <td>6.75</td>\n",
       "      <td>9.25</td>\n",
       "      <td>7.50</td>\n",
       "      <td>7.209209</td>\n",
       "    </tr>\n",
       "  </tbody>\n",
       "</table>\n",
       "<p>55402 rows × 5 columns</p>\n",
       "</div>"
      ],
      "text/plain": [
       "        lich_su  dia_ly  gdcd  Output   Predict\n",
       "186176     4.50    4.25  5.25    3.25  4.810653\n",
       "222803     6.50    5.25  8.75    4.50  6.708959\n",
       "616110     7.25    8.00  8.00    6.75  6.940266\n",
       "46556      6.75    7.75  8.00    7.50  6.792566\n",
       "487931     5.00    5.00  8.25    4.50  6.235406\n",
       "...         ...     ...   ...     ...       ...\n",
       "617138     4.00    5.00  6.25    5.50  5.321021\n",
       "864566     7.25    8.50  8.50    8.00  7.214333\n",
       "747887     5.50    6.50  8.50    6.25  6.586211\n",
       "954464     6.00    6.50  8.00    5.00  6.524992\n",
       "322258     7.50    6.75  9.25    7.50  7.209209\n",
       "\n",
       "[55402 rows x 5 columns]"
      ]
     },
     "execution_count": 34,
     "metadata": {},
     "output_type": "execute_result"
    }
   ],
   "source": [
    "predict_nv_df = X_test_nv.copy()\n",
    "predict_nv_df['Output'] = y_test_nv\n",
    "predict_nv_df['Predict'] = y_test_pred_nv\n",
    "predict_nv_df"
   ]
  },
  {
   "cell_type": "markdown",
   "metadata": {},
   "source": [
    "# **Logistics Regression**\n",
    "- Dựa vào sự phân bố loại tốt nghiệp ở file 1_Distribution.ipynb có thể thấy:\n",
    "    + Tỉ lệ học sinh rớt tốt nghiệp rất ít (3%)\n",
    "    + Nên không đủ để đánh giá, dự đoán xem thí sinh đậu hay rớt\n",
    "- Với file 2_Correlation:\n",
    "    + Môn toán (KHTN):\n",
    "        + Tương quan mạnh với vật lí _ hóa học\n",
    "        + Tương quan vừa với ngoại ngữ _ sinh học\n",
    "    + Môn ngữ văn (KHXH):\n",
    "        + Tương quan mạnh với ngoại ngữ _ GDCD\n",
    "        + Tương quan mạnh với lịch sử _Địa lý\n",
    "- ***Vậy từ điểm môn toán - ngữ văn (Hai môn thi đầu tiên) ta sẽ dự đoán thí sinh tốt nghiệp THPT loại \"khá - giỏi\" hay là không??***"
   ]
  },
  {
   "cell_type": "markdown",
   "metadata": {},
   "source": [
    "#### Pre-process (create new columns and splitting data)\n",
    "Trước tiên ta sẽ tiền xử lí để:\n",
    "- Tính cột điểm tốt nghiệp và từ đó tạo được cột xếp lại tốt nghiệp (đây là code lấy lại của file *1_Distribution.ipynb*)\n",
    "- Vì phân loại khá chiếm tỉ trọng rất nhiều so với giỏi (gần gắp 8 lần) nên ở đây ta sử dụng random over sampler để đưa dữ liệu không cân bằng về cân bằng\n",
    "- Lấy ra những dòng có xếp loại tốt nghiệp là giỏi hoặc khá, gán nhãn cho 'Kha' là 0 và 'Gioi' là 1, loại bỏ những giá trị nan và split df ra thành 2 sets: train-test (với tỉ lệ 90-10)"
   ]
  },
  {
   "cell_type": "code",
   "execution_count": 4,
   "metadata": {},
   "outputs": [],
   "source": [
    "score_df['diem_tn'] = score_df.loc[(score_df['phan_loai'] != 'DH_RETEST') & (score_df['phan_loai'] != 'TH_RETEST'),\n",
    "            ['toan','ngu_van', 'ngoai_ngu','vat_li','hoa_hoc','sinh_hoc','lich_su', 'dia_ly', 'gdcd']].mean(axis=1)\n",
    "\n",
    "def classifier(row):\n",
    "    if (pd.isna(row['diem_tn'])):\n",
    "        return np.nan\n",
    "    elif (min(row['toan'], row['ngu_van'], row['ngoai_ngu'], row['vat_li'], row['hoa_hoc'], row['sinh_hoc'], row['lich_su'], row['dia_ly'], row['gdcd']) < 1):\n",
    "        return 'Rot'\n",
    "    elif (row['diem_tn'] >= 8):\n",
    "        return 'Gioi'\n",
    "    elif (row['diem_tn'] >= 6.5):\n",
    "        return 'Kha'\n",
    "    elif (row['diem_tn'] >= 4.5):\n",
    "        return 'Trung binh'\n",
    "    else: return 'Rot'\n",
    "\n",
    "score_df['xep_loai_tn'] = score_df.apply(classifier, axis = 1)"
   ]
  },
  {
   "cell_type": "code",
   "execution_count": 5,
   "metadata": {},
   "outputs": [],
   "source": [
    "X_xltn = score_df[(score_df['xep_loai_tn'] == 'Gioi') | (score_df['xep_loai_tn'] == 'Kha')][['toan', 'ngu_van']].dropna()\n",
    "y_xltn = score_df[(score_df['xep_loai_tn'] == 'Gioi') | (score_df['xep_loai_tn'] == 'Kha')][['xep_loai_tn']]\n",
    "\n",
    "ros = RandomOverSampler(random_state=0)\n",
    "X_xltn_resampled, y_xltn_resampled = ros.fit_resample(X_xltn, y_xltn)\n",
    "\n",
    "X_train_xltn, X_test_xltn, y_train_xltn, y_test_xltn = train_test_split(X_xltn_resampled, y_xltn_resampled, test_size=0.1, random_state=0)\n",
    "y_train_xltn = column_or_1d(y_train_xltn.replace(['Kha', 'Gioi'], [0, 1]), warn=False)\n",
    "y_test_xltn = column_or_1d(y_test_xltn.replace(['Kha', 'Gioi'], [0, 1]), warn=False)"
   ]
  },
  {
   "cell_type": "markdown",
   "metadata": {},
   "source": [
    "#### Trainning model\n",
    "Sau đó, ta tìm bộ tham số tốt nhất sử dụng optuna trên pipeline (gồm chuẩn hóa StandardScaler và LogisticRegression) dựa trên cross_val_score (có cv là RepeatedStratifiedKFold với k = 10 và lặp lại 3 lần, đánh giá bằng trung bình của f1-score)"
   ]
  },
  {
   "cell_type": "code",
   "execution_count": 6,
   "metadata": {
    "scrolled": true
   },
   "outputs": [
    {
     "name": "stderr",
     "output_type": "stream",
     "text": [
      "\u001b[32m[I 2023-01-13 03:02:15,468]\u001b[0m Finished trial#0 resulted in value: 0.7918179266959708. Current best value is 0.7918179266959708 with parameters: {'penalty': 'l2', 'tol': 1.7571855365552842e-06, 'max_iter': 200.0, 'fit_intercept': 0}.\u001b[0m\n",
      "\u001b[32m[I 2023-01-13 03:02:22,159]\u001b[0m Finished trial#1 resulted in value: 0.7918179266959708. Current best value is 0.7918179266959708 with parameters: {'penalty': 'l2', 'tol': 1.7571855365552842e-06, 'max_iter': 200.0, 'fit_intercept': 0}.\u001b[0m\n",
      "\u001b[32m[I 2023-01-13 03:02:27,787]\u001b[0m Finished trial#2 resulted in value: 0.7869792738469561. Current best value is 0.7918179266959708 with parameters: {'penalty': 'l2', 'tol': 1.7571855365552842e-06, 'max_iter': 200.0, 'fit_intercept': 0}.\u001b[0m\n",
      "\u001b[32m[I 2023-01-13 03:02:34,258]\u001b[0m Finished trial#3 resulted in value: 0.7869792738469561. Current best value is 0.7918179266959708 with parameters: {'penalty': 'l2', 'tol': 1.7571855365552842e-06, 'max_iter': 200.0, 'fit_intercept': 0}.\u001b[0m\n",
      "\u001b[32m[I 2023-01-13 03:02:39,048]\u001b[0m Finished trial#4 resulted in value: 0.7918179266959708. Current best value is 0.7918179266959708 with parameters: {'penalty': 'l2', 'tol': 1.7571855365552842e-06, 'max_iter': 200.0, 'fit_intercept': 0}.\u001b[0m\n",
      "\u001b[32m[I 2023-01-13 03:02:42,953]\u001b[0m Finished trial#5 resulted in value: 0.7918179266959708. Current best value is 0.7918179266959708 with parameters: {'penalty': 'l2', 'tol': 1.7571855365552842e-06, 'max_iter': 200.0, 'fit_intercept': 0}.\u001b[0m\n",
      "\u001b[32m[I 2023-01-13 03:02:46,910]\u001b[0m Finished trial#6 resulted in value: 0.7869792738469561. Current best value is 0.7918179266959708 with parameters: {'penalty': 'l2', 'tol': 1.7571855365552842e-06, 'max_iter': 200.0, 'fit_intercept': 0}.\u001b[0m\n",
      "\u001b[32m[I 2023-01-13 03:02:50,911]\u001b[0m Finished trial#7 resulted in value: 0.7918179266959708. Current best value is 0.7918179266959708 with parameters: {'penalty': 'l2', 'tol': 1.7571855365552842e-06, 'max_iter': 200.0, 'fit_intercept': 0}.\u001b[0m\n",
      "\u001b[32m[I 2023-01-13 03:02:55,131]\u001b[0m Finished trial#8 resulted in value: 0.7869792738469561. Current best value is 0.7918179266959708 with parameters: {'penalty': 'l2', 'tol': 1.7571855365552842e-06, 'max_iter': 200.0, 'fit_intercept': 0}.\u001b[0m\n",
      "\u001b[32m[I 2023-01-13 03:02:59,154]\u001b[0m Finished trial#9 resulted in value: 0.7918179266959708. Current best value is 0.7918179266959708 with parameters: {'penalty': 'l2', 'tol': 1.7571855365552842e-06, 'max_iter': 200.0, 'fit_intercept': 0}.\u001b[0m\n",
      "\u001b[32m[I 2023-01-13 03:03:03,091]\u001b[0m Finished trial#10 resulted in value: 0.7918179266959708. Current best value is 0.7918179266959708 with parameters: {'penalty': 'l2', 'tol': 1.7571855365552842e-06, 'max_iter': 200.0, 'fit_intercept': 0}.\u001b[0m\n",
      "\u001b[32m[I 2023-01-13 03:03:06,977]\u001b[0m Finished trial#11 resulted in value: 0.7918179266959708. Current best value is 0.7918179266959708 with parameters: {'penalty': 'l2', 'tol': 1.7571855365552842e-06, 'max_iter': 200.0, 'fit_intercept': 0}.\u001b[0m\n",
      "\u001b[32m[I 2023-01-13 03:03:10,831]\u001b[0m Finished trial#12 resulted in value: 0.7918179266959708. Current best value is 0.7918179266959708 with parameters: {'penalty': 'l2', 'tol': 1.7571855365552842e-06, 'max_iter': 200.0, 'fit_intercept': 0}.\u001b[0m\n",
      "\u001b[32m[I 2023-01-13 03:03:14,369]\u001b[0m Finished trial#13 resulted in value: 0.7918179266959708. Current best value is 0.7918179266959708 with parameters: {'penalty': 'l2', 'tol': 1.7571855365552842e-06, 'max_iter': 200.0, 'fit_intercept': 0}.\u001b[0m\n",
      "\u001b[32m[I 2023-01-13 03:03:18,093]\u001b[0m Finished trial#14 resulted in value: 0.7918179266959708. Current best value is 0.7918179266959708 with parameters: {'penalty': 'l2', 'tol': 1.7571855365552842e-06, 'max_iter': 200.0, 'fit_intercept': 0}.\u001b[0m\n",
      "\u001b[32m[I 2023-01-13 03:03:22,308]\u001b[0m Finished trial#15 resulted in value: 0.7918179266959708. Current best value is 0.7918179266959708 with parameters: {'penalty': 'l2', 'tol': 1.7571855365552842e-06, 'max_iter': 200.0, 'fit_intercept': 0}.\u001b[0m\n",
      "\u001b[32m[I 2023-01-13 03:03:25,775]\u001b[0m Finished trial#16 resulted in value: 0.7918179266959708. Current best value is 0.7918179266959708 with parameters: {'penalty': 'l2', 'tol': 1.7571855365552842e-06, 'max_iter': 200.0, 'fit_intercept': 0}.\u001b[0m\n",
      "\u001b[32m[I 2023-01-13 03:03:30,098]\u001b[0m Finished trial#17 resulted in value: 0.7918179266959708. Current best value is 0.7918179266959708 with parameters: {'penalty': 'l2', 'tol': 1.7571855365552842e-06, 'max_iter': 200.0, 'fit_intercept': 0}.\u001b[0m\n",
      "\u001b[32m[I 2023-01-13 03:03:33,676]\u001b[0m Finished trial#18 resulted in value: 0.7918179266959708. Current best value is 0.7918179266959708 with parameters: {'penalty': 'l2', 'tol': 1.7571855365552842e-06, 'max_iter': 200.0, 'fit_intercept': 0}.\u001b[0m\n",
      "\u001b[32m[I 2023-01-13 03:03:37,363]\u001b[0m Finished trial#19 resulted in value: 0.7869792738469561. Current best value is 0.7918179266959708 with parameters: {'penalty': 'l2', 'tol': 1.7571855365552842e-06, 'max_iter': 200.0, 'fit_intercept': 0}.\u001b[0m\n"
     ]
    },
    {
     "name": "stdout",
     "output_type": "stream",
     "text": [
      "Accuracy: 0.7918179266959708\n",
      "Best hyperparameters: {'penalty': 'l2', 'tol': 1.7571855365552842e-06, 'max_iter': 200.0, 'fit_intercept': 0}\n",
      "CPU times: user 28 s, sys: 6.68 s, total: 34.7 s\n",
      "Wall time: 1min 31s\n"
     ]
    }
   ],
   "source": [
    "%%time\n",
    "def LogisticRegression_Pipe(**kwargs):\n",
    "    return make_pipeline(StandardScaler(), LogisticRegression(**kwargs))\n",
    "\n",
    "def objective(trial):\n",
    "    penalty = trial.suggest_categorical('penalty', ['l2'])\n",
    "    tol = trial.suggest_loguniform('tol', 1e-6, 1e-3)\n",
    "    max_iter = trial.suggest_discrete_uniform('max_iter', 50, 200, 50)\n",
    "#     solver = trial.suggest_categorical('solver', ['lbfgs', 'liblinear', 'newton-cg', 'newton-cholesky', 'sag', 'saga'])\n",
    "    fit_intercept = trial.suggest_int('fit_intercept', False, True)\n",
    "\n",
    "    pipe_logisreg = LogisticRegression_Pipe(penalty=penalty,\n",
    "                                            tol=tol,\n",
    "                                            max_iter=max_iter,\n",
    "#                                             solver=solver,\n",
    "                                            fit_intercept=fit_intercept)\n",
    "    \n",
    "    rskf = RepeatedStratifiedKFold(n_splits=10, n_repeats=3, random_state=0)\n",
    "    return cross_val_score(pipe_logisreg, X_train_xltn, y_train_xltn, cv=rskf, scoring='f1', n_jobs=-1).mean()\n",
    "\n",
    "study = optuna.create_study(direction='maximize')\n",
    "study.optimize(objective, n_trials=20)\n",
    "\n",
    "trial = study.best_trial\n",
    "print('Accuracy: {}'.format(trial.value))\n",
    "print(\"Best hyperparameters: {}\".format(trial.params))"
   ]
  },
  {
   "cell_type": "markdown",
   "metadata": {},
   "source": [
    "- Dựa trên bộ tham số này ta sẽ tạo pipeline tương ứng\n",
    "- Fit bộ dữ liệu train trên pipeline này và thực hiện dự đoán dựa trên test"
   ]
  },
  {
   "cell_type": "code",
   "execution_count": 7,
   "metadata": {},
   "outputs": [
    {
     "data": {
      "text/html": [
       "<style>#sk-container-id-1 {color: black;background-color: white;}#sk-container-id-1 pre{padding: 0;}#sk-container-id-1 div.sk-toggleable {background-color: white;}#sk-container-id-1 label.sk-toggleable__label {cursor: pointer;display: block;width: 100%;margin-bottom: 0;padding: 0.3em;box-sizing: border-box;text-align: center;}#sk-container-id-1 label.sk-toggleable__label-arrow:before {content: \"▸\";float: left;margin-right: 0.25em;color: #696969;}#sk-container-id-1 label.sk-toggleable__label-arrow:hover:before {color: black;}#sk-container-id-1 div.sk-estimator:hover label.sk-toggleable__label-arrow:before {color: black;}#sk-container-id-1 div.sk-toggleable__content {max-height: 0;max-width: 0;overflow: hidden;text-align: left;background-color: #f0f8ff;}#sk-container-id-1 div.sk-toggleable__content pre {margin: 0.2em;color: black;border-radius: 0.25em;background-color: #f0f8ff;}#sk-container-id-1 input.sk-toggleable__control:checked~div.sk-toggleable__content {max-height: 200px;max-width: 100%;overflow: auto;}#sk-container-id-1 input.sk-toggleable__control:checked~label.sk-toggleable__label-arrow:before {content: \"▾\";}#sk-container-id-1 div.sk-estimator input.sk-toggleable__control:checked~label.sk-toggleable__label {background-color: #d4ebff;}#sk-container-id-1 div.sk-label input.sk-toggleable__control:checked~label.sk-toggleable__label {background-color: #d4ebff;}#sk-container-id-1 input.sk-hidden--visually {border: 0;clip: rect(1px 1px 1px 1px);clip: rect(1px, 1px, 1px, 1px);height: 1px;margin: -1px;overflow: hidden;padding: 0;position: absolute;width: 1px;}#sk-container-id-1 div.sk-estimator {font-family: monospace;background-color: #f0f8ff;border: 1px dotted black;border-radius: 0.25em;box-sizing: border-box;margin-bottom: 0.5em;}#sk-container-id-1 div.sk-estimator:hover {background-color: #d4ebff;}#sk-container-id-1 div.sk-parallel-item::after {content: \"\";width: 100%;border-bottom: 1px solid gray;flex-grow: 1;}#sk-container-id-1 div.sk-label:hover label.sk-toggleable__label {background-color: #d4ebff;}#sk-container-id-1 div.sk-serial::before {content: \"\";position: absolute;border-left: 1px solid gray;box-sizing: border-box;top: 0;bottom: 0;left: 50%;z-index: 0;}#sk-container-id-1 div.sk-serial {display: flex;flex-direction: column;align-items: center;background-color: white;padding-right: 0.2em;padding-left: 0.2em;position: relative;}#sk-container-id-1 div.sk-item {position: relative;z-index: 1;}#sk-container-id-1 div.sk-parallel {display: flex;align-items: stretch;justify-content: center;background-color: white;position: relative;}#sk-container-id-1 div.sk-item::before, #sk-container-id-1 div.sk-parallel-item::before {content: \"\";position: absolute;border-left: 1px solid gray;box-sizing: border-box;top: 0;bottom: 0;left: 50%;z-index: -1;}#sk-container-id-1 div.sk-parallel-item {display: flex;flex-direction: column;z-index: 1;position: relative;background-color: white;}#sk-container-id-1 div.sk-parallel-item:first-child::after {align-self: flex-end;width: 50%;}#sk-container-id-1 div.sk-parallel-item:last-child::after {align-self: flex-start;width: 50%;}#sk-container-id-1 div.sk-parallel-item:only-child::after {width: 0;}#sk-container-id-1 div.sk-dashed-wrapped {border: 1px dashed gray;margin: 0 0.4em 0.5em 0.4em;box-sizing: border-box;padding-bottom: 0.4em;background-color: white;}#sk-container-id-1 div.sk-label label {font-family: monospace;font-weight: bold;display: inline-block;line-height: 1.2em;}#sk-container-id-1 div.sk-label-container {text-align: center;}#sk-container-id-1 div.sk-container {/* jupyter's `normalize.less` sets `[hidden] { display: none; }` but bootstrap.min.css set `[hidden] { display: none !important; }` so we also need the `!important` here to be able to override the default hidden behavior on the sphinx rendered scikit-learn.org. See: https://github.com/scikit-learn/scikit-learn/issues/21755 */display: inline-block !important;position: relative;}#sk-container-id-1 div.sk-text-repr-fallback {display: none;}</style><div id=\"sk-container-id-1\" class=\"sk-top-container\"><div class=\"sk-text-repr-fallback\"><pre>Pipeline(steps=[(&#x27;standardscaler&#x27;, StandardScaler()),\n",
       "                (&#x27;logisticregression&#x27;,\n",
       "                 LogisticRegression(fit_intercept=0, max_iter=200.0,\n",
       "                                    tol=1.7571855365552842e-06))])</pre><b>In a Jupyter environment, please rerun this cell to show the HTML representation or trust the notebook. <br />On GitHub, the HTML representation is unable to render, please try loading this page with nbviewer.org.</b></div><div class=\"sk-container\" hidden><div class=\"sk-item sk-dashed-wrapped\"><div class=\"sk-label-container\"><div class=\"sk-label sk-toggleable\"><input class=\"sk-toggleable__control sk-hidden--visually\" id=\"sk-estimator-id-1\" type=\"checkbox\" ><label for=\"sk-estimator-id-1\" class=\"sk-toggleable__label sk-toggleable__label-arrow\">Pipeline</label><div class=\"sk-toggleable__content\"><pre>Pipeline(steps=[(&#x27;standardscaler&#x27;, StandardScaler()),\n",
       "                (&#x27;logisticregression&#x27;,\n",
       "                 LogisticRegression(fit_intercept=0, max_iter=200.0,\n",
       "                                    tol=1.7571855365552842e-06))])</pre></div></div></div><div class=\"sk-serial\"><div class=\"sk-item\"><div class=\"sk-estimator sk-toggleable\"><input class=\"sk-toggleable__control sk-hidden--visually\" id=\"sk-estimator-id-2\" type=\"checkbox\" ><label for=\"sk-estimator-id-2\" class=\"sk-toggleable__label sk-toggleable__label-arrow\">StandardScaler</label><div class=\"sk-toggleable__content\"><pre>StandardScaler()</pre></div></div></div><div class=\"sk-item\"><div class=\"sk-estimator sk-toggleable\"><input class=\"sk-toggleable__control sk-hidden--visually\" id=\"sk-estimator-id-3\" type=\"checkbox\" ><label for=\"sk-estimator-id-3\" class=\"sk-toggleable__label sk-toggleable__label-arrow\">LogisticRegression</label><div class=\"sk-toggleable__content\"><pre>LogisticRegression(fit_intercept=0, max_iter=200.0, tol=1.7571855365552842e-06)</pre></div></div></div></div></div></div></div>"
      ],
      "text/plain": [
       "Pipeline(steps=[('standardscaler', StandardScaler()),\n",
       "                ('logisticregression',\n",
       "                 LogisticRegression(fit_intercept=0, max_iter=200.0,\n",
       "                                    tol=1.7571855365552842e-06))])"
      ]
     },
     "execution_count": 7,
     "metadata": {},
     "output_type": "execute_result"
    }
   ],
   "source": [
    "pipe_logisreg = LogisticRegression_Pipe(penalty=trial.params['penalty'],\n",
    "                                        tol=trial.params['tol'],\n",
    "                                        max_iter=trial.params['max_iter'],\n",
    "#                                         solver=trial.params['solver'],\n",
    "                                        fit_intercept=trial.params['fit_intercept'])\n",
    "\n",
    "pipe_logisreg.fit(X_train_xltn, column_or_1d(y_train_xltn, warn=False))"
   ]
  },
  {
   "cell_type": "markdown",
   "metadata": {},
   "source": [
    "#### Validate model\n",
    "Kế tiếp ta validation mô hình trên 10-folds dựa trên f1-score"
   ]
  },
  {
   "cell_type": "code",
   "execution_count": 8,
   "metadata": {},
   "outputs": [
    {
     "data": {
      "text/plain": [
       "array([0.7918579 , 0.79042315, 0.789952  , 0.79396068, 0.79322485,\n",
       "       0.79316225, 0.7901317 , 0.79214861, 0.79366312, 0.78965656])"
      ]
     },
     "execution_count": 8,
     "metadata": {},
     "output_type": "execute_result"
    }
   ],
   "source": [
    "cross_val_score(pipe_logisreg, X_train_xltn, column_or_1d(y_train_xltn, warn=False), cv=10, scoring='f1')"
   ]
  },
  {
   "cell_type": "markdown",
   "metadata": {},
   "source": [
    "#### Testing model\n",
    "- Cuối cùng, ta sẽ kiểm thử trên bộ dữ liệu test\n",
    "- Nhờ vào việc sử dụng oversampling mà để xử lí việc khá gấp 8 lần giỏi mô hình đã cho ra f1-score cho cả hai lớp 0 và 1 là gần như nhau (nếu không có oversampling thì f1-score của khá sẽ cao và giỏi sẽ rất thấp)\n",
    "- Xét 4 chỉ số accuracy, precision, recall, f1-score cho cả hai lớp 0 và 1 đều khá ổn"
   ]
  },
  {
   "cell_type": "code",
   "execution_count": 9,
   "metadata": {},
   "outputs": [
    {
     "name": "stdout",
     "output_type": "stream",
     "text": [
      "              precision    recall  f1-score   support\n",
      "\n",
      "           0       0.81      0.74      0.77     38085\n",
      "           1       0.76      0.83      0.80     38475\n",
      "\n",
      "    accuracy                           0.78     76560\n",
      "   macro avg       0.79      0.78      0.78     76560\n",
      "weighted avg       0.79      0.78      0.78     76560\n",
      "\n"
     ]
    },
    {
     "data": {
      "text/plain": [
       "array([0, 1, 0, ..., 0, 1, 1])"
      ]
     },
     "execution_count": 9,
     "metadata": {},
     "output_type": "execute_result"
    }
   ],
   "source": [
    "y_test_pred_xltn = pipe_logisreg.predict(X_test_xltn)\n",
    "print(classification_report(y_test_xltn, y_test_pred_xltn))\n",
    "y_test_pred_xltn"
   ]
  },
  {
   "cell_type": "code",
   "execution_count": 36,
   "metadata": {},
   "outputs": [
    {
     "data": {
      "text/html": [
       "<div>\n",
       "<style scoped>\n",
       "    .dataframe tbody tr th:only-of-type {\n",
       "        vertical-align: middle;\n",
       "    }\n",
       "\n",
       "    .dataframe tbody tr th {\n",
       "        vertical-align: top;\n",
       "    }\n",
       "\n",
       "    .dataframe thead th {\n",
       "        text-align: right;\n",
       "    }\n",
       "</style>\n",
       "<table border=\"1\" class=\"dataframe\">\n",
       "  <thead>\n",
       "    <tr style=\"text-align: right;\">\n",
       "      <th></th>\n",
       "      <th>toan</th>\n",
       "      <th>ngu_van</th>\n",
       "      <th>Output</th>\n",
       "      <th>Predict</th>\n",
       "    </tr>\n",
       "  </thead>\n",
       "  <tbody>\n",
       "    <tr>\n",
       "      <th>297814</th>\n",
       "      <td>7.4</td>\n",
       "      <td>6.25</td>\n",
       "      <td>0</td>\n",
       "      <td>0</td>\n",
       "    </tr>\n",
       "    <tr>\n",
       "      <th>442526</th>\n",
       "      <td>8.4</td>\n",
       "      <td>8.75</td>\n",
       "      <td>1</td>\n",
       "      <td>1</td>\n",
       "    </tr>\n",
       "    <tr>\n",
       "      <th>363585</th>\n",
       "      <td>7.6</td>\n",
       "      <td>6.75</td>\n",
       "      <td>0</td>\n",
       "      <td>0</td>\n",
       "    </tr>\n",
       "    <tr>\n",
       "      <th>501353</th>\n",
       "      <td>7.0</td>\n",
       "      <td>7.50</td>\n",
       "      <td>1</td>\n",
       "      <td>0</td>\n",
       "    </tr>\n",
       "    <tr>\n",
       "      <th>181275</th>\n",
       "      <td>7.0</td>\n",
       "      <td>9.00</td>\n",
       "      <td>0</td>\n",
       "      <td>1</td>\n",
       "    </tr>\n",
       "    <tr>\n",
       "      <th>...</th>\n",
       "      <td>...</td>\n",
       "      <td>...</td>\n",
       "      <td>...</td>\n",
       "      <td>...</td>\n",
       "    </tr>\n",
       "    <tr>\n",
       "      <th>48920</th>\n",
       "      <td>8.6</td>\n",
       "      <td>6.25</td>\n",
       "      <td>0</td>\n",
       "      <td>0</td>\n",
       "    </tr>\n",
       "    <tr>\n",
       "      <th>417611</th>\n",
       "      <td>8.2</td>\n",
       "      <td>8.25</td>\n",
       "      <td>0</td>\n",
       "      <td>1</td>\n",
       "    </tr>\n",
       "    <tr>\n",
       "      <th>384062</th>\n",
       "      <td>7.8</td>\n",
       "      <td>7.25</td>\n",
       "      <td>0</td>\n",
       "      <td>0</td>\n",
       "    </tr>\n",
       "    <tr>\n",
       "      <th>225309</th>\n",
       "      <td>8.4</td>\n",
       "      <td>8.50</td>\n",
       "      <td>1</td>\n",
       "      <td>1</td>\n",
       "    </tr>\n",
       "    <tr>\n",
       "      <th>433475</th>\n",
       "      <td>8.2</td>\n",
       "      <td>7.75</td>\n",
       "      <td>1</td>\n",
       "      <td>1</td>\n",
       "    </tr>\n",
       "  </tbody>\n",
       "</table>\n",
       "<p>76560 rows × 4 columns</p>\n",
       "</div>"
      ],
      "text/plain": [
       "        toan  ngu_van  Output  Predict\n",
       "297814   7.4     6.25       0        0\n",
       "442526   8.4     8.75       1        1\n",
       "363585   7.6     6.75       0        0\n",
       "501353   7.0     7.50       1        0\n",
       "181275   7.0     9.00       0        1\n",
       "...      ...      ...     ...      ...\n",
       "48920    8.6     6.25       0        0\n",
       "417611   8.2     8.25       0        1\n",
       "384062   7.8     7.25       0        0\n",
       "225309   8.4     8.50       1        1\n",
       "433475   8.2     7.75       1        1\n",
       "\n",
       "[76560 rows x 4 columns]"
      ]
     },
     "execution_count": 36,
     "metadata": {},
     "output_type": "execute_result"
    }
   ],
   "source": [
    "predict_xltn_df = X_test_xltn.copy()\n",
    "predict_xltn_df['Output'] = y_test_xltn\n",
    "predict_xltn_df['Predict'] = y_test_pred_xltn\n",
    "predict_xltn_df"
   ]
  }
 ],
 "metadata": {
  "kernelspec": {
   "display_name": "Python 3 (ipykernel)",
   "language": "python",
   "name": "python3"
  },
  "language_info": {
   "codemirror_mode": {
    "name": "ipython",
    "version": 3
   },
   "file_extension": ".py",
   "mimetype": "text/x-python",
   "name": "python",
   "nbconvert_exporter": "python",
   "pygments_lexer": "ipython3",
   "version": "3.10.6"
  },
  "vscode": {
   "interpreter": {
    "hash": "0c3f1a7d561c5e7000fe22e0f69c159d058d18792b6544b4cdea00d1b72ad225"
   }
  }
 },
 "nbformat": 4,
 "nbformat_minor": 2
}
