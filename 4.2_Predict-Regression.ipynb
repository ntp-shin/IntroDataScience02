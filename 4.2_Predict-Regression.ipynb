{
 "cells": [
  {
   "attachments": {},
   "cell_type": "markdown",
   "metadata": {},
   "source": [
    "# **Hồi quy tuyến tính - Linear Regression**\n",
    "- Dựa vào độ tương quan ở file 2_Correlation.ipynb có thể thấy:\n",
    "    + Điểm toán tương quan mạnh với lý hóa\n",
    "    + Điểm văn tương quan mạnh với sử địa gdcd\n",
    "- Do đó ta sẽ dự đoán:\n",
    "    + Điểm toán: dựa trên điểm môn hóa học _ vật lí\n",
    "    + Điểm văn : dựa trên điểm môn lịch sử _ địa lý _ GDCD"
   ]
  },
  {
   "attachments": {},
   "cell_type": "markdown",
   "metadata": {},
   "source": [
    "## **1. Dự đoán điểm toán: dựa vào hóa học _ vật lí (KHTN)**"
   ]
  },
  {
   "cell_type": "markdown",
   "metadata": {},
   "source": []
  },
  {
   "attachments": {},
   "cell_type": "markdown",
   "metadata": {},
   "source": [
    "## **2. Dự đoán điểm văn: dựa vào lịch sử _ địa lý _ GDCD (KHXH)**"
   ]
  },
  {
   "cell_type": "markdown",
   "metadata": {},
   "source": []
  },
  {
   "attachments": {},
   "cell_type": "markdown",
   "metadata": {},
   "source": [
    "# **Logistics Regression**\n",
    "- Dựa vào sự phân bố loại tốt nghiệp ở file 1_Distribution.ipynb có thể thấy:\n",
    "    + Tỉ lệ học sinh rớt tốt nghiệp rất ít (3%)\n",
    "    + Nên không đủ để đánh giá, dự đoán xem thí sinh đậu hay rớt\n",
    "- Với file 2_Correlation:\n",
    "    + Môn toán (KHTN):\n",
    "        + Tương quan mạnh với vật lí _ hóa học\n",
    "        + Tương quan vừa với ngoại ngữ _ sinh học\n",
    "    + Môn ngữ văn (KHXH):\n",
    "        + Tương quan mạnh với ngoại ngữ _ GDCD\n",
    "        + Tương quan mạnh với lịch sử _Địa lý\n",
    "- ***Vậy từ điểm môn toán - ngữ văn (Hai môn thi đầu tiên) ta sẽ dự đoán thí sinh tốt nghiệp THPT loại \"khá - giỏi\" hay là không??***"
   ]
  }
 ],
 "metadata": {
  "kernelspec": {
   "display_name": "Python 3",
   "language": "python",
   "name": "python3"
  },
  "language_info": {
   "name": "python",
   "version": "3.10.2 (tags/v3.10.2:a58ebcc, Jan 17 2022, 14:12:15) [MSC v.1929 64 bit (AMD64)]"
  },
  "orig_nbformat": 4,
  "vscode": {
   "interpreter": {
    "hash": "0c3f1a7d561c5e7000fe22e0f69c159d058d18792b6544b4cdea00d1b72ad225"
   }
  }
 },
 "nbformat": 4,
 "nbformat_minor": 2
}
