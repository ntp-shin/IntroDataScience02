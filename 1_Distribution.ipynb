{
 "cells": [
  {
   "attachments": {},
   "cell_type": "markdown",
   "metadata": {},
   "source": [
    "# **Phân bố dữ diệu - Distribution data**"
   ]
  },
  {
   "cell_type": "code",
   "execution_count": 1,
   "metadata": {},
   "outputs": [],
   "source": [
    "import pandas as pd\n",
    "import matplotlib.pyplot as plt"
   ]
  },
  {
   "cell_type": "code",
   "execution_count": 2,
   "metadata": {},
   "outputs": [
    {
     "data": {
      "text/html": [
       "<div>\n",
       "<style scoped>\n",
       "    .dataframe tbody tr th:only-of-type {\n",
       "        vertical-align: middle;\n",
       "    }\n",
       "\n",
       "    .dataframe tbody tr th {\n",
       "        vertical-align: top;\n",
       "    }\n",
       "\n",
       "    .dataframe thead th {\n",
       "        text-align: right;\n",
       "    }\n",
       "</style>\n",
       "<table border=\"1\" class=\"dataframe\">\n",
       "  <thead>\n",
       "    <tr style=\"text-align: right;\">\n",
       "      <th></th>\n",
       "      <th>cum</th>\n",
       "      <th>sbd</th>\n",
       "      <th>toan</th>\n",
       "      <th>ngu_van</th>\n",
       "      <th>ngoai_ngu</th>\n",
       "      <th>vat_li</th>\n",
       "      <th>hoa_hoc</th>\n",
       "      <th>sinh_hoc</th>\n",
       "      <th>lich_su</th>\n",
       "      <th>dia_ly</th>\n",
       "      <th>gdcd</th>\n",
       "      <th>phan_loai</th>\n",
       "    </tr>\n",
       "  </thead>\n",
       "  <tbody>\n",
       "    <tr>\n",
       "      <th>0</th>\n",
       "      <td>1</td>\n",
       "      <td>1000001</td>\n",
       "      <td>3.6</td>\n",
       "      <td>5.00</td>\n",
       "      <td>4.0</td>\n",
       "      <td>NaN</td>\n",
       "      <td>NaN</td>\n",
       "      <td>NaN</td>\n",
       "      <td>2.75</td>\n",
       "      <td>6.0</td>\n",
       "      <td>8.75</td>\n",
       "      <td>THPT_KHXH</td>\n",
       "    </tr>\n",
       "    <tr>\n",
       "      <th>1</th>\n",
       "      <td>1</td>\n",
       "      <td>1000002</td>\n",
       "      <td>8.4</td>\n",
       "      <td>6.75</td>\n",
       "      <td>7.6</td>\n",
       "      <td>NaN</td>\n",
       "      <td>NaN</td>\n",
       "      <td>NaN</td>\n",
       "      <td>8.50</td>\n",
       "      <td>7.5</td>\n",
       "      <td>8.25</td>\n",
       "      <td>THPT_KHXH</td>\n",
       "    </tr>\n",
       "    <tr>\n",
       "      <th>2</th>\n",
       "      <td>1</td>\n",
       "      <td>1000003</td>\n",
       "      <td>5.8</td>\n",
       "      <td>7.50</td>\n",
       "      <td>5.0</td>\n",
       "      <td>NaN</td>\n",
       "      <td>NaN</td>\n",
       "      <td>NaN</td>\n",
       "      <td>7.25</td>\n",
       "      <td>5.5</td>\n",
       "      <td>8.75</td>\n",
       "      <td>THPT_KHXH</td>\n",
       "    </tr>\n",
       "    <tr>\n",
       "      <th>3</th>\n",
       "      <td>1</td>\n",
       "      <td>1000004</td>\n",
       "      <td>7.4</td>\n",
       "      <td>7.50</td>\n",
       "      <td>8.6</td>\n",
       "      <td>NaN</td>\n",
       "      <td>NaN</td>\n",
       "      <td>NaN</td>\n",
       "      <td>7.50</td>\n",
       "      <td>6.5</td>\n",
       "      <td>7.50</td>\n",
       "      <td>THPT_KHXH</td>\n",
       "    </tr>\n",
       "    <tr>\n",
       "      <th>4</th>\n",
       "      <td>1</td>\n",
       "      <td>1000005</td>\n",
       "      <td>7.2</td>\n",
       "      <td>8.50</td>\n",
       "      <td>9.0</td>\n",
       "      <td>NaN</td>\n",
       "      <td>NaN</td>\n",
       "      <td>NaN</td>\n",
       "      <td>8.00</td>\n",
       "      <td>8.5</td>\n",
       "      <td>8.25</td>\n",
       "      <td>THPT_KHXH</td>\n",
       "    </tr>\n",
       "  </tbody>\n",
       "</table>\n",
       "</div>"
      ],
      "text/plain": [
       "   cum      sbd  toan  ngu_van  ngoai_ngu  vat_li  hoa_hoc  sinh_hoc  lich_su  \\\n",
       "0    1  1000001   3.6     5.00        4.0     NaN      NaN       NaN     2.75   \n",
       "1    1  1000002   8.4     6.75        7.6     NaN      NaN       NaN     8.50   \n",
       "2    1  1000003   5.8     7.50        5.0     NaN      NaN       NaN     7.25   \n",
       "3    1  1000004   7.4     7.50        8.6     NaN      NaN       NaN     7.50   \n",
       "4    1  1000005   7.2     8.50        9.0     NaN      NaN       NaN     8.00   \n",
       "\n",
       "   dia_ly  gdcd  phan_loai  \n",
       "0     6.0  8.75  THPT_KHXH  \n",
       "1     7.5  8.25  THPT_KHXH  \n",
       "2     5.5  8.75  THPT_KHXH  \n",
       "3     6.5  7.50  THPT_KHXH  \n",
       "4     8.5  8.25  THPT_KHXH  "
      ]
     },
     "execution_count": 2,
     "metadata": {},
     "output_type": "execute_result"
    }
   ],
   "source": [
    "df = pd.read_csv('new_data.csv')\n",
    "df.head()"
   ]
  },
  {
   "attachments": {},
   "cell_type": "markdown",
   "metadata": {},
   "source": [
    "### **1. Nhận xét về sự phân bố điểm theo từng môn**"
   ]
  },
  {
   "cell_type": "code",
   "execution_count": 3,
   "metadata": {},
   "outputs": [],
   "source": [
    "column_name = ['toan', 'ngu_van', 'ngoai_ngu', 'vat_li', 'hoa_hoc', 'sinh_hoc', 'lich_su', 'dia_ly', 'gdcd']"
   ]
  },
  {
   "cell_type": "code",
   "execution_count": 4,
   "metadata": {},
   "outputs": [
    {
     "data": {
      "image/png": "[encoded data removed]",
      "text/plain": [
       "<Figure size 432x288 with 1 Axes>"
      ]
     },
     "metadata": {
      "needs_background": "light"
     },
     "output_type": "display_data"
    }
   ],
   "source": [
    "# Plot boxplot mon toan, ngu van\n",
    "boxplot = df.boxplot(column= column_name, return_type='axes',\n",
    "                    grid=False, vert=False, figsize=(20, 10), fontsize=15, color='red')\n",
    "plt.title('Boxplot', fontsize=20)\n",
    "plt.xlabel('Diem', fontsize=15)\n",
    "plt.ylabel('Mon', fontsize=15)\n",
    "plt.show()"
   ]
  },
  {
   "attachments": {},
   "cell_type": "markdown",
   "metadata": {},
   "source": [
    "#### *1.1 Môn toán*"
   ]
  },
  {
   "cell_type": "code",
   "execution_count": 6,
   "metadata": {},
   "outputs": [
    {
     "name": "stdout",
     "output_type": "stream",
     "text": [
      "Toan:\n",
      "min:  0.0\n",
      "max:  10.0\n",
      "mean:  6.4662540728544915\n",
      "median:  6.8\n",
      "1st quartile:  5.4\n",
      "3rd quartile:  7.8\n"
     ]
    }
   ],
   "source": [
    "index = df['toan']\n",
    "print('Toan:')\n",
    "print ('min: ',index.min())\n",
    "print ('max: ',index.max())\n",
    "print ('mean: ',index.mean())\n",
    "print ('median: ',index.quantile(0.5))\n",
    "print ('1st quartile: ',index.quantile(0.25))\n",
    "print ('3rd quartile: ',index.quantile(0.75))"
   ]
  },
  {
   "attachments": {},
   "cell_type": "markdown",
   "metadata": {},
   "source": [
    "- Hầu hết học sinh có điểm từ 2 đến 10, trong đó 50% số học sinh đạt điểm từ 5.4 đến 7.8 và 25% số học sinh trên 7.8, chỉ có 1 vài trường hợp dưới mức 2\n",
    "- Điểm số của 75% số học sinh từ 5.4 trở lên và biến thiên điểm số IQR là 2.4, điều này cho thấy đề môn này khá \n",
    "- Các câu nhiễu, bẫy, câu suy tính mấy thời gian để giải bắt đầu từ mức học sinh khá giỏi dẫn đến khoảng biến thiên nằm ở mức 5.4 đến 7.8"
   ]
  },
  {
   "attachments": {},
   "cell_type": "markdown",
   "metadata": {},
   "source": [
    "#### *1.2 Môn ngữ văn*"
   ]
  },
  {
   "cell_type": "code",
   "execution_count": 7,
   "metadata": {},
   "outputs": [
    {
     "name": "stdout",
     "output_type": "stream",
     "text": [
      "Ngu van:\n",
      "min:  0.0\n",
      "max:  10.0\n",
      "mean:  6.50774573647834\n",
      "median:  6.5\n",
      "1st quartile:  5.58\n",
      "3rd quartile:  7.5\n"
     ]
    }
   ],
   "source": [
    "index = df['ngu_van']\n",
    "print('Ngu van:')\n",
    "print ('min: ',index.min())\n",
    "print ('max: ',index.max())\n",
    "print ('mean: ',index.mean())\n",
    "print ('median: ',index.quantile(0.5))\n",
    "print ('1st quartile: ',index.quantile(0.25))\n",
    "print ('3rd quartile: ',index.quantile(0.75))"
   ]
  },
  {
   "attachments": {},
   "cell_type": "markdown",
   "metadata": {},
   "source": [
    "- Hầu hết học sinh có điểm từ 2.7 đến 10, trong đó 50% số học sinh đạt điểm từ 5.58 đến 7.5 và 25% số học sinh trên 7.5, chỉ có 1 vài trường hợp dưới mức 2.7\n",
    "- Điểm số của 75% số học sinh từ 5.58 trở lên và biến thiên điểm số IQR là 1.92, điều này cho thấy đề môn này khá\n",
    "- Sự phân tích của đề văn và phần thi viết khó bắt đầu từ mức khá giỏi dẫn đến khoảng biến thiên nằm ở mức 5.58 đến 7.5"
   ]
  },
  {
   "attachments": {},
   "cell_type": "markdown",
   "metadata": {},
   "source": [
    "#### *1.3 Môn ngoại ngữ*"
   ]
  },
  {
   "cell_type": "code",
   "execution_count": 15,
   "metadata": {},
   "outputs": [
    {
     "name": "stdout",
     "output_type": "stream",
     "text": [
      "Ngoai ngu:\n",
      "min:  0.0\n",
      "max:  10.0\n",
      "mean:  5.157686401128403\n",
      "median:  4.8\n",
      "1st quartile:  3.6\n",
      "3rd quartile:  6.6\n"
     ]
    }
   ],
   "source": [
    "index = df['ngoai_ngu']\n",
    "print('Ngoai ngu:')\n",
    "print ('min: ',index.min())\n",
    "print ('max: ',index.max())\n",
    "print ('mean: ',index.mean())\n",
    "print ('median: ',index.quantile(0.5))\n",
    "print ('1st quartile: ',index.quantile(0.25))\n",
    "print ('3rd quartile: ',index.quantile(0.75))"
   ]
  },
  {
   "attachments": {},
   "cell_type": "markdown",
   "metadata": {},
   "source": [
    " - Hầu hết học sinh có điểm trải dài từ 0 đến 10, trong đó 50% số học sinh đạt điểm từ 3.6 đến 6.6 và 25% số học sinh trên 6.6\n",
    "- Điểm số của 75% số học sinh từ 3.6 trở lên và biến thiên điểm số IQR là 3, điều này cho thấy đề môn này khó\n",
    "- Điểm số từ 0 đến 10 cho thấy trình độ câu hỏi tăng nhiều dần, Các câu hỏi bẫy ở phần reading, câu lựa chọn khó của listening và phần ngữ pháp, tự vựng từ mọi cấp độ bắt đầu từ mức trung bình dẫn đến khoảng biến thiên nằm ở mức 3.6 đến 6.6"
   ]
  },
  {
   "attachments": {},
   "cell_type": "markdown",
   "metadata": {},
   "source": [
    "#### *1.4 Môn vật lí && hóa học*"
   ]
  },
  {
   "cell_type": "code",
   "execution_count": 17,
   "metadata": {},
   "outputs": [
    {
     "name": "stdout",
     "output_type": "stream",
     "text": [
      "Vat li:\n",
      "min:  0.0\n",
      "max:  10.0\n",
      "mean:  6.7237791185261875\n",
      "median:  7.0\n",
      "1st quartile:  5.75\n",
      "3rd quartile:  7.75\n",
      "Hoa hoc:\n",
      "min:  0.0\n",
      "max:  10.0\n",
      "mean:  6.703898071583269\n",
      "median:  7.0\n",
      "1st quartile:  5.5\n",
      "3rd quartile:  8.0\n"
     ]
    }
   ],
   "source": [
    "index = df['vat_li']\n",
    "print('Vat li:')\n",
    "print ('min: ',index.min())\n",
    "print ('max: ',index.max())\n",
    "print ('mean: ',index.mean())\n",
    "print ('median: ',index.quantile(0.5))\n",
    "print ('1st quartile: ',index.quantile(0.25))\n",
    "print ('3rd quartile: ',index.quantile(0.75))\n",
    "index = df['hoa_hoc']\n",
    "print('Hoa hoc:')\n",
    "print ('min: ',index.min())\n",
    "print ('max: ',index.max())\n",
    "print ('mean: ',index.mean())\n",
    "print ('median: ',index.quantile(0.5))\n",
    "print ('1st quartile: ',index.quantile(0.25))\n",
    "print ('3rd quartile: ',index.quantile(0.75))"
   ]
  },
  {
   "attachments": {},
   "cell_type": "markdown",
   "metadata": {},
   "source": [
    "- Vật lí: \n",
    "    - Hầu hết học sinh có điểm từ 2.75 đến 10, trong đó 50% số học sinh đạt điểm từ 5.75 đến 7.75 và 25% số học sinh trên 7.75, chỉ có 1 vài trường hợp dưới 2.75\n",
    "    - Điểm số của 75% số học sinh từ 5.75 trở lên và biến thiên điểm số IQR là 2, điều này cho thấy đề môn này khá\n",
    "    - Câu hỏi phức tạp, chuyên sâu bắt đầu từ mức khá giỏi dẫn đến khoảng biến thiên ở mức 5.75 đén 7.75\n",
    "- Hoá học: \n",
    "    - Hầu hết học sinh có điểm từ 1.75 đến 10, trong đó 50% số học sinh đạt điểm từ 5.5 đến 8 và 25% số học sinh trên 8, chỉ 1 vài trường hợp dưới 1.75\n",
    "    - Điểm số của 75% số học sinh từ 5.5 trở lên và biên thiên điểm số IQR là 2.5, điều này cho thấy đề môn này Khá\n",
    "    - Các phương trình hoá học phức tạp, các công thức, đặc tính chuyên sâu bắt đầu từ mức khá giỏi dẫn đến khoảng biến thiên ở mức 5.5 đến 8"
   ]
  },
  {
   "attachments": {},
   "cell_type": "markdown",
   "metadata": {},
   "source": [
    "#### *1.5 Môn sinh học*"
   ]
  },
  {
   "cell_type": "code",
   "execution_count": 10,
   "metadata": {},
   "outputs": [
    {
     "name": "stdout",
     "output_type": "stream",
     "text": [
      "Sinh hoc:\n",
      "min:  0.0\n",
      "max:  10.0\n",
      "mean:  5.01910859161137\n",
      "median:  4.75\n",
      "1st quartile:  4.0\n",
      "3rd quartile:  6.0\n"
     ]
    }
   ],
   "source": [
    "index = df['sinh_hoc']\n",
    "print('Sinh hoc:')\n",
    "print ('min: ',index.min())\n",
    "print ('max: ',index.max())\n",
    "print ('mean: ',index.mean())\n",
    "print ('median: ',index.quantile(0.5))\n",
    "print ('1st quartile: ',index.quantile(0.25))\n",
    "print ('3rd quartile: ',index.quantile(0.75))"
   ]
  },
  {
   "attachments": {},
   "cell_type": "markdown",
   "metadata": {},
   "source": [
    "- Hầu hết học sinh có điểm từ 1. đến 9, trong đó 50% số học sinh đạt điểm từ 4 đến 6 và 25% số học sinh trên 6, chỉ 1 vài trường hợp dưới 1, và 1 vài trường hợp trên 9\n",
    "- Điểm số của 75% số học sinh từ 4 trở lên và biến thiên điểm số IQR là 2, điều này cho thấy đề môn này khó\n",
    "- Chuỗi Gen, lai giống, đặc điểm chuyên sâu bắt đầu từ mức trung bình dẫn tới khoảng biến thiên ở mức 4 đến 6"
   ]
  },
  {
   "attachments": {},
   "cell_type": "markdown",
   "metadata": {},
   "source": [
    "#### *1.6 Môn địa lý && lịch sử*"
   ]
  },
  {
   "cell_type": "code",
   "execution_count": 11,
   "metadata": {},
   "outputs": [
    {
     "name": "stdout",
     "output_type": "stream",
     "text": [
      "Dia ly:\n",
      "min:  0.0\n",
      "max:  10.0\n",
      "mean:  6.67792936337598\n",
      "median:  6.75\n",
      "1st quartile:  5.75\n",
      "3rd quartile:  7.5\n",
      "Lich su:\n",
      "min:  0.0\n",
      "max:  10.0\n",
      "mean:  6.343929542705204\n",
      "median:  6.5\n",
      "1st quartile:  5.25\n",
      "3rd quartile:  7.5\n"
     ]
    }
   ],
   "source": [
    "index = df['dia_ly']\n",
    "print('Dia ly:')\n",
    "print ('min: ',index.min())\n",
    "print ('max: ',index.max())\n",
    "print ('mean: ',index.mean())\n",
    "print ('median: ',index.quantile(0.5))\n",
    "print ('1st quartile: ',index.quantile(0.25))\n",
    "print ('3rd quartile: ',index.quantile(0.75))\n",
    "index = df['lich_su']\n",
    "print('Lich su:')\n",
    "print ('min: ',index.min())\n",
    "print ('max: ',index.max())\n",
    "print ('mean: ',index.mean())\n",
    "print ('median: ',index.quantile(0.5))\n",
    "print ('1st quartile: ',index.quantile(0.25))\n",
    "print ('3rd quartile: ',index.quantile(0.75))"
   ]
  },
  {
   "attachments": {},
   "cell_type": "markdown",
   "metadata": {},
   "source": [
    "- Địa lý: \n",
    "    - Hầu hết học sinh có điểm từ 3.2 đến 10, trong đó 50% số học sinh đạt điểm từ 5.75 đến 7.5 và 25% số học sinh trên 7.5, chỉ 1 vài trường hợp dưới 3.2\n",
    "    - Điểm số của 75% số học sinh từ 5.75 trở lên và biến thiên điểm số IQR là 1.75, điều này cho thấy đề môn này khá\n",
    "    - Các câu hỏi khó từ thực tế bắt đầu từ mức khá giỏi dẫn đến khoảng biến thiên ở mức 5.75 đến 7.5\n",
    "- Lịch sử: \n",
    "    - Hầu hết học sinh có điểm từ 2 đến 10, trong đó 50% số học sinh đạt điểm từ 5.25 đến 7.5 và 25% số học sinh trên 7.5, chỉ 1 vài trường hợp dưới 2\n",
    "    - Điểm số của 75% số học sinh từ 5.25 trở lên và biến thiên điểm số IQR là 2.25 cho thấy đề môn này khá \n",
    "    - Các câu hỏi bẫy, dễ nhầm lẫn bắt đầu từ mức khá giỏi dẫn tới khoảng biến thiên ở mức 5.25 đến 7.5"
   ]
  },
  {
   "attachments": {},
   "cell_type": "markdown",
   "metadata": {},
   "source": [
    "#### *1.7 Môn Giáo dục công dân*"
   ]
  },
  {
   "cell_type": "code",
   "execution_count": 12,
   "metadata": {},
   "outputs": [
    {
     "name": "stdout",
     "output_type": "stream",
     "text": [
      "Giao duc cong dan:\n",
      "min:  0.0\n",
      "max:  10.0\n",
      "mean:  8.033266407260486\n",
      "median:  8.25\n",
      "1st quartile:  7.5\n",
      "3rd quartile:  8.75\n"
     ]
    }
   ],
   "source": [
    "index = df['gdcd']\n",
    "print('Giao duc cong dan:')\n",
    "print ('min: ',index.min())\n",
    "print ('max: ',index.max())\n",
    "print ('mean: ',index.mean())\n",
    "print ('median: ',index.quantile(0.5))\n",
    "print ('1st quartile: ',index.quantile(0.25))\n",
    "print ('3rd quartile: ',index.quantile(0.75))"
   ]
  },
  {
   "attachments": {},
   "cell_type": "markdown",
   "metadata": {},
   "source": [
    "- Hầu hết học sinh có điểm từ 5.6 đến 10, trong đó 50% số học sinh đạt điểm từ 7.5 đến 8.75 và 25% số học sinh trên 8.75, chỉ 1 vài trường hợp dưới 5.6\n",
    "- Điểm số của 75% số học sinh từ 7.5 trở lên và hơn 50% trên 8.25, điều này cho thấy đề môn nầy rất dễ\n",
    "- Câu hỏi vận dụng, phân tích tình huống phức tạp, đáp án bẫy bắt đầu từ mức giỏi dẫn tới khoảng biến thiên ở mức 7.5 đến 8.75"
   ]
  },
  {
   "attachments": {},
   "cell_type": "markdown",
   "metadata": {},
   "source": [
    "#### Kết luận\n",
    "- Khoảng biến thiên điểm số IQR các môn khác nhau:\n",
    "    - Khoảng dài như Toán 2.4, Ngoại ngữ 3, Hoá học 2.5: là đo đề bài thường có nhiều câu nhiễu bẫy học sinh và câu chuyên sâu, khó dẫn đến phân bố điểm số IQR dài ra do trình độ và độ tinh ý của học sinh\n",
    "    - Khoảng vừa như Sinh học 2, Vật lí 2: là các câu nhiễu bẫy học sinh vừa phải, câu hỏi chuyên sâu, phức tạp vừa phải nên phân bố điểm số IQR vừa phải\n",
    "    - Khoảng ngắn như Giáo dục công dân 1.25: là đo đề bài thường có đáp án có thể tìm từ các câu hỏi hoặc tài liệu (Atlas Địa lý) hoặc rất ít câu nhiễu bẫy, nên phân bố điểm số IQR nhỏ"
   ]
  }
 ],
 "metadata": {
  "kernelspec": {
   "display_name": "Python 3",
   "language": "python",
   "name": "python3"
  },
  "language_info": {
   "codemirror_mode": {
    "name": "ipython",
    "version": 3
   },
   "file_extension": ".py",
   "mimetype": "text/x-python",
   "name": "python",
   "nbconvert_exporter": "python",
   "pygments_lexer": "ipython3",
   "version": "3.10.2 (tags/v3.10.2:a58ebcc, Jan 17 2022, 14:12:15) [MSC v.1929 64 bit (AMD64)]"
  },
  "orig_nbformat": 4,
  "vscode": {
   "interpreter": {
    "hash": "31fb944b860219ef80bc2cb9cabbcd9d76b579bfb7e3a9897aa56f3148e5138b"
   }
  }
 },
 "nbformat": 4,
 "nbformat_minor": 2
}
