{
 "cells": [
  {
   "attachments": {},
   "cell_type": "markdown",
   "metadata": {},
   "source": [
    "# **Độ tương quan - Correlation**"
   ]
  },
  {
   "cell_type": "code",
   "execution_count": 2,
   "metadata": {},
   "outputs": [],
   "source": [
    "import pandas as pd\n",
    "import matplotlib.pyplot as plt\n",
    "import seaborn as sb"
   ]
  },
  {
   "cell_type": "code",
   "execution_count": 3,
   "metadata": {},
   "outputs": [
    {
     "data": {
      "text/html": [
       "<div>\n",
       "<style scoped>\n",
       "    .dataframe tbody tr th:only-of-type {\n",
       "        vertical-align: middle;\n",
       "    }\n",
       "\n",
       "    .dataframe tbody tr th {\n",
       "        vertical-align: top;\n",
       "    }\n",
       "\n",
       "    .dataframe thead th {\n",
       "        text-align: right;\n",
       "    }\n",
       "</style>\n",
       "<table border=\"1\" class=\"dataframe\">\n",
       "  <thead>\n",
       "    <tr style=\"text-align: right;\">\n",
       "      <th></th>\n",
       "      <th>cum</th>\n",
       "      <th>sbd</th>\n",
       "      <th>toan</th>\n",
       "      <th>ngu_van</th>\n",
       "      <th>ngoai_ngu</th>\n",
       "      <th>vat_li</th>\n",
       "      <th>hoa_hoc</th>\n",
       "      <th>sinh_hoc</th>\n",
       "      <th>lich_su</th>\n",
       "      <th>dia_ly</th>\n",
       "      <th>gdcd</th>\n",
       "      <th>phan_loai</th>\n",
       "    </tr>\n",
       "  </thead>\n",
       "  <tbody>\n",
       "    <tr>\n",
       "      <th>0</th>\n",
       "      <td>1</td>\n",
       "      <td>1000001</td>\n",
       "      <td>3.6</td>\n",
       "      <td>5.00</td>\n",
       "      <td>4.0</td>\n",
       "      <td>NaN</td>\n",
       "      <td>NaN</td>\n",
       "      <td>NaN</td>\n",
       "      <td>2.75</td>\n",
       "      <td>6.0</td>\n",
       "      <td>8.75</td>\n",
       "      <td>THPT_KHXH</td>\n",
       "    </tr>\n",
       "    <tr>\n",
       "      <th>1</th>\n",
       "      <td>1</td>\n",
       "      <td>1000002</td>\n",
       "      <td>8.4</td>\n",
       "      <td>6.75</td>\n",
       "      <td>7.6</td>\n",
       "      <td>NaN</td>\n",
       "      <td>NaN</td>\n",
       "      <td>NaN</td>\n",
       "      <td>8.50</td>\n",
       "      <td>7.5</td>\n",
       "      <td>8.25</td>\n",
       "      <td>THPT_KHXH</td>\n",
       "    </tr>\n",
       "    <tr>\n",
       "      <th>2</th>\n",
       "      <td>1</td>\n",
       "      <td>1000003</td>\n",
       "      <td>5.8</td>\n",
       "      <td>7.50</td>\n",
       "      <td>5.0</td>\n",
       "      <td>NaN</td>\n",
       "      <td>NaN</td>\n",
       "      <td>NaN</td>\n",
       "      <td>7.25</td>\n",
       "      <td>5.5</td>\n",
       "      <td>8.75</td>\n",
       "      <td>THPT_KHXH</td>\n",
       "    </tr>\n",
       "    <tr>\n",
       "      <th>3</th>\n",
       "      <td>1</td>\n",
       "      <td>1000004</td>\n",
       "      <td>7.4</td>\n",
       "      <td>7.50</td>\n",
       "      <td>8.6</td>\n",
       "      <td>NaN</td>\n",
       "      <td>NaN</td>\n",
       "      <td>NaN</td>\n",
       "      <td>7.50</td>\n",
       "      <td>6.5</td>\n",
       "      <td>7.50</td>\n",
       "      <td>THPT_KHXH</td>\n",
       "    </tr>\n",
       "    <tr>\n",
       "      <th>4</th>\n",
       "      <td>1</td>\n",
       "      <td>1000005</td>\n",
       "      <td>7.2</td>\n",
       "      <td>8.50</td>\n",
       "      <td>9.0</td>\n",
       "      <td>NaN</td>\n",
       "      <td>NaN</td>\n",
       "      <td>NaN</td>\n",
       "      <td>8.00</td>\n",
       "      <td>8.5</td>\n",
       "      <td>8.25</td>\n",
       "      <td>THPT_KHXH</td>\n",
       "    </tr>\n",
       "  </tbody>\n",
       "</table>\n",
       "</div>"
      ],
      "text/plain": [
       "   cum      sbd  toan  ngu_van  ngoai_ngu  vat_li  hoa_hoc  sinh_hoc  lich_su  \\\n",
       "0    1  1000001   3.6     5.00        4.0     NaN      NaN       NaN     2.75   \n",
       "1    1  1000002   8.4     6.75        7.6     NaN      NaN       NaN     8.50   \n",
       "2    1  1000003   5.8     7.50        5.0     NaN      NaN       NaN     7.25   \n",
       "3    1  1000004   7.4     7.50        8.6     NaN      NaN       NaN     7.50   \n",
       "4    1  1000005   7.2     8.50        9.0     NaN      NaN       NaN     8.00   \n",
       "\n",
       "   dia_ly  gdcd  phan_loai  \n",
       "0     6.0  8.75  THPT_KHXH  \n",
       "1     7.5  8.25  THPT_KHXH  \n",
       "2     5.5  8.75  THPT_KHXH  \n",
       "3     6.5  7.50  THPT_KHXH  \n",
       "4     8.5  8.25  THPT_KHXH  "
      ]
     },
     "execution_count": 3,
     "metadata": {},
     "output_type": "execute_result"
    }
   ],
   "source": [
    "df = pd.read_csv('new_data.csv')\n",
    "df.head()"
   ]
  },
  {
   "cell_type": "code",
   "execution_count": 4,
   "metadata": {},
   "outputs": [
    {
     "name": "stdout",
     "output_type": "stream",
     "text": [
      "['cum', 'sbd', 'toan', 'ngu_van', 'ngoai_ngu', 'vat_li', 'hoa_hoc', 'sinh_hoc', 'lich_su', 'dia_ly', 'gdcd', 'phan_loai']\n"
     ]
    }
   ],
   "source": [
    "header = df.columns.values.tolist()\n",
    "print(header)"
   ]
  },
  {
   "attachments": {},
   "cell_type": "markdown",
   "metadata": {},
   "source": [
    "### **1. Khái niệm về độ tương quan dữ liệu:**"
   ]
  },
  {
   "cell_type": "markdown",
   "metadata": {},
   "source": [
    "Độ tương quan là chỉ số thống kê đo lường mực độ mạnh yếu của mối quan hệ giữa hai biến số, trong đó:\n",
    "-   Hệ số tương quan có giá trị từ -1.0 đến 1.0. Kết quả được tính lớn hơn 1.0 hoặc nhỏ hơn -1.0 có nghĩa là có lỗi trong phép đo tương quan.\n",
    "-   Hệ số tương quan có giá trị âm cho thấy hai biến số có mối quan hệ nghịch biến hoặc tương quan âm\n",
    "-   Hệ số tương quan có giá trị dương cho thấy hai biến số có mối quan hệ đồng biến hoặc tương quan dương\n",
    "-   Tương quan bằng 0 cho thấy hai biến độc lập với nhau\n",
    "Công thức tính độ tương quan Pearson:\n",
    "$$ P_{xy}= \\frac{Cov(x,y)}{σ_x σ_y} $$\n",
    "Trong đó:\n",
    "- Pxy: Hệ tương quan Pearson\n",
    "- Cov(x,y): Hiệp phương sai của biến x và y\n",
    "- σx: Độ lệch chuẩn của x\n",
    "- σy: Độ lẹch chuẩn của y\n"
   ]
  },
  {
   "attachments": {},
   "cell_type": "markdown",
   "metadata": {},
   "source": [
    "### **2.1 Dữ liệu nhóm Khoa học tự nhiên**"
   ]
  },
  {
   "cell_type": "code",
   "execution_count": 5,
   "metadata": {},
   "outputs": [
    {
     "data": {
      "text/html": [
       "<div>\n",
       "<style scoped>\n",
       "    .dataframe tbody tr th:only-of-type {\n",
       "        vertical-align: middle;\n",
       "    }\n",
       "\n",
       "    .dataframe tbody tr th {\n",
       "        vertical-align: top;\n",
       "    }\n",
       "\n",
       "    .dataframe thead th {\n",
       "        text-align: right;\n",
       "    }\n",
       "</style>\n",
       "<table border=\"1\" class=\"dataframe\">\n",
       "  <thead>\n",
       "    <tr style=\"text-align: right;\">\n",
       "      <th></th>\n",
       "      <th>toan</th>\n",
       "      <th>ngu_van</th>\n",
       "      <th>ngoai_ngu</th>\n",
       "      <th>vat_li</th>\n",
       "      <th>hoa_hoc</th>\n",
       "      <th>sinh_hoc</th>\n",
       "    </tr>\n",
       "  </thead>\n",
       "  <tbody>\n",
       "    <tr>\n",
       "      <th>10</th>\n",
       "      <td>6.4</td>\n",
       "      <td>7.25</td>\n",
       "      <td>7.6</td>\n",
       "      <td>3.50</td>\n",
       "      <td>8.00</td>\n",
       "      <td>3.00</td>\n",
       "    </tr>\n",
       "    <tr>\n",
       "      <th>14</th>\n",
       "      <td>8.6</td>\n",
       "      <td>7.25</td>\n",
       "      <td>9.6</td>\n",
       "      <td>8.25</td>\n",
       "      <td>3.25</td>\n",
       "      <td>4.25</td>\n",
       "    </tr>\n",
       "    <tr>\n",
       "      <th>15</th>\n",
       "      <td>7.8</td>\n",
       "      <td>5.75</td>\n",
       "      <td>8.4</td>\n",
       "      <td>4.25</td>\n",
       "      <td>8.00</td>\n",
       "      <td>4.75</td>\n",
       "    </tr>\n",
       "    <tr>\n",
       "      <th>16</th>\n",
       "      <td>8.6</td>\n",
       "      <td>6.25</td>\n",
       "      <td>7.0</td>\n",
       "      <td>7.00</td>\n",
       "      <td>3.50</td>\n",
       "      <td>3.75</td>\n",
       "    </tr>\n",
       "    <tr>\n",
       "      <th>22</th>\n",
       "      <td>6.8</td>\n",
       "      <td>6.00</td>\n",
       "      <td>6.8</td>\n",
       "      <td>2.50</td>\n",
       "      <td>5.50</td>\n",
       "      <td>3.00</td>\n",
       "    </tr>\n",
       "  </tbody>\n",
       "</table>\n",
       "</div>"
      ],
      "text/plain": [
       "    toan  ngu_van  ngoai_ngu  vat_li  hoa_hoc  sinh_hoc\n",
       "10   6.4     7.25        7.6    3.50     8.00      3.00\n",
       "14   8.6     7.25        9.6    8.25     3.25      4.25\n",
       "15   7.8     5.75        8.4    4.25     8.00      4.75\n",
       "16   8.6     6.25        7.0    7.00     3.50      3.75\n",
       "22   6.8     6.00        6.8    2.50     5.50      3.00"
      ]
     },
     "execution_count": 5,
     "metadata": {},
     "output_type": "execute_result"
    }
   ],
   "source": [
    "data_khtn = df.loc[df['vat_li'].notnull() & df['hoa_hoc'].notnull() & df['sinh_hoc'].notnull(), ['toan', 'ngu_van', 'ngoai_ngu', 'vat_li','hoa_hoc', 'sinh_hoc']]\n",
    "khtn = data_khtn.corr()\n",
    "data_khtn.head()"
   ]
  },
  {
   "attachments": {},
   "cell_type": "markdown",
   "metadata": {},
   "source": [
    "#### *Heatmap độ tương quan giữa các môn của Khoa học tự nhiên*"
   ]
  },
  {
   "cell_type": "code",
   "execution_count": 6,
   "metadata": {},
   "outputs": [
    {
     "data": {
      "image/png": "[encoded data removed]",
      "text/plain": [
       "<Figure size 640x480 with 2 Axes>"
      ]
     },
     "metadata": {},
     "output_type": "display_data"
    }
   ],
   "source": [
    "hm = sb.heatmap(data = khtn, annot = True, cmap = 'Blues')\n",
    "plt.title('Correlation between KHTN')\n",
    "plt.show()"
   ]
  },
  {
   "attachments": {},
   "cell_type": "markdown",
   "metadata": {},
   "source": [
    "#### *Nhận xét độ tương quan giứa các môn của Khoa học tự nhiên*\n",
    "-   Độ tương quan cao: 0.57 (toan | vat_li)\n",
    "    - Toán thuộc môn vận dụng tư duy phân tích, công thức để giải bài toán và Vật lí cũng thế, nên thường một học sinh giỏi toán sẽ giỏi cả vật lí hay nếu xét điểm toán tăng lên thì điểm vật lý cũng sẽ tăng.\n",
    "    - Và việc xét đại học với tổ hợp của chúng thường là A00 (Toán, Lý, Hoá), A01 (Toán, Lý, Anh) nên độ tương quan giữa chúng rất cao\n",
    " \n",
    "-   Độ tương quan thấp: 0.081 (hoa_hoc | ngoai_ngu): \n",
    "    - Hoá học, muốn học tốt môn này cần phải nhớ rất nhiều loại/nhóm chất: tên, đặc tính từng loại từng nhóm và các phản ứng với các loại/nhóm khác bao gồm màu sắc hiện tượng dẫn đên việc ghi nhớ và phân tích tập trung mất nhiều thời gian và thường các học sinh giỏi về môn này thường rơi vào khối Khoa học tư nhiên nên không có nhiều thời gian cho môn Ngoại ngữ vì môn Ngoại ngữ cũng tương như Hoá là môn cần giành nhiều thời gian. \n",
    "    - Và việc xét đại học với tổ hợp có môn Hoá học thường là A00 (Toán, Lý, Hoá) và B00 (Toán, Hoá, Sinh) (điều này thể hiện bởi độ tương quan của Hoá với Toán 0.48, Lý 0.38 và Sinh 0.42), viêc xét tổ hợp như D07 (Toán, Hoá, Anh) thường rất ít trường xét. nên độ tương quan giữa Hoá học và Ngoại ngữ là tương đối thấp và gần như không liên quan tới nhau.\n",
    "-   Ở đây không có độ tương quan nghịch vì đây là dữ liệu điểm thi. \n",
    "    - Tất cả thí sinh đều mong muốn điểm của mình cao nhất có thể dù là môn nào đi nữa. Do đó, không có chuyện môn này thấp thì môn kia phải cao hay ngược lại.\n",
    "    - Thí sinh có điểm môn A thấp và một môn B bất kì thấp thì cũng là bình thường. Điểm thấp hay cao là do sự cố gắng của thí sinh quyết định."
   ]
  },
  {
   "attachments": {},
   "cell_type": "markdown",
   "metadata": {},
   "source": [
    "### **2.2 Dữ liệu nhóm Khoa học xã hội**"
   ]
  },
  {
   "cell_type": "code",
   "execution_count": 32,
   "metadata": {},
   "outputs": [
    {
     "data": {
      "text/html": [
       "<div>\n",
       "<style scoped>\n",
       "    .dataframe tbody tr th:only-of-type {\n",
       "        vertical-align: middle;\n",
       "    }\n",
       "\n",
       "    .dataframe tbody tr th {\n",
       "        vertical-align: top;\n",
       "    }\n",
       "\n",
       "    .dataframe thead th {\n",
       "        text-align: right;\n",
       "    }\n",
       "</style>\n",
       "<table border=\"1\" class=\"dataframe\">\n",
       "  <thead>\n",
       "    <tr style=\"text-align: right;\">\n",
       "      <th></th>\n",
       "      <th>toan</th>\n",
       "      <th>ngu_van</th>\n",
       "      <th>ngoai_ngu</th>\n",
       "      <th>dia_ly</th>\n",
       "      <th>lich_su</th>\n",
       "      <th>gdcd</th>\n",
       "    </tr>\n",
       "  </thead>\n",
       "  <tbody>\n",
       "    <tr>\n",
       "      <th>0</th>\n",
       "      <td>3.6</td>\n",
       "      <td>5.00</td>\n",
       "      <td>4.0</td>\n",
       "      <td>6.0</td>\n",
       "      <td>2.75</td>\n",
       "      <td>8.75</td>\n",
       "    </tr>\n",
       "    <tr>\n",
       "      <th>1</th>\n",
       "      <td>8.4</td>\n",
       "      <td>6.75</td>\n",
       "      <td>7.6</td>\n",
       "      <td>7.5</td>\n",
       "      <td>8.50</td>\n",
       "      <td>8.25</td>\n",
       "    </tr>\n",
       "    <tr>\n",
       "      <th>2</th>\n",
       "      <td>5.8</td>\n",
       "      <td>7.50</td>\n",
       "      <td>5.0</td>\n",
       "      <td>5.5</td>\n",
       "      <td>7.25</td>\n",
       "      <td>8.75</td>\n",
       "    </tr>\n",
       "    <tr>\n",
       "      <th>3</th>\n",
       "      <td>7.4</td>\n",
       "      <td>7.50</td>\n",
       "      <td>8.6</td>\n",
       "      <td>6.5</td>\n",
       "      <td>7.50</td>\n",
       "      <td>7.50</td>\n",
       "    </tr>\n",
       "    <tr>\n",
       "      <th>4</th>\n",
       "      <td>7.2</td>\n",
       "      <td>8.50</td>\n",
       "      <td>9.0</td>\n",
       "      <td>8.5</td>\n",
       "      <td>8.00</td>\n",
       "      <td>8.25</td>\n",
       "    </tr>\n",
       "  </tbody>\n",
       "</table>\n",
       "</div>"
      ],
      "text/plain": [
       "   toan  ngu_van  ngoai_ngu  dia_ly  lich_su  gdcd\n",
       "0   3.6     5.00        4.0     6.0     2.75  8.75\n",
       "1   8.4     6.75        7.6     7.5     8.50  8.25\n",
       "2   5.8     7.50        5.0     5.5     7.25  8.75\n",
       "3   7.4     7.50        8.6     6.5     7.50  7.50\n",
       "4   7.2     8.50        9.0     8.5     8.00  8.25"
      ]
     },
     "execution_count": 32,
     "metadata": {},
     "output_type": "execute_result"
    }
   ],
   "source": [
    "data_khxh = df.loc[df['dia_ly'].notnull() & df['lich_su'].notnull() & df['gdcd'].notnull(), ['toan', 'ngu_van', 'ngoai_ngu', 'dia_ly', 'lich_su', 'gdcd']]\n",
    "khxh= data_khxh.corr()\n",
    "data_khxh.head()"
   ]
  },
  {
   "attachments": {},
   "cell_type": "markdown",
   "metadata": {},
   "source": [
    "#### *Heatmap độ tương quan giữa các môn của Khoa học xã hội*"
   ]
  },
  {
   "cell_type": "code",
   "execution_count": 34,
   "metadata": {},
   "outputs": [
    {
     "data": {
      "image/png": "[encoded data removed]",
      "text/plain": [
       "<Figure size 432x288 with 2 Axes>"
      ]
     },
     "metadata": {
      "needs_background": "light"
     },
     "output_type": "display_data"
    }
   ],
   "source": [
    "hm = sb.heatmap(data = khxh, annot = True)\n",
    "plt.title('Correlation between KHXH')\n",
    "plt.show()"
   ]
  },
  {
   "attachments": {},
   "cell_type": "markdown",
   "metadata": {},
   "source": [
    "#### *Nhận xét độ tương quan giữa các môn của Khoa học xã hội*\n",
    "- Các chỉ số có ý nghĩa gần như tương tự với Khoa học tự nhiên\n",
    "- Độ tương quan cao: 0.63 (dia_ly | lich_su): \n",
    "    - Địa lý và lịch sử là 2 môn xét đại học thuộc khoa học xã hội và cần có một trí nhớ tốt để ghi nhớ nên học sinh giỏi địa lý sẽ giỏi lịch sử.\n",
    "    - Và việc xét đại học với tổ hợp của chúng thường là C00 (Văn, Sử, Địa), A07 (Toán, Sử, Địa) nên độ tương quan giữa chúng là rất cao\n",
    "- Ở biểu đồ của nhóm Khoa học xã hội ta thấy gần như độ tương quan không chênh lệch nhiều\n",
    "    - Do đa phần học sinh giỏi ở các môn này có khả năng ghi nhớ tốt nên điểm thành phần các sẽ môn tốt.\n",
    "    - Và việc xét đại học với tổ hợp KHXH , Toán, Văn và Anh thường có nhiều tổ hợp và được nhiều trường xét chọn là A07 (Toán, Sử, Địa), C00 (Văn, Sử, Địa), C04(Văn, Toán, Địa), D01(Văn, Toán, Anh)....  \n"
   ]
  },
  {
   "attachments": {},
   "cell_type": "markdown",
   "metadata": {},
   "source": [
    "### **3. Kết luận**\n",
    "-   Toán, Lí, Hoá có độ tương quan rất cao từ 0.38 đến 0.57 nên ta thấy một học sinh giỏi Toán thì sẽ giỏi Lý, Hoá. Ngược lại nếu môn Lí hoặc Hoá giỏi thì các môn còn lại sẽ giỏi\n",
    "-   Toán, Ngữ văn có độ tương quan 0.54 và là 2 môn bắt buộc trong xét tốt nghiệp thpt nên hầu hết mọi học sinh đều chú tâm, nên ta thấy nếu xét điểm Toán tăng dần thì điểm Ngữ văn sẽ tăng dần và ngược lại.\n",
    "-   Ngoại ngữ (cụ thể là Tiếng Anh), có độ tương quan cao với Toán 0.58, Văn 0.49, Lý 0.32 là trong các môn xét tốt nghiệp cũng như nằm trong các tổ hợp chính xét tuyển đại học như A01 (Toán, Lý, Anh), D01 (Toán, Văn, Anh)\n",
    "-   Các cặp môn có độ tương quan cao nằm ở việc cách thức học tập giống nhau, hình thức: xét tốt nghiệp hoặc thuộc tổ hợp môn của chúng các trường đại học ưa xét tuyển. Và các cặp môn có độ tương quan thấp nằm ở cách thức học tập khác nhau, tổ hợp môn của chúng rất ít được các trường đại học xét tuyển "
   ]
  }
 ],
 "metadata": {
  "kernelspec": {
   "display_name": "Python 3",
   "language": "python",
   "name": "python3"
  },
  "language_info": {
   "codemirror_mode": {
    "name": "ipython",
    "version": 3
   },
   "file_extension": ".py",
   "mimetype": "text/x-python",
   "name": "python",
   "nbconvert_exporter": "python",
   "pygments_lexer": "ipython3",
   "version": "3.10.2 (tags/v3.10.2:a58ebcc, Jan 17 2022, 14:12:15) [MSC v.1929 64 bit (AMD64)]"
  },
  "orig_nbformat": 4,
  "vscode": {
   "interpreter": {
    "hash": "0c3f1a7d561c5e7000fe22e0f69c159d058d18792b6544b4cdea00d1b72ad225"
   }
  }
 },
 "nbformat": 4,
 "nbformat_minor": 2
}
